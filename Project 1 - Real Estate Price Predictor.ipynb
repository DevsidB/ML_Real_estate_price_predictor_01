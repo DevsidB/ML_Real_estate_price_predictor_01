{
 "cells": [
  {
   "cell_type": "markdown",
   "id": "1e9dabfd",
   "metadata": {},
   "source": [
    "# Some Mandatory things to do before starting to work with Data "
   ]
  },
  {
   "cell_type": "code",
   "execution_count": 1,
   "id": "301a1500",
   "metadata": {},
   "outputs": [],
   "source": [
    "import pandas as pd"
   ]
  },
  {
   "cell_type": "code",
   "execution_count": 2,
   "id": "32d67cbf",
   "metadata": {},
   "outputs": [],
   "source": [
    "housing = pd.read_csv(\"data.csv\")"
   ]
  },
  {
   "cell_type": "code",
   "execution_count": 3,
   "id": "f5ff2f09",
   "metadata": {},
   "outputs": [
    {
     "data": {
      "text/plain": [
       "(506, 14)"
      ]
     },
     "execution_count": 3,
     "metadata": {},
     "output_type": "execute_result"
    }
   ],
   "source": [
    "housing.shape"
   ]
  },
  {
   "cell_type": "code",
   "execution_count": 4,
   "id": "3cf9b184",
   "metadata": {},
   "outputs": [
    {
     "data": {
      "text/html": [
       "<div>\n",
       "<style scoped>\n",
       "    .dataframe tbody tr th:only-of-type {\n",
       "        vertical-align: middle;\n",
       "    }\n",
       "\n",
       "    .dataframe tbody tr th {\n",
       "        vertical-align: top;\n",
       "    }\n",
       "\n",
       "    .dataframe thead th {\n",
       "        text-align: right;\n",
       "    }\n",
       "</style>\n",
       "<table border=\"1\" class=\"dataframe\">\n",
       "  <thead>\n",
       "    <tr style=\"text-align: right;\">\n",
       "      <th></th>\n",
       "      <th>CRIM</th>\n",
       "      <th>ZN</th>\n",
       "      <th>INDUS</th>\n",
       "      <th>CHAS</th>\n",
       "      <th>NOX</th>\n",
       "      <th>RM</th>\n",
       "      <th>AGE</th>\n",
       "      <th>DIS</th>\n",
       "      <th>RAD</th>\n",
       "      <th>TAX</th>\n",
       "      <th>PTRATIO</th>\n",
       "      <th>B</th>\n",
       "      <th>LSTAT</th>\n",
       "      <th>MEDV</th>\n",
       "    </tr>\n",
       "  </thead>\n",
       "  <tbody>\n",
       "    <tr>\n",
       "      <th>0</th>\n",
       "      <td>0.00632</td>\n",
       "      <td>18.0</td>\n",
       "      <td>2.31</td>\n",
       "      <td>0</td>\n",
       "      <td>0.538</td>\n",
       "      <td>6.575</td>\n",
       "      <td>65.2</td>\n",
       "      <td>4.0900</td>\n",
       "      <td>1</td>\n",
       "      <td>296</td>\n",
       "      <td>15.3</td>\n",
       "      <td>396.90</td>\n",
       "      <td>4.98</td>\n",
       "      <td>24.0</td>\n",
       "    </tr>\n",
       "    <tr>\n",
       "      <th>1</th>\n",
       "      <td>0.02731</td>\n",
       "      <td>0.0</td>\n",
       "      <td>7.07</td>\n",
       "      <td>0</td>\n",
       "      <td>0.469</td>\n",
       "      <td>6.421</td>\n",
       "      <td>78.9</td>\n",
       "      <td>4.9671</td>\n",
       "      <td>2</td>\n",
       "      <td>242</td>\n",
       "      <td>17.8</td>\n",
       "      <td>396.90</td>\n",
       "      <td>9.14</td>\n",
       "      <td>21.6</td>\n",
       "    </tr>\n",
       "    <tr>\n",
       "      <th>2</th>\n",
       "      <td>0.02729</td>\n",
       "      <td>0.0</td>\n",
       "      <td>7.07</td>\n",
       "      <td>0</td>\n",
       "      <td>0.469</td>\n",
       "      <td>7.185</td>\n",
       "      <td>61.1</td>\n",
       "      <td>4.9671</td>\n",
       "      <td>2</td>\n",
       "      <td>242</td>\n",
       "      <td>17.8</td>\n",
       "      <td>392.83</td>\n",
       "      <td>4.03</td>\n",
       "      <td>34.7</td>\n",
       "    </tr>\n",
       "    <tr>\n",
       "      <th>3</th>\n",
       "      <td>0.03237</td>\n",
       "      <td>0.0</td>\n",
       "      <td>2.18</td>\n",
       "      <td>0</td>\n",
       "      <td>0.458</td>\n",
       "      <td>6.998</td>\n",
       "      <td>45.8</td>\n",
       "      <td>6.0622</td>\n",
       "      <td>3</td>\n",
       "      <td>222</td>\n",
       "      <td>18.7</td>\n",
       "      <td>394.63</td>\n",
       "      <td>2.94</td>\n",
       "      <td>33.4</td>\n",
       "    </tr>\n",
       "    <tr>\n",
       "      <th>4</th>\n",
       "      <td>0.06905</td>\n",
       "      <td>0.0</td>\n",
       "      <td>2.18</td>\n",
       "      <td>0</td>\n",
       "      <td>0.458</td>\n",
       "      <td>7.147</td>\n",
       "      <td>54.2</td>\n",
       "      <td>6.0622</td>\n",
       "      <td>3</td>\n",
       "      <td>222</td>\n",
       "      <td>18.7</td>\n",
       "      <td>396.90</td>\n",
       "      <td>5.33</td>\n",
       "      <td>36.2</td>\n",
       "    </tr>\n",
       "    <tr>\n",
       "      <th>...</th>\n",
       "      <td>...</td>\n",
       "      <td>...</td>\n",
       "      <td>...</td>\n",
       "      <td>...</td>\n",
       "      <td>...</td>\n",
       "      <td>...</td>\n",
       "      <td>...</td>\n",
       "      <td>...</td>\n",
       "      <td>...</td>\n",
       "      <td>...</td>\n",
       "      <td>...</td>\n",
       "      <td>...</td>\n",
       "      <td>...</td>\n",
       "      <td>...</td>\n",
       "    </tr>\n",
       "    <tr>\n",
       "      <th>501</th>\n",
       "      <td>0.06263</td>\n",
       "      <td>0.0</td>\n",
       "      <td>11.93</td>\n",
       "      <td>0</td>\n",
       "      <td>0.573</td>\n",
       "      <td>6.593</td>\n",
       "      <td>69.1</td>\n",
       "      <td>2.4786</td>\n",
       "      <td>1</td>\n",
       "      <td>273</td>\n",
       "      <td>21.0</td>\n",
       "      <td>391.99</td>\n",
       "      <td>9.67</td>\n",
       "      <td>22.4</td>\n",
       "    </tr>\n",
       "    <tr>\n",
       "      <th>502</th>\n",
       "      <td>0.04527</td>\n",
       "      <td>0.0</td>\n",
       "      <td>11.93</td>\n",
       "      <td>0</td>\n",
       "      <td>0.573</td>\n",
       "      <td>6.120</td>\n",
       "      <td>76.7</td>\n",
       "      <td>2.2875</td>\n",
       "      <td>1</td>\n",
       "      <td>273</td>\n",
       "      <td>21.0</td>\n",
       "      <td>396.90</td>\n",
       "      <td>9.08</td>\n",
       "      <td>20.6</td>\n",
       "    </tr>\n",
       "    <tr>\n",
       "      <th>503</th>\n",
       "      <td>0.06076</td>\n",
       "      <td>0.0</td>\n",
       "      <td>11.93</td>\n",
       "      <td>0</td>\n",
       "      <td>0.573</td>\n",
       "      <td>6.976</td>\n",
       "      <td>91.0</td>\n",
       "      <td>2.1675</td>\n",
       "      <td>1</td>\n",
       "      <td>273</td>\n",
       "      <td>21.0</td>\n",
       "      <td>396.90</td>\n",
       "      <td>5.64</td>\n",
       "      <td>23.9</td>\n",
       "    </tr>\n",
       "    <tr>\n",
       "      <th>504</th>\n",
       "      <td>0.10959</td>\n",
       "      <td>0.0</td>\n",
       "      <td>11.93</td>\n",
       "      <td>0</td>\n",
       "      <td>0.573</td>\n",
       "      <td>6.794</td>\n",
       "      <td>89.3</td>\n",
       "      <td>2.3889</td>\n",
       "      <td>1</td>\n",
       "      <td>273</td>\n",
       "      <td>21.0</td>\n",
       "      <td>393.45</td>\n",
       "      <td>6.48</td>\n",
       "      <td>22.0</td>\n",
       "    </tr>\n",
       "    <tr>\n",
       "      <th>505</th>\n",
       "      <td>0.04741</td>\n",
       "      <td>0.0</td>\n",
       "      <td>11.93</td>\n",
       "      <td>0</td>\n",
       "      <td>0.573</td>\n",
       "      <td>6.030</td>\n",
       "      <td>80.8</td>\n",
       "      <td>2.5050</td>\n",
       "      <td>1</td>\n",
       "      <td>273</td>\n",
       "      <td>21.0</td>\n",
       "      <td>396.90</td>\n",
       "      <td>7.88</td>\n",
       "      <td>11.9</td>\n",
       "    </tr>\n",
       "  </tbody>\n",
       "</table>\n",
       "<p>506 rows × 14 columns</p>\n",
       "</div>"
      ],
      "text/plain": [
       "        CRIM    ZN  INDUS  CHAS    NOX     RM   AGE     DIS  RAD  TAX  \\\n",
       "0    0.00632  18.0   2.31     0  0.538  6.575  65.2  4.0900    1  296   \n",
       "1    0.02731   0.0   7.07     0  0.469  6.421  78.9  4.9671    2  242   \n",
       "2    0.02729   0.0   7.07     0  0.469  7.185  61.1  4.9671    2  242   \n",
       "3    0.03237   0.0   2.18     0  0.458  6.998  45.8  6.0622    3  222   \n",
       "4    0.06905   0.0   2.18     0  0.458  7.147  54.2  6.0622    3  222   \n",
       "..       ...   ...    ...   ...    ...    ...   ...     ...  ...  ...   \n",
       "501  0.06263   0.0  11.93     0  0.573  6.593  69.1  2.4786    1  273   \n",
       "502  0.04527   0.0  11.93     0  0.573  6.120  76.7  2.2875    1  273   \n",
       "503  0.06076   0.0  11.93     0  0.573  6.976  91.0  2.1675    1  273   \n",
       "504  0.10959   0.0  11.93     0  0.573  6.794  89.3  2.3889    1  273   \n",
       "505  0.04741   0.0  11.93     0  0.573  6.030  80.8  2.5050    1  273   \n",
       "\n",
       "     PTRATIO       B  LSTAT  MEDV  \n",
       "0       15.3  396.90   4.98  24.0  \n",
       "1       17.8  396.90   9.14  21.6  \n",
       "2       17.8  392.83   4.03  34.7  \n",
       "3       18.7  394.63   2.94  33.4  \n",
       "4       18.7  396.90   5.33  36.2  \n",
       "..       ...     ...    ...   ...  \n",
       "501     21.0  391.99   9.67  22.4  \n",
       "502     21.0  396.90   9.08  20.6  \n",
       "503     21.0  396.90   5.64  23.9  \n",
       "504     21.0  393.45   6.48  22.0  \n",
       "505     21.0  396.90   7.88  11.9  \n",
       "\n",
       "[506 rows x 14 columns]"
      ]
     },
     "execution_count": 4,
     "metadata": {},
     "output_type": "execute_result"
    }
   ],
   "source": [
    "housing"
   ]
  },
  {
   "cell_type": "code",
   "execution_count": 5,
   "id": "d25530a7",
   "metadata": {},
   "outputs": [
    {
     "name": "stdout",
     "output_type": "stream",
     "text": [
      "<class 'pandas.core.frame.DataFrame'>\n",
      "RangeIndex: 506 entries, 0 to 505\n",
      "Data columns (total 14 columns):\n",
      " #   Column   Non-Null Count  Dtype  \n",
      "---  ------   --------------  -----  \n",
      " 0   CRIM     506 non-null    float64\n",
      " 1   ZN       506 non-null    float64\n",
      " 2   INDUS    506 non-null    float64\n",
      " 3   CHAS     506 non-null    int64  \n",
      " 4   NOX      506 non-null    float64\n",
      " 5   RM       501 non-null    float64\n",
      " 6   AGE      506 non-null    float64\n",
      " 7   DIS      506 non-null    float64\n",
      " 8   RAD      506 non-null    int64  \n",
      " 9   TAX      506 non-null    int64  \n",
      " 10  PTRATIO  506 non-null    float64\n",
      " 11  B        506 non-null    float64\n",
      " 12  LSTAT    506 non-null    float64\n",
      " 13  MEDV     506 non-null    float64\n",
      "dtypes: float64(11), int64(3)\n",
      "memory usage: 55.5 KB\n"
     ]
    }
   ],
   "source": [
    "housing.info() # To verify the missing data if null shows in any of the attributes."
   ]
  },
  {
   "cell_type": "code",
   "execution_count": 6,
   "id": "b85059f0",
   "metadata": {},
   "outputs": [
    {
     "data": {
      "text/html": [
       "<div>\n",
       "<style scoped>\n",
       "    .dataframe tbody tr th:only-of-type {\n",
       "        vertical-align: middle;\n",
       "    }\n",
       "\n",
       "    .dataframe tbody tr th {\n",
       "        vertical-align: top;\n",
       "    }\n",
       "\n",
       "    .dataframe thead th {\n",
       "        text-align: right;\n",
       "    }\n",
       "</style>\n",
       "<table border=\"1\" class=\"dataframe\">\n",
       "  <thead>\n",
       "    <tr style=\"text-align: right;\">\n",
       "      <th></th>\n",
       "      <th>CRIM</th>\n",
       "      <th>ZN</th>\n",
       "      <th>INDUS</th>\n",
       "      <th>CHAS</th>\n",
       "      <th>NOX</th>\n",
       "      <th>RM</th>\n",
       "      <th>AGE</th>\n",
       "      <th>DIS</th>\n",
       "      <th>RAD</th>\n",
       "      <th>TAX</th>\n",
       "      <th>PTRATIO</th>\n",
       "      <th>B</th>\n",
       "      <th>LSTAT</th>\n",
       "      <th>MEDV</th>\n",
       "    </tr>\n",
       "  </thead>\n",
       "  <tbody>\n",
       "    <tr>\n",
       "      <th>count</th>\n",
       "      <td>506.000000</td>\n",
       "      <td>506.000000</td>\n",
       "      <td>506.000000</td>\n",
       "      <td>506.000000</td>\n",
       "      <td>506.000000</td>\n",
       "      <td>501.000000</td>\n",
       "      <td>506.000000</td>\n",
       "      <td>506.000000</td>\n",
       "      <td>506.000000</td>\n",
       "      <td>506.000000</td>\n",
       "      <td>506.000000</td>\n",
       "      <td>506.000000</td>\n",
       "      <td>506.000000</td>\n",
       "      <td>506.000000</td>\n",
       "    </tr>\n",
       "    <tr>\n",
       "      <th>mean</th>\n",
       "      <td>3.613524</td>\n",
       "      <td>11.363636</td>\n",
       "      <td>11.136779</td>\n",
       "      <td>0.069170</td>\n",
       "      <td>0.554695</td>\n",
       "      <td>6.284341</td>\n",
       "      <td>68.574901</td>\n",
       "      <td>3.795043</td>\n",
       "      <td>9.549407</td>\n",
       "      <td>408.237154</td>\n",
       "      <td>18.455534</td>\n",
       "      <td>356.674032</td>\n",
       "      <td>12.653063</td>\n",
       "      <td>22.532806</td>\n",
       "    </tr>\n",
       "    <tr>\n",
       "      <th>std</th>\n",
       "      <td>8.601545</td>\n",
       "      <td>23.322453</td>\n",
       "      <td>6.860353</td>\n",
       "      <td>0.253994</td>\n",
       "      <td>0.115878</td>\n",
       "      <td>0.705587</td>\n",
       "      <td>28.148861</td>\n",
       "      <td>2.105710</td>\n",
       "      <td>8.707259</td>\n",
       "      <td>168.537116</td>\n",
       "      <td>2.164946</td>\n",
       "      <td>91.294864</td>\n",
       "      <td>7.141062</td>\n",
       "      <td>9.197104</td>\n",
       "    </tr>\n",
       "    <tr>\n",
       "      <th>min</th>\n",
       "      <td>0.006320</td>\n",
       "      <td>0.000000</td>\n",
       "      <td>0.460000</td>\n",
       "      <td>0.000000</td>\n",
       "      <td>0.385000</td>\n",
       "      <td>3.561000</td>\n",
       "      <td>2.900000</td>\n",
       "      <td>1.129600</td>\n",
       "      <td>1.000000</td>\n",
       "      <td>187.000000</td>\n",
       "      <td>12.600000</td>\n",
       "      <td>0.320000</td>\n",
       "      <td>1.730000</td>\n",
       "      <td>5.000000</td>\n",
       "    </tr>\n",
       "    <tr>\n",
       "      <th>25%</th>\n",
       "      <td>0.082045</td>\n",
       "      <td>0.000000</td>\n",
       "      <td>5.190000</td>\n",
       "      <td>0.000000</td>\n",
       "      <td>0.449000</td>\n",
       "      <td>5.884000</td>\n",
       "      <td>45.025000</td>\n",
       "      <td>2.100175</td>\n",
       "      <td>4.000000</td>\n",
       "      <td>279.000000</td>\n",
       "      <td>17.400000</td>\n",
       "      <td>375.377500</td>\n",
       "      <td>6.950000</td>\n",
       "      <td>17.025000</td>\n",
       "    </tr>\n",
       "    <tr>\n",
       "      <th>50%</th>\n",
       "      <td>0.256510</td>\n",
       "      <td>0.000000</td>\n",
       "      <td>9.690000</td>\n",
       "      <td>0.000000</td>\n",
       "      <td>0.538000</td>\n",
       "      <td>6.208000</td>\n",
       "      <td>77.500000</td>\n",
       "      <td>3.207450</td>\n",
       "      <td>5.000000</td>\n",
       "      <td>330.000000</td>\n",
       "      <td>19.050000</td>\n",
       "      <td>391.440000</td>\n",
       "      <td>11.360000</td>\n",
       "      <td>21.200000</td>\n",
       "    </tr>\n",
       "    <tr>\n",
       "      <th>75%</th>\n",
       "      <td>3.677083</td>\n",
       "      <td>12.500000</td>\n",
       "      <td>18.100000</td>\n",
       "      <td>0.000000</td>\n",
       "      <td>0.624000</td>\n",
       "      <td>6.625000</td>\n",
       "      <td>94.075000</td>\n",
       "      <td>5.188425</td>\n",
       "      <td>24.000000</td>\n",
       "      <td>666.000000</td>\n",
       "      <td>20.200000</td>\n",
       "      <td>396.225000</td>\n",
       "      <td>16.955000</td>\n",
       "      <td>25.000000</td>\n",
       "    </tr>\n",
       "    <tr>\n",
       "      <th>max</th>\n",
       "      <td>88.976200</td>\n",
       "      <td>100.000000</td>\n",
       "      <td>27.740000</td>\n",
       "      <td>1.000000</td>\n",
       "      <td>0.871000</td>\n",
       "      <td>8.780000</td>\n",
       "      <td>100.000000</td>\n",
       "      <td>12.126500</td>\n",
       "      <td>24.000000</td>\n",
       "      <td>711.000000</td>\n",
       "      <td>22.000000</td>\n",
       "      <td>396.900000</td>\n",
       "      <td>37.970000</td>\n",
       "      <td>50.000000</td>\n",
       "    </tr>\n",
       "  </tbody>\n",
       "</table>\n",
       "</div>"
      ],
      "text/plain": [
       "             CRIM          ZN       INDUS        CHAS         NOX          RM  \\\n",
       "count  506.000000  506.000000  506.000000  506.000000  506.000000  501.000000   \n",
       "mean     3.613524   11.363636   11.136779    0.069170    0.554695    6.284341   \n",
       "std      8.601545   23.322453    6.860353    0.253994    0.115878    0.705587   \n",
       "min      0.006320    0.000000    0.460000    0.000000    0.385000    3.561000   \n",
       "25%      0.082045    0.000000    5.190000    0.000000    0.449000    5.884000   \n",
       "50%      0.256510    0.000000    9.690000    0.000000    0.538000    6.208000   \n",
       "75%      3.677083   12.500000   18.100000    0.000000    0.624000    6.625000   \n",
       "max     88.976200  100.000000   27.740000    1.000000    0.871000    8.780000   \n",
       "\n",
       "              AGE         DIS         RAD         TAX     PTRATIO           B  \\\n",
       "count  506.000000  506.000000  506.000000  506.000000  506.000000  506.000000   \n",
       "mean    68.574901    3.795043    9.549407  408.237154   18.455534  356.674032   \n",
       "std     28.148861    2.105710    8.707259  168.537116    2.164946   91.294864   \n",
       "min      2.900000    1.129600    1.000000  187.000000   12.600000    0.320000   \n",
       "25%     45.025000    2.100175    4.000000  279.000000   17.400000  375.377500   \n",
       "50%     77.500000    3.207450    5.000000  330.000000   19.050000  391.440000   \n",
       "75%     94.075000    5.188425   24.000000  666.000000   20.200000  396.225000   \n",
       "max    100.000000   12.126500   24.000000  711.000000   22.000000  396.900000   \n",
       "\n",
       "            LSTAT        MEDV  \n",
       "count  506.000000  506.000000  \n",
       "mean    12.653063   22.532806  \n",
       "std      7.141062    9.197104  \n",
       "min      1.730000    5.000000  \n",
       "25%      6.950000   17.025000  \n",
       "50%     11.360000   21.200000  \n",
       "75%     16.955000   25.000000  \n",
       "max     37.970000   50.000000  "
      ]
     },
     "execution_count": 6,
     "metadata": {},
     "output_type": "execute_result"
    }
   ],
   "source": [
    "housing.describe()"
   ]
  },
  {
   "cell_type": "code",
   "execution_count": 7,
   "id": "f3bd21eb",
   "metadata": {},
   "outputs": [
    {
     "data": {
      "text/plain": [
       "0    471\n",
       "1     35\n",
       "Name: CHAS, dtype: int64"
      ]
     },
     "execution_count": 7,
     "metadata": {},
     "output_type": "execute_result"
    }
   ],
   "source": [
    "housing['CHAS'].value_counts() # CHAS being a categorical attribute. 1 or 0 we can count the binary o/p"
   ]
  },
  {
   "cell_type": "code",
   "execution_count": 8,
   "id": "34232fc2",
   "metadata": {},
   "outputs": [],
   "source": [
    "%matplotlib inline \n",
    "# to show plots besides the curve. Cannot comment besides magic function- it will throw an error.\n",
    "# Always comment on next line of magic function"
   ]
  },
  {
   "cell_type": "code",
   "execution_count": 9,
   "id": "e6db47bc",
   "metadata": {},
   "outputs": [],
   "source": [
    "import matplotlib.pyplot as plt"
   ]
  },
  {
   "cell_type": "code",
   "execution_count": 10,
   "id": "29964046",
   "metadata": {},
   "outputs": [
    {
     "data": {
      "text/plain": [
       "array([[<AxesSubplot:title={'center':'CRIM'}>,\n",
       "        <AxesSubplot:title={'center':'ZN'}>,\n",
       "        <AxesSubplot:title={'center':'INDUS'}>,\n",
       "        <AxesSubplot:title={'center':'CHAS'}>],\n",
       "       [<AxesSubplot:title={'center':'NOX'}>,\n",
       "        <AxesSubplot:title={'center':'RM'}>,\n",
       "        <AxesSubplot:title={'center':'AGE'}>,\n",
       "        <AxesSubplot:title={'center':'DIS'}>],\n",
       "       [<AxesSubplot:title={'center':'RAD'}>,\n",
       "        <AxesSubplot:title={'center':'TAX'}>,\n",
       "        <AxesSubplot:title={'center':'PTRATIO'}>,\n",
       "        <AxesSubplot:title={'center':'B'}>],\n",
       "       [<AxesSubplot:title={'center':'LSTAT'}>,\n",
       "        <AxesSubplot:title={'center':'MEDV'}>, <AxesSubplot:>,\n",
       "        <AxesSubplot:>]], dtype=object)"
      ]
     },
     "execution_count": 10,
     "metadata": {},
     "output_type": "execute_result"
    },
    {
     "data": {
      "image/png": "[encoded data removed]",
      "text/plain": [
       "<Figure size 1080x2160 with 16 Axes>"
      ]
     },
     "metadata": {
      "needs_background": "light"
     },
     "output_type": "display_data"
    }
   ],
   "source": [
    "housing.hist (bins= 50, figsize = (15,30)) # bins are number of vertical bars. figsize is size of figure.(hori,vetical)"
   ]
  },
  {
   "cell_type": "markdown",
   "id": "951fad75",
   "metadata": {},
   "source": [
    "# 1. Train- Test Splitting (Understanding each term)"
   ]
  },
  {
   "cell_type": "code",
   "execution_count": 11,
   "id": "44fe7a06",
   "metadata": {},
   "outputs": [
    {
     "data": {
      "text/plain": [
       "506"
      ]
     },
     "execution_count": 11,
     "metadata": {},
     "output_type": "execute_result"
    }
   ],
   "source": [
    "len(housing) # Total length of rows of my data. "
   ]
  },
  {
   "cell_type": "code",
   "execution_count": 12,
   "id": "0f0bed9e",
   "metadata": {},
   "outputs": [],
   "source": [
    "import numpy as np"
   ]
  },
  {
   "cell_type": "code",
   "execution_count": 13,
   "id": "bda79b8d",
   "metadata": {},
   "outputs": [],
   "source": [
    "test_ratio= 0.2"
   ]
  },
  {
   "cell_type": "markdown",
   "id": "9e18738c",
   "metadata": {},
   "source": [
    "=================================================================================================================  np.random.seed(42) is used to generate a deterministic set of random numbers.Every time any person on any device \n",
    "if he inputs the same number inside bracket for seed he will get same set of random data(condition: initial data being same)\n",
    "Why 42 ? Its just a geek thing. Any number is fine ! (binary 101010 refers to 42, light refracts water surface 42 degree, light requires 10^-42 secs to cross the diameter of proton etc and many more)  Douglas Adams's Hitchhikers guide to galaxy book)"
   ]
  },
  {
   "cell_type": "code",
   "execution_count": 14,
   "id": "d351fd02",
   "metadata": {},
   "outputs": [
    {
     "name": "stdout",
     "output_type": "stream",
     "text": [
      "[173 274 491  72 452  76 316 140 471 500 218   9 414  78 323 473 124 388\n",
      " 195 448 271 278  30 501 421 474  79 454 210 497 172 320 375 362 467 153\n",
      "   2 336 208  73 496 307 204  68  90 390  33  70 470   0  11 281  22 101\n",
      " 268 485 442 290  84 245  63  55 229  18 351 209 395  82  39 456  46 481\n",
      " 444 355  77 398 104 203 381 489  69 408 255 392 312 234 460 324  93 137\n",
      " 176 417 131 346 365 132 371 412 436 411  86  75 477  15 332 423  19 325\n",
      " 335  56 437 409 334 181 227 434 180  25 493 238 244 250 418 117  42 322\n",
      " 347 182 155 280 126 329  31 113 148 432 338  57 194  24  17 298  66 211\n",
      " 404  94 154 441  23 225 433 447   5 116  45  16 468 360   3 405 185  60\n",
      " 110 321 265  29 262 478  26   7 492 108  37 157 472 118 114 175 192 272\n",
      " 144 373 383 356 277 220 450 141 369  67 361 168 499 394 400 193 249 109\n",
      " 420 145  92 152 222 304  83 248 165 163 199 231  74 311 455 253 119 284\n",
      " 302 483 357 403 228 261 237 386 476  36 196 139 368 247 287 378  59 111\n",
      "  89 266   6 364 503 341 158 150 177 397 184 318  10 384 103  81  38 317\n",
      " 167 475 299 296 198 377 146 396 147 428 289 123 490  96 143 239 275  97\n",
      " 353 122 183 202 246 484 301 354 410 399 286 125 305 223 422 219 129 424\n",
      " 291 331 380 480 358 297 294 370 438 112 179 310 342 333 487 457 233 314\n",
      " 164 136 197 258 232 115 120 352 224 406 340 127 285 415 107 374 449 133\n",
      " 367  44 495  65 283  85 242 186 425 159  12  35  28 170 142 402 349 221\n",
      "  95  51 240 376 382 178  41 440 391 206 282 254 416   4 256 453 100 226\n",
      " 431 213 426 171  98 292 215  61  47  32 267 327 200 451  27 393 230 260\n",
      " 288 162 429 138  62 135 128 482   8 326 469  64 300  14 156  40 379 465\n",
      " 407 216 279 439 504 337 236 207 212 295 462 251 494 464 303 350 269 201\n",
      " 161  43 217 401 190 309 259 105  53 389   1 446 488  49 419  80 205  34\n",
      " 430 263 427 366  91 339 479  52 345 264 241  13 315  88 387 273 166 328\n",
      " 498 134 306 486 319 243  54 363  50 461 174 445 189 502 463 187 169  58\n",
      "  48 344 235 252  21 313 459 160 276 443 191 385 293 413 343 257 308 149\n",
      " 130 151 359  99 372  87 458 330 214 466 121 505  20 188  71 106 270 348\n",
      " 435 102]\n"
     ]
    }
   ],
   "source": [
    "np.random.seed(42) \n",
    "'''Used to fix the randomness of data. If model is run multiple times the test data will be revealed to the model and \n",
    "which would likely cause the overfitting of the data. Test data must be a top secret.'''\n",
    "shuffled = np.random.permutation(len(housing)) # shuffling the index numbers of data- random index for train-test splitting.\n",
    "print (shuffled)"
   ]
  },
  {
   "cell_type": "code",
   "execution_count": 15,
   "id": "34c05fb2",
   "metadata": {},
   "outputs": [
    {
     "name": "stdout",
     "output_type": "stream",
     "text": [
      "101\n"
     ]
    }
   ],
   "source": [
    "test_set_size = int (len (housing) * test_ratio) # setting size of 20 % data for testing.\n",
    "print (test_set_size) "
   ]
  },
  {
   "cell_type": "code",
   "execution_count": 16,
   "id": "e4b9cbce",
   "metadata": {},
   "outputs": [
    {
     "name": "stdout",
     "output_type": "stream",
     "text": [
      "[173 274 491  72 452  76 316 140 471 500 218   9 414  78 323 473 124 388\n",
      " 195 448 271 278  30 501 421 474  79 454 210 497 172 320 375 362 467 153\n",
      "   2 336 208  73 496 307 204  68  90 390  33  70 470   0  11 281  22 101\n",
      " 268 485 442 290  84 245  63  55 229  18 351 209 395  82  39 456  46 481\n",
      " 444 355  77 398 104 203 381 489  69 408 255 392 312 234 460 324  93 137\n",
      " 176 417 131 346 365 132 371 412 436 411  86]\n"
     ]
    }
   ],
   "source": [
    "test_indices= shuffled [:test_set_size] # separating the initial 20% data for testing. \n",
    "print (test_indices) "
   ]
  },
  {
   "cell_type": "code",
   "execution_count": 17,
   "id": "f15ba591",
   "metadata": {},
   "outputs": [
    {
     "name": "stdout",
     "output_type": "stream",
     "text": [
      "[ 75 477  15 332 423  19 325 335  56 437 409 334 181 227 434 180  25 493\n",
      " 238 244 250 418 117  42 322 347 182 155 280 126 329  31 113 148 432 338\n",
      "  57 194  24  17 298  66 211 404  94 154 441  23 225 433 447   5 116  45\n",
      "  16 468 360   3 405 185  60 110 321 265  29 262 478  26   7 492 108  37\n",
      " 157 472 118 114 175 192 272 144 373 383 356 277 220 450 141 369  67 361\n",
      " 168 499 394 400 193 249 109 420 145  92 152 222 304  83 248 165 163 199\n",
      " 231  74 311 455 253 119 284 302 483 357 403 228 261 237 386 476  36 196\n",
      " 139 368 247 287 378  59 111  89 266   6 364 503 341 158 150 177 397 184\n",
      " 318  10 384 103  81  38 317 167 475 299 296 198 377 146 396 147 428 289\n",
      " 123 490  96 143 239 275  97 353 122 183 202 246 484 301 354 410 399 286\n",
      " 125 305 223 422 219 129 424 291 331 380 480 358 297 294 370 438 112 179\n",
      " 310 342 333 487 457 233 314 164 136 197 258 232 115 120 352 224 406 340\n",
      " 127 285 415 107 374 449 133 367  44 495  65 283  85 242 186 425 159  12\n",
      "  35  28 170 142 402 349 221  95  51 240 376 382 178  41 440 391 206 282\n",
      " 254 416   4 256 453 100 226 431 213 426 171  98 292 215  61  47  32 267\n",
      " 327 200 451  27 393 230 260 288 162 429 138  62 135 128 482   8 326 469\n",
      "  64 300  14 156  40 379 465 407 216 279 439 504 337 236 207 212 295 462\n",
      " 251 494 464 303 350 269 201 161  43 217 401 190 309 259 105  53 389   1\n",
      " 446 488  49 419  80 205  34 430 263 427 366  91 339 479  52 345 264 241\n",
      "  13 315  88 387 273 166 328 498 134 306 486 319 243  54 363  50 461 174\n",
      " 445 189 502 463 187 169  58  48 344 235 252  21 313 459 160 276 443 191\n",
      " 385 293 413 343 257 308 149 130 151 359  99 372  87 458 330 214 466 121\n",
      " 505  20 188  71 106 270 348 435 102]\n"
     ]
    }
   ],
   "source": [
    "train_indices= shuffled [test_set_size:] # separating the later 80 % data for training. \n",
    "print (train_indices) "
   ]
  },
  {
   "cell_type": "markdown",
   "id": "effb5092",
   "metadata": {},
   "source": [
    "As the random index is set for training and testing. Now we can access our data using those indices and iloc[] function."
   ]
  },
  {
   "cell_type": "code",
   "execution_count": 18,
   "id": "3af142aa",
   "metadata": {},
   "outputs": [
    {
     "data": {
      "text/html": [
       "<div>\n",
       "<style scoped>\n",
       "    .dataframe tbody tr th:only-of-type {\n",
       "        vertical-align: middle;\n",
       "    }\n",
       "\n",
       "    .dataframe tbody tr th {\n",
       "        vertical-align: top;\n",
       "    }\n",
       "\n",
       "    .dataframe thead th {\n",
       "        text-align: right;\n",
       "    }\n",
       "</style>\n",
       "<table border=\"1\" class=\"dataframe\">\n",
       "  <thead>\n",
       "    <tr style=\"text-align: right;\">\n",
       "      <th></th>\n",
       "      <th>CRIM</th>\n",
       "      <th>ZN</th>\n",
       "      <th>INDUS</th>\n",
       "      <th>CHAS</th>\n",
       "      <th>NOX</th>\n",
       "      <th>RM</th>\n",
       "      <th>AGE</th>\n",
       "      <th>DIS</th>\n",
       "      <th>RAD</th>\n",
       "      <th>TAX</th>\n",
       "      <th>PTRATIO</th>\n",
       "      <th>B</th>\n",
       "      <th>LSTAT</th>\n",
       "      <th>MEDV</th>\n",
       "    </tr>\n",
       "  </thead>\n",
       "  <tbody>\n",
       "    <tr>\n",
       "      <th>173</th>\n",
       "      <td>0.09178</td>\n",
       "      <td>0.0</td>\n",
       "      <td>4.05</td>\n",
       "      <td>0</td>\n",
       "      <td>0.510</td>\n",
       "      <td>6.416</td>\n",
       "      <td>84.1</td>\n",
       "      <td>2.6463</td>\n",
       "      <td>5</td>\n",
       "      <td>296</td>\n",
       "      <td>16.6</td>\n",
       "      <td>395.50</td>\n",
       "      <td>9.04</td>\n",
       "      <td>23.6</td>\n",
       "    </tr>\n",
       "    <tr>\n",
       "      <th>274</th>\n",
       "      <td>0.05644</td>\n",
       "      <td>40.0</td>\n",
       "      <td>6.41</td>\n",
       "      <td>1</td>\n",
       "      <td>0.447</td>\n",
       "      <td>6.758</td>\n",
       "      <td>32.9</td>\n",
       "      <td>4.0776</td>\n",
       "      <td>4</td>\n",
       "      <td>254</td>\n",
       "      <td>17.6</td>\n",
       "      <td>396.90</td>\n",
       "      <td>3.53</td>\n",
       "      <td>32.4</td>\n",
       "    </tr>\n",
       "    <tr>\n",
       "      <th>491</th>\n",
       "      <td>0.10574</td>\n",
       "      <td>0.0</td>\n",
       "      <td>27.74</td>\n",
       "      <td>0</td>\n",
       "      <td>0.609</td>\n",
       "      <td>5.983</td>\n",
       "      <td>98.8</td>\n",
       "      <td>1.8681</td>\n",
       "      <td>4</td>\n",
       "      <td>711</td>\n",
       "      <td>20.1</td>\n",
       "      <td>390.11</td>\n",
       "      <td>18.07</td>\n",
       "      <td>13.6</td>\n",
       "    </tr>\n",
       "    <tr>\n",
       "      <th>72</th>\n",
       "      <td>0.09164</td>\n",
       "      <td>0.0</td>\n",
       "      <td>10.81</td>\n",
       "      <td>0</td>\n",
       "      <td>0.413</td>\n",
       "      <td>6.065</td>\n",
       "      <td>7.8</td>\n",
       "      <td>5.2873</td>\n",
       "      <td>4</td>\n",
       "      <td>305</td>\n",
       "      <td>19.2</td>\n",
       "      <td>390.91</td>\n",
       "      <td>5.52</td>\n",
       "      <td>22.8</td>\n",
       "    </tr>\n",
       "    <tr>\n",
       "      <th>452</th>\n",
       "      <td>5.09017</td>\n",
       "      <td>0.0</td>\n",
       "      <td>18.10</td>\n",
       "      <td>0</td>\n",
       "      <td>0.713</td>\n",
       "      <td>6.297</td>\n",
       "      <td>91.8</td>\n",
       "      <td>2.3682</td>\n",
       "      <td>24</td>\n",
       "      <td>666</td>\n",
       "      <td>20.2</td>\n",
       "      <td>385.09</td>\n",
       "      <td>17.27</td>\n",
       "      <td>16.1</td>\n",
       "    </tr>\n",
       "    <tr>\n",
       "      <th>...</th>\n",
       "      <td>...</td>\n",
       "      <td>...</td>\n",
       "      <td>...</td>\n",
       "      <td>...</td>\n",
       "      <td>...</td>\n",
       "      <td>...</td>\n",
       "      <td>...</td>\n",
       "      <td>...</td>\n",
       "      <td>...</td>\n",
       "      <td>...</td>\n",
       "      <td>...</td>\n",
       "      <td>...</td>\n",
       "      <td>...</td>\n",
       "      <td>...</td>\n",
       "    </tr>\n",
       "    <tr>\n",
       "      <th>371</th>\n",
       "      <td>9.23230</td>\n",
       "      <td>0.0</td>\n",
       "      <td>18.10</td>\n",
       "      <td>0</td>\n",
       "      <td>0.631</td>\n",
       "      <td>6.216</td>\n",
       "      <td>100.0</td>\n",
       "      <td>1.1691</td>\n",
       "      <td>24</td>\n",
       "      <td>666</td>\n",
       "      <td>20.2</td>\n",
       "      <td>366.15</td>\n",
       "      <td>9.53</td>\n",
       "      <td>50.0</td>\n",
       "    </tr>\n",
       "    <tr>\n",
       "      <th>412</th>\n",
       "      <td>18.81100</td>\n",
       "      <td>0.0</td>\n",
       "      <td>18.10</td>\n",
       "      <td>0</td>\n",
       "      <td>0.597</td>\n",
       "      <td>4.628</td>\n",
       "      <td>100.0</td>\n",
       "      <td>1.5539</td>\n",
       "      <td>24</td>\n",
       "      <td>666</td>\n",
       "      <td>20.2</td>\n",
       "      <td>28.79</td>\n",
       "      <td>34.37</td>\n",
       "      <td>17.9</td>\n",
       "    </tr>\n",
       "    <tr>\n",
       "      <th>436</th>\n",
       "      <td>14.42080</td>\n",
       "      <td>0.0</td>\n",
       "      <td>18.10</td>\n",
       "      <td>0</td>\n",
       "      <td>0.740</td>\n",
       "      <td>6.461</td>\n",
       "      <td>93.3</td>\n",
       "      <td>2.0026</td>\n",
       "      <td>24</td>\n",
       "      <td>666</td>\n",
       "      <td>20.2</td>\n",
       "      <td>27.49</td>\n",
       "      <td>18.05</td>\n",
       "      <td>9.6</td>\n",
       "    </tr>\n",
       "    <tr>\n",
       "      <th>411</th>\n",
       "      <td>14.05070</td>\n",
       "      <td>0.0</td>\n",
       "      <td>18.10</td>\n",
       "      <td>0</td>\n",
       "      <td>0.597</td>\n",
       "      <td>6.657</td>\n",
       "      <td>100.0</td>\n",
       "      <td>1.5275</td>\n",
       "      <td>24</td>\n",
       "      <td>666</td>\n",
       "      <td>20.2</td>\n",
       "      <td>35.05</td>\n",
       "      <td>21.22</td>\n",
       "      <td>17.2</td>\n",
       "    </tr>\n",
       "    <tr>\n",
       "      <th>86</th>\n",
       "      <td>0.05188</td>\n",
       "      <td>0.0</td>\n",
       "      <td>4.49</td>\n",
       "      <td>0</td>\n",
       "      <td>0.449</td>\n",
       "      <td>6.015</td>\n",
       "      <td>45.1</td>\n",
       "      <td>4.4272</td>\n",
       "      <td>3</td>\n",
       "      <td>247</td>\n",
       "      <td>18.5</td>\n",
       "      <td>395.99</td>\n",
       "      <td>12.86</td>\n",
       "      <td>22.5</td>\n",
       "    </tr>\n",
       "  </tbody>\n",
       "</table>\n",
       "<p>101 rows × 14 columns</p>\n",
       "</div>"
      ],
      "text/plain": [
       "         CRIM    ZN  INDUS  CHAS    NOX     RM    AGE     DIS  RAD  TAX  \\\n",
       "173   0.09178   0.0   4.05     0  0.510  6.416   84.1  2.6463    5  296   \n",
       "274   0.05644  40.0   6.41     1  0.447  6.758   32.9  4.0776    4  254   \n",
       "491   0.10574   0.0  27.74     0  0.609  5.983   98.8  1.8681    4  711   \n",
       "72    0.09164   0.0  10.81     0  0.413  6.065    7.8  5.2873    4  305   \n",
       "452   5.09017   0.0  18.10     0  0.713  6.297   91.8  2.3682   24  666   \n",
       "..        ...   ...    ...   ...    ...    ...    ...     ...  ...  ...   \n",
       "371   9.23230   0.0  18.10     0  0.631  6.216  100.0  1.1691   24  666   \n",
       "412  18.81100   0.0  18.10     0  0.597  4.628  100.0  1.5539   24  666   \n",
       "436  14.42080   0.0  18.10     0  0.740  6.461   93.3  2.0026   24  666   \n",
       "411  14.05070   0.0  18.10     0  0.597  6.657  100.0  1.5275   24  666   \n",
       "86    0.05188   0.0   4.49     0  0.449  6.015   45.1  4.4272    3  247   \n",
       "\n",
       "     PTRATIO       B  LSTAT  MEDV  \n",
       "173     16.6  395.50   9.04  23.6  \n",
       "274     17.6  396.90   3.53  32.4  \n",
       "491     20.1  390.11  18.07  13.6  \n",
       "72      19.2  390.91   5.52  22.8  \n",
       "452     20.2  385.09  17.27  16.1  \n",
       "..       ...     ...    ...   ...  \n",
       "371     20.2  366.15   9.53  50.0  \n",
       "412     20.2   28.79  34.37  17.9  \n",
       "436     20.2   27.49  18.05   9.6  \n",
       "411     20.2   35.05  21.22  17.2  \n",
       "86      18.5  395.99  12.86  22.5  \n",
       "\n",
       "[101 rows x 14 columns]"
      ]
     },
     "execution_count": 18,
     "metadata": {},
     "output_type": "execute_result"
    }
   ],
   "source": [
    "test_set= housing.iloc[test_indices] \n",
    "test_set"
   ]
  },
  {
   "cell_type": "code",
   "execution_count": 19,
   "id": "ee85f9a1",
   "metadata": {},
   "outputs": [
    {
     "data": {
      "text/html": [
       "<div>\n",
       "<style scoped>\n",
       "    .dataframe tbody tr th:only-of-type {\n",
       "        vertical-align: middle;\n",
       "    }\n",
       "\n",
       "    .dataframe tbody tr th {\n",
       "        vertical-align: top;\n",
       "    }\n",
       "\n",
       "    .dataframe thead th {\n",
       "        text-align: right;\n",
       "    }\n",
       "</style>\n",
       "<table border=\"1\" class=\"dataframe\">\n",
       "  <thead>\n",
       "    <tr style=\"text-align: right;\">\n",
       "      <th></th>\n",
       "      <th>CRIM</th>\n",
       "      <th>ZN</th>\n",
       "      <th>INDUS</th>\n",
       "      <th>CHAS</th>\n",
       "      <th>NOX</th>\n",
       "      <th>RM</th>\n",
       "      <th>AGE</th>\n",
       "      <th>DIS</th>\n",
       "      <th>RAD</th>\n",
       "      <th>TAX</th>\n",
       "      <th>PTRATIO</th>\n",
       "      <th>B</th>\n",
       "      <th>LSTAT</th>\n",
       "      <th>MEDV</th>\n",
       "    </tr>\n",
       "  </thead>\n",
       "  <tbody>\n",
       "    <tr>\n",
       "      <th>75</th>\n",
       "      <td>0.09512</td>\n",
       "      <td>0.0</td>\n",
       "      <td>12.83</td>\n",
       "      <td>0</td>\n",
       "      <td>0.4370</td>\n",
       "      <td>6.286</td>\n",
       "      <td>45.0</td>\n",
       "      <td>4.5026</td>\n",
       "      <td>5</td>\n",
       "      <td>398</td>\n",
       "      <td>18.7</td>\n",
       "      <td>383.23</td>\n",
       "      <td>8.94</td>\n",
       "      <td>21.4</td>\n",
       "    </tr>\n",
       "    <tr>\n",
       "      <th>477</th>\n",
       "      <td>15.02340</td>\n",
       "      <td>0.0</td>\n",
       "      <td>18.10</td>\n",
       "      <td>0</td>\n",
       "      <td>0.6140</td>\n",
       "      <td>5.304</td>\n",
       "      <td>97.3</td>\n",
       "      <td>2.1007</td>\n",
       "      <td>24</td>\n",
       "      <td>666</td>\n",
       "      <td>20.2</td>\n",
       "      <td>349.48</td>\n",
       "      <td>24.91</td>\n",
       "      <td>12.0</td>\n",
       "    </tr>\n",
       "    <tr>\n",
       "      <th>15</th>\n",
       "      <td>0.62739</td>\n",
       "      <td>0.0</td>\n",
       "      <td>8.14</td>\n",
       "      <td>0</td>\n",
       "      <td>0.5380</td>\n",
       "      <td>5.834</td>\n",
       "      <td>56.5</td>\n",
       "      <td>4.4986</td>\n",
       "      <td>4</td>\n",
       "      <td>307</td>\n",
       "      <td>21.0</td>\n",
       "      <td>395.62</td>\n",
       "      <td>8.47</td>\n",
       "      <td>19.9</td>\n",
       "    </tr>\n",
       "    <tr>\n",
       "      <th>332</th>\n",
       "      <td>0.03466</td>\n",
       "      <td>35.0</td>\n",
       "      <td>6.06</td>\n",
       "      <td>0</td>\n",
       "      <td>0.4379</td>\n",
       "      <td>6.031</td>\n",
       "      <td>23.3</td>\n",
       "      <td>6.6407</td>\n",
       "      <td>1</td>\n",
       "      <td>304</td>\n",
       "      <td>16.9</td>\n",
       "      <td>362.25</td>\n",
       "      <td>7.83</td>\n",
       "      <td>19.4</td>\n",
       "    </tr>\n",
       "    <tr>\n",
       "      <th>423</th>\n",
       "      <td>7.05042</td>\n",
       "      <td>0.0</td>\n",
       "      <td>18.10</td>\n",
       "      <td>0</td>\n",
       "      <td>0.6140</td>\n",
       "      <td>6.103</td>\n",
       "      <td>85.1</td>\n",
       "      <td>2.0218</td>\n",
       "      <td>24</td>\n",
       "      <td>666</td>\n",
       "      <td>20.2</td>\n",
       "      <td>2.52</td>\n",
       "      <td>23.29</td>\n",
       "      <td>13.4</td>\n",
       "    </tr>\n",
       "    <tr>\n",
       "      <th>...</th>\n",
       "      <td>...</td>\n",
       "      <td>...</td>\n",
       "      <td>...</td>\n",
       "      <td>...</td>\n",
       "      <td>...</td>\n",
       "      <td>...</td>\n",
       "      <td>...</td>\n",
       "      <td>...</td>\n",
       "      <td>...</td>\n",
       "      <td>...</td>\n",
       "      <td>...</td>\n",
       "      <td>...</td>\n",
       "      <td>...</td>\n",
       "      <td>...</td>\n",
       "    </tr>\n",
       "    <tr>\n",
       "      <th>106</th>\n",
       "      <td>0.17120</td>\n",
       "      <td>0.0</td>\n",
       "      <td>8.56</td>\n",
       "      <td>0</td>\n",
       "      <td>0.5200</td>\n",
       "      <td>5.836</td>\n",
       "      <td>91.9</td>\n",
       "      <td>2.2110</td>\n",
       "      <td>5</td>\n",
       "      <td>384</td>\n",
       "      <td>20.9</td>\n",
       "      <td>395.67</td>\n",
       "      <td>18.66</td>\n",
       "      <td>19.5</td>\n",
       "    </tr>\n",
       "    <tr>\n",
       "      <th>270</th>\n",
       "      <td>0.29916</td>\n",
       "      <td>20.0</td>\n",
       "      <td>6.96</td>\n",
       "      <td>0</td>\n",
       "      <td>0.4640</td>\n",
       "      <td>5.856</td>\n",
       "      <td>42.1</td>\n",
       "      <td>4.4290</td>\n",
       "      <td>3</td>\n",
       "      <td>223</td>\n",
       "      <td>18.6</td>\n",
       "      <td>388.65</td>\n",
       "      <td>13.00</td>\n",
       "      <td>21.1</td>\n",
       "    </tr>\n",
       "    <tr>\n",
       "      <th>348</th>\n",
       "      <td>0.01501</td>\n",
       "      <td>80.0</td>\n",
       "      <td>2.01</td>\n",
       "      <td>0</td>\n",
       "      <td>0.4350</td>\n",
       "      <td>6.635</td>\n",
       "      <td>29.7</td>\n",
       "      <td>8.3440</td>\n",
       "      <td>4</td>\n",
       "      <td>280</td>\n",
       "      <td>17.0</td>\n",
       "      <td>390.94</td>\n",
       "      <td>5.99</td>\n",
       "      <td>24.5</td>\n",
       "    </tr>\n",
       "    <tr>\n",
       "      <th>435</th>\n",
       "      <td>11.16040</td>\n",
       "      <td>0.0</td>\n",
       "      <td>18.10</td>\n",
       "      <td>0</td>\n",
       "      <td>0.7400</td>\n",
       "      <td>6.629</td>\n",
       "      <td>94.6</td>\n",
       "      <td>2.1247</td>\n",
       "      <td>24</td>\n",
       "      <td>666</td>\n",
       "      <td>20.2</td>\n",
       "      <td>109.85</td>\n",
       "      <td>23.27</td>\n",
       "      <td>13.4</td>\n",
       "    </tr>\n",
       "    <tr>\n",
       "      <th>102</th>\n",
       "      <td>0.22876</td>\n",
       "      <td>0.0</td>\n",
       "      <td>8.56</td>\n",
       "      <td>0</td>\n",
       "      <td>0.5200</td>\n",
       "      <td>6.405</td>\n",
       "      <td>85.4</td>\n",
       "      <td>2.7147</td>\n",
       "      <td>5</td>\n",
       "      <td>384</td>\n",
       "      <td>20.9</td>\n",
       "      <td>70.80</td>\n",
       "      <td>10.63</td>\n",
       "      <td>18.6</td>\n",
       "    </tr>\n",
       "  </tbody>\n",
       "</table>\n",
       "<p>405 rows × 14 columns</p>\n",
       "</div>"
      ],
      "text/plain": [
       "         CRIM    ZN  INDUS  CHAS     NOX     RM   AGE     DIS  RAD  TAX  \\\n",
       "75    0.09512   0.0  12.83     0  0.4370  6.286  45.0  4.5026    5  398   \n",
       "477  15.02340   0.0  18.10     0  0.6140  5.304  97.3  2.1007   24  666   \n",
       "15    0.62739   0.0   8.14     0  0.5380  5.834  56.5  4.4986    4  307   \n",
       "332   0.03466  35.0   6.06     0  0.4379  6.031  23.3  6.6407    1  304   \n",
       "423   7.05042   0.0  18.10     0  0.6140  6.103  85.1  2.0218   24  666   \n",
       "..        ...   ...    ...   ...     ...    ...   ...     ...  ...  ...   \n",
       "106   0.17120   0.0   8.56     0  0.5200  5.836  91.9  2.2110    5  384   \n",
       "270   0.29916  20.0   6.96     0  0.4640  5.856  42.1  4.4290    3  223   \n",
       "348   0.01501  80.0   2.01     0  0.4350  6.635  29.7  8.3440    4  280   \n",
       "435  11.16040   0.0  18.10     0  0.7400  6.629  94.6  2.1247   24  666   \n",
       "102   0.22876   0.0   8.56     0  0.5200  6.405  85.4  2.7147    5  384   \n",
       "\n",
       "     PTRATIO       B  LSTAT  MEDV  \n",
       "75      18.7  383.23   8.94  21.4  \n",
       "477     20.2  349.48  24.91  12.0  \n",
       "15      21.0  395.62   8.47  19.9  \n",
       "332     16.9  362.25   7.83  19.4  \n",
       "423     20.2    2.52  23.29  13.4  \n",
       "..       ...     ...    ...   ...  \n",
       "106     20.9  395.67  18.66  19.5  \n",
       "270     18.6  388.65  13.00  21.1  \n",
       "348     17.0  390.94   5.99  24.5  \n",
       "435     20.2  109.85  23.27  13.4  \n",
       "102     20.9   70.80  10.63  18.6  \n",
       "\n",
       "[405 rows x 14 columns]"
      ]
     },
     "execution_count": 19,
     "metadata": {},
     "output_type": "execute_result"
    }
   ],
   "source": [
    "train_set = housing.iloc[train_indices]\n",
    "train_set"
   ]
  },
  {
   "cell_type": "markdown",
   "id": "005d6032",
   "metadata": {},
   "source": [
    "# 2. Train- Test Splitting (Creating function)"
   ]
  },
  {
   "cell_type": "code",
   "execution_count": 20,
   "id": "ac8dbf21",
   "metadata": {},
   "outputs": [],
   "source": [
    "# For learning purpose only. sklearn has a built in function.\n",
    "def split_train_test(data, test_ratio):                      # setting i/p value for func\n",
    "    np.random.seed(42)                                       # deterministic random generation using 42 - 101010 (expld above)\n",
    "    shuffled = np.random.permutation(len(data))              # creating shuffled index for total rows of data\n",
    "    test_set_size= int (len(data)*test_ratio)                # setting size of test data \n",
    "    test_indices= shuffled[:test_set_size]                   # spliting test indices from shuffled indices\n",
    "    train_indices = shuffled[test_set_size:]                  # splitting train indices from shuffled indices\n",
    "    return data.iloc[train_indices], data.iloc[test_indices] # printing the train and test data using iloc and index numbers"
   ]
  },
  {
   "cell_type": "code",
   "execution_count": 21,
   "id": "5c5f815f",
   "metadata": {},
   "outputs": [],
   "source": [
    "train_set, test_set = split_train_test(housing, 0.2)"
   ]
  },
  {
   "cell_type": "code",
   "execution_count": 22,
   "id": "e91a0b0c",
   "metadata": {},
   "outputs": [
    {
     "name": "stdout",
     "output_type": "stream",
     "text": [
      "         CRIM    ZN  INDUS  CHAS     NOX     RM   AGE     DIS  RAD  TAX  \\\n",
      "75    0.09512   0.0  12.83     0  0.4370  6.286  45.0  4.5026    5  398   \n",
      "477  15.02340   0.0  18.10     0  0.6140  5.304  97.3  2.1007   24  666   \n",
      "15    0.62739   0.0   8.14     0  0.5380  5.834  56.5  4.4986    4  307   \n",
      "332   0.03466  35.0   6.06     0  0.4379  6.031  23.3  6.6407    1  304   \n",
      "423   7.05042   0.0  18.10     0  0.6140  6.103  85.1  2.0218   24  666   \n",
      "..        ...   ...    ...   ...     ...    ...   ...     ...  ...  ...   \n",
      "106   0.17120   0.0   8.56     0  0.5200  5.836  91.9  2.2110    5  384   \n",
      "270   0.29916  20.0   6.96     0  0.4640  5.856  42.1  4.4290    3  223   \n",
      "348   0.01501  80.0   2.01     0  0.4350  6.635  29.7  8.3440    4  280   \n",
      "435  11.16040   0.0  18.10     0  0.7400  6.629  94.6  2.1247   24  666   \n",
      "102   0.22876   0.0   8.56     0  0.5200  6.405  85.4  2.7147    5  384   \n",
      "\n",
      "     PTRATIO       B  LSTAT  MEDV  \n",
      "75      18.7  383.23   8.94  21.4  \n",
      "477     20.2  349.48  24.91  12.0  \n",
      "15      21.0  395.62   8.47  19.9  \n",
      "332     16.9  362.25   7.83  19.4  \n",
      "423     20.2    2.52  23.29  13.4  \n",
      "..       ...     ...    ...   ...  \n",
      "106     20.9  395.67  18.66  19.5  \n",
      "270     18.6  388.65  13.00  21.1  \n",
      "348     17.0  390.94   5.99  24.5  \n",
      "435     20.2  109.85  23.27  13.4  \n",
      "102     20.9   70.80  10.63  18.6  \n",
      "\n",
      "[405 rows x 14 columns]\n"
     ]
    }
   ],
   "source": [
    "print (train_set)"
   ]
  },
  {
   "cell_type": "code",
   "execution_count": 23,
   "id": "a7625742",
   "metadata": {},
   "outputs": [
    {
     "name": "stdout",
     "output_type": "stream",
     "text": [
      "         CRIM    ZN  INDUS  CHAS    NOX     RM    AGE     DIS  RAD  TAX  \\\n",
      "173   0.09178   0.0   4.05     0  0.510  6.416   84.1  2.6463    5  296   \n",
      "274   0.05644  40.0   6.41     1  0.447  6.758   32.9  4.0776    4  254   \n",
      "491   0.10574   0.0  27.74     0  0.609  5.983   98.8  1.8681    4  711   \n",
      "72    0.09164   0.0  10.81     0  0.413  6.065    7.8  5.2873    4  305   \n",
      "452   5.09017   0.0  18.10     0  0.713  6.297   91.8  2.3682   24  666   \n",
      "..        ...   ...    ...   ...    ...    ...    ...     ...  ...  ...   \n",
      "371   9.23230   0.0  18.10     0  0.631  6.216  100.0  1.1691   24  666   \n",
      "412  18.81100   0.0  18.10     0  0.597  4.628  100.0  1.5539   24  666   \n",
      "436  14.42080   0.0  18.10     0  0.740  6.461   93.3  2.0026   24  666   \n",
      "411  14.05070   0.0  18.10     0  0.597  6.657  100.0  1.5275   24  666   \n",
      "86    0.05188   0.0   4.49     0  0.449  6.015   45.1  4.4272    3  247   \n",
      "\n",
      "     PTRATIO       B  LSTAT  MEDV  \n",
      "173     16.6  395.50   9.04  23.6  \n",
      "274     17.6  396.90   3.53  32.4  \n",
      "491     20.1  390.11  18.07  13.6  \n",
      "72      19.2  390.91   5.52  22.8  \n",
      "452     20.2  385.09  17.27  16.1  \n",
      "..       ...     ...    ...   ...  \n",
      "371     20.2  366.15   9.53  50.0  \n",
      "412     20.2   28.79  34.37  17.9  \n",
      "436     20.2   27.49  18.05   9.6  \n",
      "411     20.2   35.05  21.22  17.2  \n",
      "86      18.5  395.99  12.86  22.5  \n",
      "\n",
      "[101 rows x 14 columns]\n"
     ]
    }
   ],
   "source": [
    "print (test_set)"
   ]
  },
  {
   "cell_type": "markdown",
   "id": "945563c3",
   "metadata": {},
   "source": [
    "# 3. Train- Test Splitting (Using sklearn built in function -play around )\n",
    "Actual code is in next heading"
   ]
  },
  {
   "cell_type": "code",
   "execution_count": 24,
   "id": "04d89a56",
   "metadata": {},
   "outputs": [],
   "source": [
    "# from sklearn.model_selection import train_test_split\n",
    "# train_set, test_set = train_test_split(housing,test_size= 0.2,random_state= 42)"
   ]
  },
  {
   "cell_type": "code",
   "execution_count": 25,
   "id": "e2a9b634",
   "metadata": {},
   "outputs": [],
   "source": [
    "# print (f\"Rows in training set : {len(train_set)} \\nRows in test set : {len (test_set)}\")"
   ]
  },
  {
   "cell_type": "markdown",
   "id": "32480749",
   "metadata": {},
   "source": [
    "Till here everything seems good ! But wait ! Splitting is done. Train and Test values are splitted in 80:20 ratio.\n",
    "Notice one thing here. We have a FEATURE called 'CHAS'. CHAS represents binary values(0 or 1). Think of what would happen if all 0's in CHAS gets into the training set and no 1's are showed to the training set? Training set would only understand 0's and would predict accordingly as it is unaware about the 1's. So that may cause our model to predict wrong values.\n",
    "Understand we need to POPULATE the training and test set with EQUAL RATIO of values in CHAS. Always ensure and PRIORITIZE the features according to their WEIGHTAGE in accurate predictions by DISCUSSING it with a TEAM. \n",
    "One way to get through this problem is using a 'STRATIFIED SHUFFLE SPLIT' class from sklearn."
   ]
  },
  {
   "cell_type": "code",
   "execution_count": 26,
   "id": "0aa38929",
   "metadata": {},
   "outputs": [],
   "source": [
    "# from sklearn.model_selection import StratifiedShuffleSplit\n",
    "# split = StratifiedShuffleSplit(n_splits= 3, test_size = 0.2,random_state= 42)"
   ]
  },
  {
   "cell_type": "code",
   "execution_count": 27,
   "id": "a066987e",
   "metadata": {},
   "outputs": [],
   "source": [
    "# print (split)"
   ]
  },
  {
   "cell_type": "code",
   "execution_count": 28,
   "id": "5703bc06",
   "metadata": {},
   "outputs": [],
   "source": [
    "# for i,j in split.split(housing,housing['CHAS']): # (array,column_name)\n",
    "#     '''splits the indices to distribute CHAS equally in [n_splits] iterations.\n",
    "#     So here we can see the ARRAYS of i and j are 3 each. Three instances of i and j were created for train and test based on ratio.\n",
    "#     Similarly when ith indices are substituted in loc[i] it returns the instance of that index from housing data.\n",
    "#     Similarly when jth indices are substituted in loc[j] it returns the instance of that index from housing data.\n",
    "#     The number of iterations depends on n_splits. It iterates and splits the array of test and train data \n",
    "#     to give us the best possible populated data based on single Column (in this case CHAS)'''\n",
    "#     strat_train_set = housing.loc[i]\n",
    "#     print(i.shape)\n",
    "#     print(j.shape)\n",
    "#     print(i)\n",
    "#     print(j)\n",
    "#     print (f\"Train:{housing.loc[i]}\")\n",
    "#     strat_test_set = housing.loc[j]\n",
    "#     print (f\"Test:{housing.loc[j]}\")"
   ]
  },
  {
   "cell_type": "code",
   "execution_count": 29,
   "id": "6e750d5e",
   "metadata": {},
   "outputs": [],
   "source": [
    "# print (\"train:\")\n",
    "# print (strat_train_set.head(3))\n",
    "# print (\"test:\")\n",
    "# print (strat_test_set.head(3))\n",
    "# '''Here the result won't show all the iterations.Iterations can only be seen in the loops above.\n",
    "# Once the loop is completed the values of last iteration are assigned to 'strat_train_set' and 'strat_test_set' '''"
   ]
  },
  {
   "cell_type": "markdown",
   "id": "fd1dd075",
   "metadata": {},
   "source": [
    "# 3. Train- Test Splitting (Using sklearn built in function )\n",
    "Stratified Shuffle split is used over Train-Test split for better control over distribution of values in a particular column.Train test split here is used just to find the values of distribution to compare with the strat split. \n",
    "For any doubts refer contents of above Heading- PLAY AROUND"
   ]
  },
  {
   "cell_type": "code",
   "execution_count": 30,
   "id": "9e814839",
   "metadata": {},
   "outputs": [],
   "source": [
    "from sklearn.model_selection import train_test_split\n",
    "train_set, test_set = train_test_split(housing,test_size= 0.2,random_state= 42)"
   ]
  },
  {
   "cell_type": "code",
   "execution_count": 31,
   "id": "c6fde938",
   "metadata": {},
   "outputs": [
    {
     "name": "stdout",
     "output_type": "stream",
     "text": [
      "Rows in training set : 404 \n",
      "Rows in test set : 102\n"
     ]
    }
   ],
   "source": [
    "print (f\"Rows in training set : {len(train_set)} \\nRows in test set : {len (test_set)}\")"
   ]
  },
  {
   "cell_type": "code",
   "execution_count": 32,
   "id": "d7df0983",
   "metadata": {},
   "outputs": [
    {
     "data": {
      "text/plain": [
       "0    375\n",
       "1     29\n",
       "Name: CHAS, dtype: int64"
      ]
     },
     "execution_count": 32,
     "metadata": {},
     "output_type": "execute_result"
    }
   ],
   "source": [
    "train_set['CHAS'].value_counts()"
   ]
  },
  {
   "cell_type": "code",
   "execution_count": 33,
   "id": "a2b70f26",
   "metadata": {},
   "outputs": [
    {
     "data": {
      "text/plain": [
       "12.931034482758621"
      ]
     },
     "execution_count": 33,
     "metadata": {},
     "output_type": "execute_result"
    }
   ],
   "source": [
    "375/29"
   ]
  },
  {
   "cell_type": "code",
   "execution_count": 34,
   "id": "e59dabfc",
   "metadata": {},
   "outputs": [
    {
     "data": {
      "text/plain": [
       "0    96\n",
       "1     6\n",
       "Name: CHAS, dtype: int64"
      ]
     },
     "execution_count": 34,
     "metadata": {},
     "output_type": "execute_result"
    }
   ],
   "source": [
    "test_set['CHAS'].value_counts()"
   ]
  },
  {
   "cell_type": "code",
   "execution_count": 35,
   "id": "a46ca1b9",
   "metadata": {},
   "outputs": [
    {
     "data": {
      "text/plain": [
       "16.0"
      ]
     },
     "execution_count": 35,
     "metadata": {},
     "output_type": "execute_result"
    }
   ],
   "source": [
    "96/6"
   ]
  },
  {
   "cell_type": "code",
   "execution_count": 36,
   "id": "6ac2d7c0",
   "metadata": {},
   "outputs": [],
   "source": [
    "from sklearn.model_selection import StratifiedShuffleSplit\n",
    "split = StratifiedShuffleSplit(n_splits= 1, test_size = 0.2,random_state= 42)"
   ]
  },
  {
   "cell_type": "code",
   "execution_count": 37,
   "id": "1b964e97",
   "metadata": {},
   "outputs": [
    {
     "data": {
      "text/plain": [
       "<generator object BaseShuffleSplit.split at 0x0000008D646C6970>"
      ]
     },
     "execution_count": 37,
     "metadata": {},
     "output_type": "execute_result"
    }
   ],
   "source": [
    "split.split(housing,housing['CHAS'])"
   ]
  },
  {
   "cell_type": "code",
   "execution_count": 38,
   "id": "f572eaed",
   "metadata": {},
   "outputs": [],
   "source": [
    "for train_index,test_index in split.split(housing,housing['CHAS']): # (array,column_name)\n",
    "    strat_train_set = housing.loc[train_index]\n",
    "    strat_test_set = housing.loc[test_index]"
   ]
  },
  {
   "cell_type": "markdown",
   "id": "f32f571a",
   "metadata": {},
   "source": [
    "Here, Understand that there is no need of creating a test_set, train_set. The array's/indexes (test_index,train_index) are directly provided to 'For loop' of stratified shift.  test_set, train_set are pandas DF which we created just to cross check the value of CHAS before and after applying stratified shift."
   ]
  },
  {
   "cell_type": "raw",
   "id": "c4a0ac47",
   "metadata": {},
   "source": [
    "# test_set\n",
    "# train_set\n",
    "# strat_train_set\n",
    "# strat_test_set\n",
    "See how the indices differ after strategic split"
   ]
  },
  {
   "cell_type": "code",
   "execution_count": 39,
   "id": "7fde21b0",
   "metadata": {},
   "outputs": [
    {
     "data": {
      "text/plain": [
       "0    376\n",
       "1     28\n",
       "Name: CHAS, dtype: int64"
      ]
     },
     "execution_count": 39,
     "metadata": {},
     "output_type": "execute_result"
    }
   ],
   "source": [
    "# strat_train_set.info()\n",
    "# strat_test_set.info()\n",
    "strat_train_set['CHAS'].value_counts() # counting the individual entries "
   ]
  },
  {
   "cell_type": "code",
   "execution_count": 40,
   "id": "39a69fc5",
   "metadata": {},
   "outputs": [
    {
     "data": {
      "text/plain": [
       "0    95\n",
       "1     7\n",
       "Name: CHAS, dtype: int64"
      ]
     },
     "execution_count": 40,
     "metadata": {},
     "output_type": "execute_result"
    }
   ],
   "source": [
    "strat_test_set['CHAS'].value_counts() # counting the individual entries "
   ]
  },
  {
   "cell_type": "code",
   "execution_count": 41,
   "id": "bd9c5dc0",
   "metadata": {},
   "outputs": [
    {
     "data": {
      "text/plain": [
       "13.428571428571429"
      ]
     },
     "execution_count": 41,
     "metadata": {},
     "output_type": "execute_result"
    }
   ],
   "source": [
    "376/28  # We get the same ratio(13.4) of 1 and 0 for CHAS in both train and test set WHICH INDICATES THAT VALUES ARE EQUALLY POPULATED "
   ]
  },
  {
   "cell_type": "code",
   "execution_count": 42,
   "id": "1faf40f5",
   "metadata": {},
   "outputs": [
    {
     "data": {
      "text/plain": [
       "13.571428571428571"
      ]
     },
     "execution_count": 42,
     "metadata": {},
     "output_type": "execute_result"
    }
   ],
   "source": [
    "95/7  # We get the same ratio(13.4) of 1 and 0 for CHAS in both train and test set WHICH INDICATES THAT VALUES ARE EQUALLY POPULATED "
   ]
  },
  {
   "cell_type": "code",
   "execution_count": 43,
   "id": "3d42b724",
   "metadata": {},
   "outputs": [],
   "source": [
    "# Notice the ratio of 0:1 for [train_set,test_set] is  [12.93,16]\n",
    "#         The ratio of 0:1 for  [strat_train_set,strat_test_set] is [13.42,13.57] which is almost the same"
   ]
  },
  {
   "cell_type": "markdown",
   "id": "ab833575",
   "metadata": {},
   "source": [
    "# *******Very Important*******\n",
    "__While handling the actual large datasets make sure that dataset variable(housing) is assigned the values of strat_train_set.\n",
    "That would update our datasets variable to the values of train set. Commenting it now to not interfere with the further correlation values. Correlation values accuracy may reduce as the dataset is shrinked after assigning the trainset values. Large data may not affect the correlation value to that extent. Here the data is small so commenting out and keeping housing variable as our original dataset only.__\n",
    "housing variable assigned to  strat_train_set (not commented after it was required later in some part of code)"
   ]
  },
  {
   "cell_type": "code",
   "execution_count": 44,
   "id": "e0f3d256",
   "metadata": {},
   "outputs": [],
   "source": [
    "housing = strat_train_set.copy() # Important read above text."
   ]
  },
  {
   "cell_type": "code",
   "execution_count": 45,
   "id": "19643e8c",
   "metadata": {},
   "outputs": [
    {
     "name": "stdout",
     "output_type": "stream",
     "text": [
      "<class 'pandas.core.frame.DataFrame'>\n",
      "Int64Index: 404 entries, 254 to 216\n",
      "Data columns (total 14 columns):\n",
      " #   Column   Non-Null Count  Dtype  \n",
      "---  ------   --------------  -----  \n",
      " 0   CRIM     404 non-null    float64\n",
      " 1   ZN       404 non-null    float64\n",
      " 2   INDUS    404 non-null    float64\n",
      " 3   CHAS     404 non-null    int64  \n",
      " 4   NOX      404 non-null    float64\n",
      " 5   RM       399 non-null    float64\n",
      " 6   AGE      404 non-null    float64\n",
      " 7   DIS      404 non-null    float64\n",
      " 8   RAD      404 non-null    int64  \n",
      " 9   TAX      404 non-null    int64  \n",
      " 10  PTRATIO  404 non-null    float64\n",
      " 11  B        404 non-null    float64\n",
      " 12  LSTAT    404 non-null    float64\n",
      " 13  MEDV     404 non-null    float64\n",
      "dtypes: float64(11), int64(3)\n",
      "memory usage: 47.3 KB\n"
     ]
    }
   ],
   "source": [
    "strat_train_set.info() #  notice 5 RM values missing. It was deleted in the later part of the code while understanding ,missing attributes section."
   ]
  },
  {
   "cell_type": "markdown",
   "id": "c86d8cd0",
   "metadata": {},
   "source": [
    "# 4. Looking for Correlations\n",
    "Correlation part must be done before:\n",
    "1. Shrinking the dataset housing (assigning housing = strat_train_set.copy())\n",
    "2. Deleting the values of RM from csv files (for understanding Nulls)\n",
    "\n",
    "Above two points mentioned would ensure maximum accuracy in correlated values, as actual and complete dataset is used for analysing the correlation."
   ]
  },
  {
   "cell_type": "code",
   "execution_count": 46,
   "id": "e9400a1e",
   "metadata": {},
   "outputs": [],
   "source": [
    "corr_matrix= housing.corr()"
   ]
  },
  {
   "cell_type": "code",
   "execution_count": 47,
   "id": "ce5defa7",
   "metadata": {},
   "outputs": [
    {
     "data": {
      "text/plain": [
       "MEDV       1.000000\n",
       "RM         0.680857\n",
       "B          0.361761\n",
       "ZN         0.339741\n",
       "DIS        0.240451\n",
       "CHAS       0.205066\n",
       "AGE       -0.364596\n",
       "RAD       -0.374693\n",
       "CRIM      -0.393715\n",
       "NOX       -0.422873\n",
       "TAX       -0.456657\n",
       "INDUS     -0.473516\n",
       "PTRATIO   -0.493534\n",
       "LSTAT     -0.740494\n",
       "Name: MEDV, dtype: float64"
      ]
     },
     "execution_count": 47,
     "metadata": {},
     "output_type": "execute_result"
    }
   ],
   "source": [
    "# print(corr_matrix) # displays the whole matrix with correlated values\n",
    "# corr_matrix['MEDV'] # to display only MEDV column's correlated values (ascending order)\n",
    "corr_matrix['MEDV'].sort_values(ascending= False)\n",
    "# '''\n",
    "# 1. Here pearson correlation coefficient is on the basis of MEDV which shows pearson correlation coefficient 1.\n",
    "# 2. Next RM  0.69 indicates strong positive correlation. It means with respect \n",
    "#     to changes in MEDV , the value of RM will grow very strongly.\n",
    "# 3. Pearsons correlation coefficient lies between -1 to 1, where -1 \n",
    "#     indicates strong negative correlation and 1 indicates strong positive correlation.\n",
    "#     -1 indicates that POSITIVE changes in A will result in stronger NEGATIVE changes in B\n",
    "#     -0.1 indicates that POSITIVE changes in A will result in weaker NEGATIVE changes in B\n",
    "#     1 indicates that POSITIVE changes in A will result in stronger POSITIVE changes in B\n",
    "#     0.1 indicates that POSITIVE changes in A will result in weaker POSITIVE changes in B\n",
    "#  '''"
   ]
  },
  {
   "cell_type": "markdown",
   "id": "d47e5c94",
   "metadata": {},
   "source": [
    "# 5. Working with Pandas"
   ]
  },
  {
   "cell_type": "code",
   "execution_count": 48,
   "id": "dfd81657",
   "metadata": {},
   "outputs": [
    {
     "data": {
      "text/plain": [
       "array([[<AxesSubplot:xlabel='MEDV', ylabel='MEDV'>,\n",
       "        <AxesSubplot:xlabel='RM', ylabel='MEDV'>,\n",
       "        <AxesSubplot:xlabel='ZN', ylabel='MEDV'>,\n",
       "        <AxesSubplot:xlabel='LSTAT', ylabel='MEDV'>,\n",
       "        <AxesSubplot:xlabel='TAX', ylabel='MEDV'>],\n",
       "       [<AxesSubplot:xlabel='MEDV', ylabel='RM'>,\n",
       "        <AxesSubplot:xlabel='RM', ylabel='RM'>,\n",
       "        <AxesSubplot:xlabel='ZN', ylabel='RM'>,\n",
       "        <AxesSubplot:xlabel='LSTAT', ylabel='RM'>,\n",
       "        <AxesSubplot:xlabel='TAX', ylabel='RM'>],\n",
       "       [<AxesSubplot:xlabel='MEDV', ylabel='ZN'>,\n",
       "        <AxesSubplot:xlabel='RM', ylabel='ZN'>,\n",
       "        <AxesSubplot:xlabel='ZN', ylabel='ZN'>,\n",
       "        <AxesSubplot:xlabel='LSTAT', ylabel='ZN'>,\n",
       "        <AxesSubplot:xlabel='TAX', ylabel='ZN'>],\n",
       "       [<AxesSubplot:xlabel='MEDV', ylabel='LSTAT'>,\n",
       "        <AxesSubplot:xlabel='RM', ylabel='LSTAT'>,\n",
       "        <AxesSubplot:xlabel='ZN', ylabel='LSTAT'>,\n",
       "        <AxesSubplot:xlabel='LSTAT', ylabel='LSTAT'>,\n",
       "        <AxesSubplot:xlabel='TAX', ylabel='LSTAT'>],\n",
       "       [<AxesSubplot:xlabel='MEDV', ylabel='TAX'>,\n",
       "        <AxesSubplot:xlabel='RM', ylabel='TAX'>,\n",
       "        <AxesSubplot:xlabel='ZN', ylabel='TAX'>,\n",
       "        <AxesSubplot:xlabel='LSTAT', ylabel='TAX'>,\n",
       "        <AxesSubplot:xlabel='TAX', ylabel='TAX'>]], dtype=object)"
      ]
     },
     "execution_count": 48,
     "metadata": {},
     "output_type": "execute_result"
    },
    {
     "data": {
      "image/png": "[encoded data removed]",
      "text/plain": [
       "<Figure size 864x576 with 25 Axes>"
      ]
     },
     "metadata": {
      "needs_background": "light"
     },
     "output_type": "display_data"
    }
   ],
   "source": [
    "from pandas.plotting import scatter_matrix\n",
    "attributes = ['MEDV','RM','ZN', 'LSTAT','TAX']\n",
    "scatter_matrix(housing[attributes], figsize = (12,8))"
   ]
  },
  {
   "cell_type": "code",
   "execution_count": 49,
   "id": "8f3c3ff2",
   "metadata": {},
   "outputs": [
    {
     "data": {
      "text/plain": [
       "'For this plot of RM vs MEDV observe that at y= 50 some points are capped on the x axis. \\nAs RM is the dwellings per house , How can MEDV for RM= 5 and MEDV for RM = 9 be same ? MEDV being price of houses.\\nIn such cases we need to get to the team and seek validation for the data. Alternatively such outlier points can also be \\nremoved from our data so that it doesnt affect our predictions.'"
      ]
     },
     "execution_count": 49,
     "metadata": {},
     "output_type": "execute_result"
    },
    {
     "data": {
      "image/png": "[encoded data removed]",
      "text/plain": [
       "<Figure size 432x288 with 1 Axes>"
      ]
     },
     "metadata": {
      "needs_background": "light"
     },
     "output_type": "display_data"
    }
   ],
   "source": [
    "housing.plot(kind= 'scatter', x= 'RM', y = 'MEDV', alpha = 0.8)\n",
    "# From the scatter plot we get an overview that as the number of dwellings per house increases the price increases.\n",
    "'''For this plot of RM vs MEDV observe that at y= 50 some points are capped on the x axis. \n",
    "As RM is the dwellings per house , How can MEDV for RM= 5 and MEDV for RM = 9 be same ? MEDV being price of houses.\n",
    "In such cases we need to get to the team and seek validation for the data. Alternatively such outlier points can also be \n",
    "removed from our data so that it doesnt affect our predictions.'''"
   ]
  },
  {
   "cell_type": "markdown",
   "id": "80ddf43a",
   "metadata": {},
   "source": [
    "# 6. Trying Attribute correlation combining multiple attributes together.\n",
    "We can add a combined attribute to our dataset if it makes any sense.Here we are creating new TAXRM attribute by combining TAX and RM together and adding ratio of both as another column in our dataset. Not a compulsion ! (Just in case )"
   ]
  },
  {
   "cell_type": "code",
   "execution_count": 50,
   "id": "4663f298",
   "metadata": {},
   "outputs": [],
   "source": [
    "housing['TAXRM']= housing ['TAX']/housing['RM'] #adding attribute TAXRM to our data. "
   ]
  },
  {
   "cell_type": "code",
   "execution_count": 51,
   "id": "f7b4ef79",
   "metadata": {},
   "outputs": [
    {
     "data": {
      "text/html": [
       "<div>\n",
       "<style scoped>\n",
       "    .dataframe tbody tr th:only-of-type {\n",
       "        vertical-align: middle;\n",
       "    }\n",
       "\n",
       "    .dataframe tbody tr th {\n",
       "        vertical-align: top;\n",
       "    }\n",
       "\n",
       "    .dataframe thead th {\n",
       "        text-align: right;\n",
       "    }\n",
       "</style>\n",
       "<table border=\"1\" class=\"dataframe\">\n",
       "  <thead>\n",
       "    <tr style=\"text-align: right;\">\n",
       "      <th></th>\n",
       "      <th>CRIM</th>\n",
       "      <th>ZN</th>\n",
       "      <th>INDUS</th>\n",
       "      <th>CHAS</th>\n",
       "      <th>NOX</th>\n",
       "      <th>RM</th>\n",
       "      <th>AGE</th>\n",
       "      <th>DIS</th>\n",
       "      <th>RAD</th>\n",
       "      <th>TAX</th>\n",
       "      <th>PTRATIO</th>\n",
       "      <th>B</th>\n",
       "      <th>LSTAT</th>\n",
       "      <th>MEDV</th>\n",
       "      <th>TAXRM</th>\n",
       "    </tr>\n",
       "  </thead>\n",
       "  <tbody>\n",
       "    <tr>\n",
       "      <th>254</th>\n",
       "      <td>0.04819</td>\n",
       "      <td>80.0</td>\n",
       "      <td>3.64</td>\n",
       "      <td>0</td>\n",
       "      <td>0.392</td>\n",
       "      <td>6.108</td>\n",
       "      <td>32.0</td>\n",
       "      <td>9.2203</td>\n",
       "      <td>1</td>\n",
       "      <td>315</td>\n",
       "      <td>16.4</td>\n",
       "      <td>392.89</td>\n",
       "      <td>6.57</td>\n",
       "      <td>21.9</td>\n",
       "      <td>51.571709</td>\n",
       "    </tr>\n",
       "    <tr>\n",
       "      <th>348</th>\n",
       "      <td>0.01501</td>\n",
       "      <td>80.0</td>\n",
       "      <td>2.01</td>\n",
       "      <td>0</td>\n",
       "      <td>0.435</td>\n",
       "      <td>6.635</td>\n",
       "      <td>29.7</td>\n",
       "      <td>8.3440</td>\n",
       "      <td>4</td>\n",
       "      <td>280</td>\n",
       "      <td>17.0</td>\n",
       "      <td>390.94</td>\n",
       "      <td>5.99</td>\n",
       "      <td>24.5</td>\n",
       "      <td>42.200452</td>\n",
       "    </tr>\n",
       "    <tr>\n",
       "      <th>476</th>\n",
       "      <td>4.87141</td>\n",
       "      <td>0.0</td>\n",
       "      <td>18.10</td>\n",
       "      <td>0</td>\n",
       "      <td>0.614</td>\n",
       "      <td>6.484</td>\n",
       "      <td>93.6</td>\n",
       "      <td>2.3053</td>\n",
       "      <td>24</td>\n",
       "      <td>666</td>\n",
       "      <td>20.2</td>\n",
       "      <td>396.21</td>\n",
       "      <td>18.68</td>\n",
       "      <td>16.7</td>\n",
       "      <td>102.714374</td>\n",
       "    </tr>\n",
       "    <tr>\n",
       "      <th>321</th>\n",
       "      <td>0.18159</td>\n",
       "      <td>0.0</td>\n",
       "      <td>7.38</td>\n",
       "      <td>0</td>\n",
       "      <td>0.493</td>\n",
       "      <td>6.376</td>\n",
       "      <td>54.3</td>\n",
       "      <td>4.5404</td>\n",
       "      <td>5</td>\n",
       "      <td>287</td>\n",
       "      <td>19.6</td>\n",
       "      <td>396.90</td>\n",
       "      <td>6.87</td>\n",
       "      <td>23.1</td>\n",
       "      <td>45.012547</td>\n",
       "    </tr>\n",
       "    <tr>\n",
       "      <th>326</th>\n",
       "      <td>0.30347</td>\n",
       "      <td>0.0</td>\n",
       "      <td>7.38</td>\n",
       "      <td>0</td>\n",
       "      <td>0.493</td>\n",
       "      <td>6.312</td>\n",
       "      <td>28.9</td>\n",
       "      <td>5.4159</td>\n",
       "      <td>5</td>\n",
       "      <td>287</td>\n",
       "      <td>19.6</td>\n",
       "      <td>396.90</td>\n",
       "      <td>6.15</td>\n",
       "      <td>23.0</td>\n",
       "      <td>45.468948</td>\n",
       "    </tr>\n",
       "  </tbody>\n",
       "</table>\n",
       "</div>"
      ],
      "text/plain": [
       "        CRIM    ZN  INDUS  CHAS    NOX     RM   AGE     DIS  RAD  TAX  \\\n",
       "254  0.04819  80.0   3.64     0  0.392  6.108  32.0  9.2203    1  315   \n",
       "348  0.01501  80.0   2.01     0  0.435  6.635  29.7  8.3440    4  280   \n",
       "476  4.87141   0.0  18.10     0  0.614  6.484  93.6  2.3053   24  666   \n",
       "321  0.18159   0.0   7.38     0  0.493  6.376  54.3  4.5404    5  287   \n",
       "326  0.30347   0.0   7.38     0  0.493  6.312  28.9  5.4159    5  287   \n",
       "\n",
       "     PTRATIO       B  LSTAT  MEDV       TAXRM  \n",
       "254     16.4  392.89   6.57  21.9   51.571709  \n",
       "348     17.0  390.94   5.99  24.5   42.200452  \n",
       "476     20.2  396.21  18.68  16.7  102.714374  \n",
       "321     19.6  396.90   6.87  23.1   45.012547  \n",
       "326     19.6  396.90   6.15  23.0   45.468948  "
      ]
     },
     "execution_count": 51,
     "metadata": {},
     "output_type": "execute_result"
    }
   ],
   "source": [
    "housing.head()"
   ]
  },
  {
   "cell_type": "code",
   "execution_count": 52,
   "id": "47f4f069",
   "metadata": {},
   "outputs": [
    {
     "data": {
      "text/plain": [
       "MEDV       1.000000\n",
       "RM         0.680857\n",
       "B          0.361761\n",
       "ZN         0.339741\n",
       "DIS        0.240451\n",
       "CHAS       0.205066\n",
       "AGE       -0.364596\n",
       "RAD       -0.374693\n",
       "CRIM      -0.393715\n",
       "NOX       -0.422873\n",
       "TAX       -0.456657\n",
       "INDUS     -0.473516\n",
       "PTRATIO   -0.493534\n",
       "TAXRM     -0.528626\n",
       "LSTAT     -0.740494\n",
       "Name: MEDV, dtype: float64"
      ]
     },
     "execution_count": 52,
     "metadata": {},
     "output_type": "execute_result"
    }
   ],
   "source": [
    "corr_matrix= housing.corr()\n",
    "corr_matrix['MEDV'].sort_values(ascending= False)\n",
    "# '''Our new attribute TAXRM shows strong negative correlation next to LSTAT '''"
   ]
  },
  {
   "cell_type": "code",
   "execution_count": 53,
   "id": "cb4f6aba",
   "metadata": {},
   "outputs": [
    {
     "data": {
      "text/plain": [
       "<AxesSubplot:xlabel='TAXRM', ylabel='MEDV'>"
      ]
     },
     "execution_count": 53,
     "metadata": {},
     "output_type": "execute_result"
    },
    {
     "data": {
      "image/png": "[encoded data removed]",
      "text/plain": [
       "<Figure size 432x288 with 1 Axes>"
      ]
     },
     "metadata": {
      "needs_background": "light"
     },
     "output_type": "display_data"
    }
   ],
   "source": [
    "housing.plot(kind= 'scatter', x= 'TAXRM', y = 'MEDV', alpha = 0.8)"
   ]
  },
  {
   "cell_type": "markdown",
   "id": "8ba6950e",
   "metadata": {},
   "source": [
    "__Next two lines were added before selecting a desired model(line number 103,104).__\n",
    "\n",
    "    Model.fit(features,labels) function requires features and labels separately. Reeverted back and separated them in the\n",
    "    next two lines."
   ]
  },
  {
   "cell_type": "code",
   "execution_count": 54,
   "id": "40150e73",
   "metadata": {},
   "outputs": [],
   "source": [
    "housing = strat_train_set.drop('MEDV', axis=1) # dropping MEDV label from features."
   ]
  },
  {
   "cell_type": "code",
   "execution_count": 55,
   "id": "38ea3211",
   "metadata": {},
   "outputs": [],
   "source": [
    "housing_labels = strat_train_set['MEDV'].copy()"
   ]
  },
  {
   "cell_type": "raw",
   "id": "98615b8b",
   "metadata": {},
   "source": [
    "housing_labels.info()"
   ]
  },
  {
   "cell_type": "raw",
   "id": "e0fff44c",
   "metadata": {},
   "source": [
    "strat_train_set.info()"
   ]
  },
  {
   "cell_type": "markdown",
   "id": "2a7c94bc",
   "metadata": {},
   "source": [
    "# 7. Missing attributes"
   ]
  },
  {
   "cell_type": "markdown",
   "id": "2acdefbf",
   "metadata": {},
   "source": [
    "__Here onwards 'housing' will contain only 13 columns, as it was created from 'strat_train_test', which didn't have a 'TAXRM'. Also MEDV coulmn was removed above, to fit in model.fit() later during model selection (line number 103,104). So comments need an updation accordingly.__"
   ]
  },
  {
   "cell_type": "markdown",
   "id": "6e9e6320",
   "metadata": {},
   "source": [
    "Missing attributes can be handled in 3 of the following ways:\n",
    "\n",
    "    1. Get rid of the missing data points (Delete Missing Rows) \n",
    "    This can be done in case the missing data points are lesser in number so as not to affect the predictions\n",
    "\n",
    "    2. Get rid of the missing attributes (Delete missing columns)\n",
    "    This can be done if the correlation of the respective column is near to zero. Attributes with strong positive/negative\n",
    "    Correlation should not be removed. Such attributes highly affects the predictions. RM in this case if increased will\n",
    "    cause prices to increase to a great extent. So removing RM would increase the errors in the predictons.\n",
    "    \n",
    "    3. Set the missing value to either-> (0 or median or mode) what ever suits best."
   ]
  },
  {
   "cell_type": "code",
   "execution_count": 57,
   "id": "382f9e8d",
   "metadata": {},
   "outputs": [],
   "source": [
    "# At this point, 5 values of RM in our data.csv is deleted manually. "
   ]
  },
  {
   "cell_type": "markdown",
   "id": "b6b5ec33",
   "metadata": {},
   "source": [
    "#__OPTION1 - Drop the Missing Value Rows__"
   ]
  },
  {
   "cell_type": "code",
   "execution_count": 58,
   "id": "04fcc626",
   "metadata": {},
   "outputs": [
    {
     "data": {
      "text/html": [
       "<div>\n",
       "<style scoped>\n",
       "    .dataframe tbody tr th:only-of-type {\n",
       "        vertical-align: middle;\n",
       "    }\n",
       "\n",
       "    .dataframe tbody tr th {\n",
       "        vertical-align: top;\n",
       "    }\n",
       "\n",
       "    .dataframe thead th {\n",
       "        text-align: right;\n",
       "    }\n",
       "</style>\n",
       "<table border=\"1\" class=\"dataframe\">\n",
       "  <thead>\n",
       "    <tr style=\"text-align: right;\">\n",
       "      <th></th>\n",
       "      <th>CRIM</th>\n",
       "      <th>ZN</th>\n",
       "      <th>INDUS</th>\n",
       "      <th>CHAS</th>\n",
       "      <th>NOX</th>\n",
       "      <th>RM</th>\n",
       "      <th>AGE</th>\n",
       "      <th>DIS</th>\n",
       "      <th>RAD</th>\n",
       "      <th>TAX</th>\n",
       "      <th>PTRATIO</th>\n",
       "      <th>B</th>\n",
       "      <th>LSTAT</th>\n",
       "    </tr>\n",
       "  </thead>\n",
       "  <tbody>\n",
       "    <tr>\n",
       "      <th>254</th>\n",
       "      <td>0.04819</td>\n",
       "      <td>80.0</td>\n",
       "      <td>3.64</td>\n",
       "      <td>0</td>\n",
       "      <td>0.392</td>\n",
       "      <td>6.108</td>\n",
       "      <td>32.0</td>\n",
       "      <td>9.2203</td>\n",
       "      <td>1</td>\n",
       "      <td>315</td>\n",
       "      <td>16.4</td>\n",
       "      <td>392.89</td>\n",
       "      <td>6.57</td>\n",
       "    </tr>\n",
       "    <tr>\n",
       "      <th>348</th>\n",
       "      <td>0.01501</td>\n",
       "      <td>80.0</td>\n",
       "      <td>2.01</td>\n",
       "      <td>0</td>\n",
       "      <td>0.435</td>\n",
       "      <td>6.635</td>\n",
       "      <td>29.7</td>\n",
       "      <td>8.3440</td>\n",
       "      <td>4</td>\n",
       "      <td>280</td>\n",
       "      <td>17.0</td>\n",
       "      <td>390.94</td>\n",
       "      <td>5.99</td>\n",
       "    </tr>\n",
       "    <tr>\n",
       "      <th>476</th>\n",
       "      <td>4.87141</td>\n",
       "      <td>0.0</td>\n",
       "      <td>18.10</td>\n",
       "      <td>0</td>\n",
       "      <td>0.614</td>\n",
       "      <td>6.484</td>\n",
       "      <td>93.6</td>\n",
       "      <td>2.3053</td>\n",
       "      <td>24</td>\n",
       "      <td>666</td>\n",
       "      <td>20.2</td>\n",
       "      <td>396.21</td>\n",
       "      <td>18.68</td>\n",
       "    </tr>\n",
       "    <tr>\n",
       "      <th>321</th>\n",
       "      <td>0.18159</td>\n",
       "      <td>0.0</td>\n",
       "      <td>7.38</td>\n",
       "      <td>0</td>\n",
       "      <td>0.493</td>\n",
       "      <td>6.376</td>\n",
       "      <td>54.3</td>\n",
       "      <td>4.5404</td>\n",
       "      <td>5</td>\n",
       "      <td>287</td>\n",
       "      <td>19.6</td>\n",
       "      <td>396.90</td>\n",
       "      <td>6.87</td>\n",
       "    </tr>\n",
       "    <tr>\n",
       "      <th>326</th>\n",
       "      <td>0.30347</td>\n",
       "      <td>0.0</td>\n",
       "      <td>7.38</td>\n",
       "      <td>0</td>\n",
       "      <td>0.493</td>\n",
       "      <td>6.312</td>\n",
       "      <td>28.9</td>\n",
       "      <td>5.4159</td>\n",
       "      <td>5</td>\n",
       "      <td>287</td>\n",
       "      <td>19.6</td>\n",
       "      <td>396.90</td>\n",
       "      <td>6.15</td>\n",
       "    </tr>\n",
       "    <tr>\n",
       "      <th>...</th>\n",
       "      <td>...</td>\n",
       "      <td>...</td>\n",
       "      <td>...</td>\n",
       "      <td>...</td>\n",
       "      <td>...</td>\n",
       "      <td>...</td>\n",
       "      <td>...</td>\n",
       "      <td>...</td>\n",
       "      <td>...</td>\n",
       "      <td>...</td>\n",
       "      <td>...</td>\n",
       "      <td>...</td>\n",
       "      <td>...</td>\n",
       "    </tr>\n",
       "    <tr>\n",
       "      <th>155</th>\n",
       "      <td>3.53501</td>\n",
       "      <td>0.0</td>\n",
       "      <td>19.58</td>\n",
       "      <td>1</td>\n",
       "      <td>0.871</td>\n",
       "      <td>6.152</td>\n",
       "      <td>82.6</td>\n",
       "      <td>1.7455</td>\n",
       "      <td>5</td>\n",
       "      <td>403</td>\n",
       "      <td>14.7</td>\n",
       "      <td>88.01</td>\n",
       "      <td>15.02</td>\n",
       "    </tr>\n",
       "    <tr>\n",
       "      <th>423</th>\n",
       "      <td>7.05042</td>\n",
       "      <td>0.0</td>\n",
       "      <td>18.10</td>\n",
       "      <td>0</td>\n",
       "      <td>0.614</td>\n",
       "      <td>6.103</td>\n",
       "      <td>85.1</td>\n",
       "      <td>2.0218</td>\n",
       "      <td>24</td>\n",
       "      <td>666</td>\n",
       "      <td>20.2</td>\n",
       "      <td>2.52</td>\n",
       "      <td>23.29</td>\n",
       "    </tr>\n",
       "    <tr>\n",
       "      <th>98</th>\n",
       "      <td>0.08187</td>\n",
       "      <td>0.0</td>\n",
       "      <td>2.89</td>\n",
       "      <td>0</td>\n",
       "      <td>0.445</td>\n",
       "      <td>7.820</td>\n",
       "      <td>36.9</td>\n",
       "      <td>3.4952</td>\n",
       "      <td>2</td>\n",
       "      <td>276</td>\n",
       "      <td>18.0</td>\n",
       "      <td>393.53</td>\n",
       "      <td>3.57</td>\n",
       "    </tr>\n",
       "    <tr>\n",
       "      <th>455</th>\n",
       "      <td>4.75237</td>\n",
       "      <td>0.0</td>\n",
       "      <td>18.10</td>\n",
       "      <td>0</td>\n",
       "      <td>0.713</td>\n",
       "      <td>6.525</td>\n",
       "      <td>86.5</td>\n",
       "      <td>2.4358</td>\n",
       "      <td>24</td>\n",
       "      <td>666</td>\n",
       "      <td>20.2</td>\n",
       "      <td>50.92</td>\n",
       "      <td>18.13</td>\n",
       "    </tr>\n",
       "    <tr>\n",
       "      <th>216</th>\n",
       "      <td>0.04560</td>\n",
       "      <td>0.0</td>\n",
       "      <td>13.89</td>\n",
       "      <td>1</td>\n",
       "      <td>0.550</td>\n",
       "      <td>5.888</td>\n",
       "      <td>56.0</td>\n",
       "      <td>3.1121</td>\n",
       "      <td>5</td>\n",
       "      <td>276</td>\n",
       "      <td>16.4</td>\n",
       "      <td>392.80</td>\n",
       "      <td>13.51</td>\n",
       "    </tr>\n",
       "  </tbody>\n",
       "</table>\n",
       "<p>399 rows × 13 columns</p>\n",
       "</div>"
      ],
      "text/plain": [
       "        CRIM    ZN  INDUS  CHAS    NOX     RM   AGE     DIS  RAD  TAX  \\\n",
       "254  0.04819  80.0   3.64     0  0.392  6.108  32.0  9.2203    1  315   \n",
       "348  0.01501  80.0   2.01     0  0.435  6.635  29.7  8.3440    4  280   \n",
       "476  4.87141   0.0  18.10     0  0.614  6.484  93.6  2.3053   24  666   \n",
       "321  0.18159   0.0   7.38     0  0.493  6.376  54.3  4.5404    5  287   \n",
       "326  0.30347   0.0   7.38     0  0.493  6.312  28.9  5.4159    5  287   \n",
       "..       ...   ...    ...   ...    ...    ...   ...     ...  ...  ...   \n",
       "155  3.53501   0.0  19.58     1  0.871  6.152  82.6  1.7455    5  403   \n",
       "423  7.05042   0.0  18.10     0  0.614  6.103  85.1  2.0218   24  666   \n",
       "98   0.08187   0.0   2.89     0  0.445  7.820  36.9  3.4952    2  276   \n",
       "455  4.75237   0.0  18.10     0  0.713  6.525  86.5  2.4358   24  666   \n",
       "216  0.04560   0.0  13.89     1  0.550  5.888  56.0  3.1121    5  276   \n",
       "\n",
       "     PTRATIO       B  LSTAT  \n",
       "254     16.4  392.89   6.57  \n",
       "348     17.0  390.94   5.99  \n",
       "476     20.2  396.21  18.68  \n",
       "321     19.6  396.90   6.87  \n",
       "326     19.6  396.90   6.15  \n",
       "..       ...     ...    ...  \n",
       "155     14.7   88.01  15.02  \n",
       "423     20.2    2.52  23.29  \n",
       "98      18.0  393.53   3.57  \n",
       "455     20.2   50.92  18.13  \n",
       "216     16.4  392.80  13.51  \n",
       "\n",
       "[399 rows x 13 columns]"
      ]
     },
     "execution_count": 58,
     "metadata": {},
     "output_type": "execute_result"
    }
   ],
   "source": [
    "housing.dropna(subset = ['RM']) #OPTION1 - Drop the Missing Value Rows\n",
    "# Variable not assigned so values of main data wont change. Observe the rows being dropped.\n",
    "# housing = housing.dropna(subset = ['RM'] - To make permanent changes in original dataset(not recommended)."
   ]
  },
  {
   "cell_type": "code",
   "execution_count": 59,
   "id": "2718ec0f",
   "metadata": {},
   "outputs": [
    {
     "data": {
      "text/plain": [
       "(399, 13)"
      ]
     },
     "execution_count": 59,
     "metadata": {},
     "output_type": "execute_result"
    }
   ],
   "source": [
    "(housing.dropna(subset = ['RM'])).shape \n",
    "# Variable not assigned so values of main data wont change. Observe the rows being dropped."
   ]
  },
  {
   "cell_type": "code",
   "execution_count": 60,
   "id": "996f14c7",
   "metadata": {},
   "outputs": [
    {
     "data": {
      "text/plain": [
       "(404, 13)"
      ]
     },
     "execution_count": 60,
     "metadata": {},
     "output_type": "execute_result"
    }
   ],
   "source": [
    "housing.shape\n",
    "# Shape of initial dataset."
   ]
  },
  {
   "cell_type": "markdown",
   "id": "6f0e9c87",
   "metadata": {},
   "source": [
    "#___OPTION2 - Drop the complete missing Value Column.___"
   ]
  },
  {
   "cell_type": "code",
   "execution_count": 61,
   "id": "44b3a978",
   "metadata": {},
   "outputs": [
    {
     "data": {
      "text/html": [
       "<div>\n",
       "<style scoped>\n",
       "    .dataframe tbody tr th:only-of-type {\n",
       "        vertical-align: middle;\n",
       "    }\n",
       "\n",
       "    .dataframe tbody tr th {\n",
       "        vertical-align: top;\n",
       "    }\n",
       "\n",
       "    .dataframe thead th {\n",
       "        text-align: right;\n",
       "    }\n",
       "</style>\n",
       "<table border=\"1\" class=\"dataframe\">\n",
       "  <thead>\n",
       "    <tr style=\"text-align: right;\">\n",
       "      <th></th>\n",
       "      <th>CRIM</th>\n",
       "      <th>ZN</th>\n",
       "      <th>INDUS</th>\n",
       "      <th>CHAS</th>\n",
       "      <th>NOX</th>\n",
       "      <th>AGE</th>\n",
       "      <th>DIS</th>\n",
       "      <th>RAD</th>\n",
       "      <th>TAX</th>\n",
       "      <th>PTRATIO</th>\n",
       "      <th>B</th>\n",
       "      <th>LSTAT</th>\n",
       "    </tr>\n",
       "  </thead>\n",
       "  <tbody>\n",
       "    <tr>\n",
       "      <th>254</th>\n",
       "      <td>0.04819</td>\n",
       "      <td>80.0</td>\n",
       "      <td>3.64</td>\n",
       "      <td>0</td>\n",
       "      <td>0.392</td>\n",
       "      <td>32.0</td>\n",
       "      <td>9.2203</td>\n",
       "      <td>1</td>\n",
       "      <td>315</td>\n",
       "      <td>16.4</td>\n",
       "      <td>392.89</td>\n",
       "      <td>6.57</td>\n",
       "    </tr>\n",
       "    <tr>\n",
       "      <th>348</th>\n",
       "      <td>0.01501</td>\n",
       "      <td>80.0</td>\n",
       "      <td>2.01</td>\n",
       "      <td>0</td>\n",
       "      <td>0.435</td>\n",
       "      <td>29.7</td>\n",
       "      <td>8.3440</td>\n",
       "      <td>4</td>\n",
       "      <td>280</td>\n",
       "      <td>17.0</td>\n",
       "      <td>390.94</td>\n",
       "      <td>5.99</td>\n",
       "    </tr>\n",
       "    <tr>\n",
       "      <th>476</th>\n",
       "      <td>4.87141</td>\n",
       "      <td>0.0</td>\n",
       "      <td>18.10</td>\n",
       "      <td>0</td>\n",
       "      <td>0.614</td>\n",
       "      <td>93.6</td>\n",
       "      <td>2.3053</td>\n",
       "      <td>24</td>\n",
       "      <td>666</td>\n",
       "      <td>20.2</td>\n",
       "      <td>396.21</td>\n",
       "      <td>18.68</td>\n",
       "    </tr>\n",
       "    <tr>\n",
       "      <th>321</th>\n",
       "      <td>0.18159</td>\n",
       "      <td>0.0</td>\n",
       "      <td>7.38</td>\n",
       "      <td>0</td>\n",
       "      <td>0.493</td>\n",
       "      <td>54.3</td>\n",
       "      <td>4.5404</td>\n",
       "      <td>5</td>\n",
       "      <td>287</td>\n",
       "      <td>19.6</td>\n",
       "      <td>396.90</td>\n",
       "      <td>6.87</td>\n",
       "    </tr>\n",
       "    <tr>\n",
       "      <th>326</th>\n",
       "      <td>0.30347</td>\n",
       "      <td>0.0</td>\n",
       "      <td>7.38</td>\n",
       "      <td>0</td>\n",
       "      <td>0.493</td>\n",
       "      <td>28.9</td>\n",
       "      <td>5.4159</td>\n",
       "      <td>5</td>\n",
       "      <td>287</td>\n",
       "      <td>19.6</td>\n",
       "      <td>396.90</td>\n",
       "      <td>6.15</td>\n",
       "    </tr>\n",
       "    <tr>\n",
       "      <th>...</th>\n",
       "      <td>...</td>\n",
       "      <td>...</td>\n",
       "      <td>...</td>\n",
       "      <td>...</td>\n",
       "      <td>...</td>\n",
       "      <td>...</td>\n",
       "      <td>...</td>\n",
       "      <td>...</td>\n",
       "      <td>...</td>\n",
       "      <td>...</td>\n",
       "      <td>...</td>\n",
       "      <td>...</td>\n",
       "    </tr>\n",
       "    <tr>\n",
       "      <th>155</th>\n",
       "      <td>3.53501</td>\n",
       "      <td>0.0</td>\n",
       "      <td>19.58</td>\n",
       "      <td>1</td>\n",
       "      <td>0.871</td>\n",
       "      <td>82.6</td>\n",
       "      <td>1.7455</td>\n",
       "      <td>5</td>\n",
       "      <td>403</td>\n",
       "      <td>14.7</td>\n",
       "      <td>88.01</td>\n",
       "      <td>15.02</td>\n",
       "    </tr>\n",
       "    <tr>\n",
       "      <th>423</th>\n",
       "      <td>7.05042</td>\n",
       "      <td>0.0</td>\n",
       "      <td>18.10</td>\n",
       "      <td>0</td>\n",
       "      <td>0.614</td>\n",
       "      <td>85.1</td>\n",
       "      <td>2.0218</td>\n",
       "      <td>24</td>\n",
       "      <td>666</td>\n",
       "      <td>20.2</td>\n",
       "      <td>2.52</td>\n",
       "      <td>23.29</td>\n",
       "    </tr>\n",
       "    <tr>\n",
       "      <th>98</th>\n",
       "      <td>0.08187</td>\n",
       "      <td>0.0</td>\n",
       "      <td>2.89</td>\n",
       "      <td>0</td>\n",
       "      <td>0.445</td>\n",
       "      <td>36.9</td>\n",
       "      <td>3.4952</td>\n",
       "      <td>2</td>\n",
       "      <td>276</td>\n",
       "      <td>18.0</td>\n",
       "      <td>393.53</td>\n",
       "      <td>3.57</td>\n",
       "    </tr>\n",
       "    <tr>\n",
       "      <th>455</th>\n",
       "      <td>4.75237</td>\n",
       "      <td>0.0</td>\n",
       "      <td>18.10</td>\n",
       "      <td>0</td>\n",
       "      <td>0.713</td>\n",
       "      <td>86.5</td>\n",
       "      <td>2.4358</td>\n",
       "      <td>24</td>\n",
       "      <td>666</td>\n",
       "      <td>20.2</td>\n",
       "      <td>50.92</td>\n",
       "      <td>18.13</td>\n",
       "    </tr>\n",
       "    <tr>\n",
       "      <th>216</th>\n",
       "      <td>0.04560</td>\n",
       "      <td>0.0</td>\n",
       "      <td>13.89</td>\n",
       "      <td>1</td>\n",
       "      <td>0.550</td>\n",
       "      <td>56.0</td>\n",
       "      <td>3.1121</td>\n",
       "      <td>5</td>\n",
       "      <td>276</td>\n",
       "      <td>16.4</td>\n",
       "      <td>392.80</td>\n",
       "      <td>13.51</td>\n",
       "    </tr>\n",
       "  </tbody>\n",
       "</table>\n",
       "<p>404 rows × 12 columns</p>\n",
       "</div>"
      ],
      "text/plain": [
       "        CRIM    ZN  INDUS  CHAS    NOX   AGE     DIS  RAD  TAX  PTRATIO  \\\n",
       "254  0.04819  80.0   3.64     0  0.392  32.0  9.2203    1  315     16.4   \n",
       "348  0.01501  80.0   2.01     0  0.435  29.7  8.3440    4  280     17.0   \n",
       "476  4.87141   0.0  18.10     0  0.614  93.6  2.3053   24  666     20.2   \n",
       "321  0.18159   0.0   7.38     0  0.493  54.3  4.5404    5  287     19.6   \n",
       "326  0.30347   0.0   7.38     0  0.493  28.9  5.4159    5  287     19.6   \n",
       "..       ...   ...    ...   ...    ...   ...     ...  ...  ...      ...   \n",
       "155  3.53501   0.0  19.58     1  0.871  82.6  1.7455    5  403     14.7   \n",
       "423  7.05042   0.0  18.10     0  0.614  85.1  2.0218   24  666     20.2   \n",
       "98   0.08187   0.0   2.89     0  0.445  36.9  3.4952    2  276     18.0   \n",
       "455  4.75237   0.0  18.10     0  0.713  86.5  2.4358   24  666     20.2   \n",
       "216  0.04560   0.0  13.89     1  0.550  56.0  3.1121    5  276     16.4   \n",
       "\n",
       "          B  LSTAT  \n",
       "254  392.89   6.57  \n",
       "348  390.94   5.99  \n",
       "476  396.21  18.68  \n",
       "321  396.90   6.87  \n",
       "326  396.90   6.15  \n",
       "..      ...    ...  \n",
       "155   88.01  15.02  \n",
       "423    2.52  23.29  \n",
       "98   393.53   3.57  \n",
       "455   50.92  18.13  \n",
       "216  392.80  13.51  \n",
       "\n",
       "[404 rows x 12 columns]"
      ]
     },
     "execution_count": 61,
     "metadata": {},
     "output_type": "execute_result"
    }
   ],
   "source": [
    "housing.drop('RM', axis=1)  #OPTION2 - Drop the complete missing Value Column. Original dataset unchanged."
   ]
  },
  {
   "cell_type": "code",
   "execution_count": 62,
   "id": "dd278504",
   "metadata": {},
   "outputs": [
    {
     "data": {
      "text/plain": [
       "(404, 12)"
      ]
     },
     "execution_count": 62,
     "metadata": {},
     "output_type": "execute_result"
    }
   ],
   "source": [
    "(housing.drop('RM', axis=1)).shape\n",
    "# Shape changed from 13 columns to 12 columns."
   ]
  },
  {
   "cell_type": "markdown",
   "id": "f45b32c1",
   "metadata": {},
   "source": [
    "#__OPTION3 -Set the missing value to either-> (0 or median or mode) what ever suits best.__"
   ]
  },
  {
   "cell_type": "code",
   "execution_count": 63,
   "id": "6aff0410",
   "metadata": {},
   "outputs": [],
   "source": [
    "median = housing['RM'].median() # computing median for option 3"
   ]
  },
  {
   "cell_type": "code",
   "execution_count": 64,
   "id": "d0607ecc",
   "metadata": {},
   "outputs": [
    {
     "data": {
      "text/plain": [
       "6.209"
      ]
     },
     "execution_count": 64,
     "metadata": {},
     "output_type": "execute_result"
    }
   ],
   "source": [
    "median"
   ]
  },
  {
   "cell_type": "code",
   "execution_count": 65,
   "id": "12898a67",
   "metadata": {},
   "outputs": [
    {
     "data": {
      "text/plain": [
       "254    6.108\n",
       "348    6.635\n",
       "476    6.484\n",
       "321    6.376\n",
       "326    6.312\n",
       "       ...  \n",
       "155    6.152\n",
       "423    6.103\n",
       "98     7.820\n",
       "455    6.525\n",
       "216    5.888\n",
       "Name: RM, Length: 404, dtype: float64"
      ]
     },
     "execution_count": 65,
     "metadata": {},
     "output_type": "execute_result"
    }
   ],
   "source": [
    "housing ['RM'].fillna(median) # populating the empty RM values with median values. "
   ]
  },
  {
   "cell_type": "code",
   "execution_count": 66,
   "id": "8456a8a9",
   "metadata": {},
   "outputs": [
    {
     "data": {
      "text/plain": [
       "(404,)"
      ]
     },
     "execution_count": 66,
     "metadata": {},
     "output_type": "execute_result"
    }
   ],
   "source": [
    "(housing ['RM'].fillna(median)).shape # shape shows 404 entries."
   ]
  },
  {
   "cell_type": "code",
   "execution_count": 67,
   "id": "06edf9d9",
   "metadata": {},
   "outputs": [
    {
     "data": {
      "text/plain": [
       "(404,)"
      ]
     },
     "execution_count": 67,
     "metadata": {},
     "output_type": "execute_result"
    }
   ],
   "source": [
    "housing['RM'].shape # shape shows 404 entries which are combined not null and null.To get the details on null/not null refer next cells."
   ]
  },
  {
   "cell_type": "code",
   "execution_count": 68,
   "id": "1064b449",
   "metadata": {},
   "outputs": [
    {
     "name": "stdout",
     "output_type": "stream",
     "text": [
      "<class 'pandas.core.series.Series'>\n",
      "Int64Index: 404 entries, 254 to 216\n",
      "Series name: RM\n",
      "Non-Null Count  Dtype  \n",
      "--------------  -----  \n",
      "399 non-null    float64\n",
      "dtypes: float64(1)\n",
      "memory usage: 6.3 KB\n"
     ]
    }
   ],
   "source": [
    "housing['RM'].info() # 399 non null values "
   ]
  },
  {
   "cell_type": "code",
   "execution_count": 69,
   "id": "d7a2462c",
   "metadata": {},
   "outputs": [
    {
     "name": "stdout",
     "output_type": "stream",
     "text": [
      "<class 'pandas.core.series.Series'>\n",
      "Int64Index: 404 entries, 254 to 216\n",
      "Series name: RM\n",
      "Non-Null Count  Dtype  \n",
      "--------------  -----  \n",
      "404 non-null    float64\n",
      "dtypes: float64(1)\n",
      "memory usage: 6.3 KB\n"
     ]
    }
   ],
   "source": [
    "(housing ['RM'].fillna(median)).info() #after putting median value- 404 not null values. Remember original dataset unchanged."
   ]
  },
  {
   "cell_type": "markdown",
   "id": "86887370",
   "metadata": {},
   "source": [
    "# 8. Using SimpleImputer to set all null values to median values \n",
    "Above we computed and substituted the value of median in RM. What if we have such empty cell in each of the columns RM,CHAS, TAX etc ?Every time we cannot calculate the median values manually. We need to automate the task of substituting the respective median values in any missing column. It can be achieved using sklearns Simple imputer module."
   ]
  },
  {
   "cell_type": "markdown",
   "id": "c9acf1ad",
   "metadata": {},
   "source": [
    "__Make sure to comment out line number [43]  ===housing = strat_train_set.copy()=== in 'VERY IMPORTANT' HEADLINE ABOVE    \n",
    " BEFORE RUNNING THE NEXT COMMANDS TO ACTUALLY MAKE SENSE OF THE COMMENTS__(Update: Comments updated (commenting line 43 not required))\n",
    " \n",
    " Using 'housing = strat_train_set.copy()' means that we are actually applying imputer on the strat_train_set. We can directly put 'strat_train_set' in place of 'housing' in imputer. That would still return the same result, without actually making any changes to our original 'housing' dataframe and neither to strat_train_set.(Making changes in line number 68,71,79 housing to --> strat_train_set won't affect anything in further lines of code.)"
   ]
  },
  {
   "cell_type": "code",
   "execution_count": 70,
   "id": "259bfddb",
   "metadata": {},
   "outputs": [],
   "source": [
    "from sklearn.impute import SimpleImputer # importing the simple imputer module from sklearn "
   ]
  },
  {
   "cell_type": "code",
   "execution_count": 71,
   "id": "2728d7ee",
   "metadata": {},
   "outputs": [],
   "source": [
    "imputer = SimpleImputer(strategy = 'median') # setting the strategy to median."
   ]
  },
  {
   "cell_type": "code",
   "execution_count": 72,
   "id": "8d208e9b",
   "metadata": {},
   "outputs": [
    {
     "data": {
      "text/plain": [
       "SimpleImputer(strategy='median')"
      ]
     },
     "execution_count": 72,
     "metadata": {},
     "output_type": "execute_result"
    }
   ],
   "source": [
    "imputer.fit(housing) # Fitting the dataset to imputer. All null values in datasets updated to mean values."
   ]
  },
  {
   "cell_type": "code",
   "execution_count": 73,
   "id": "a2a694de",
   "metadata": {},
   "outputs": [
    {
     "data": {
      "text/plain": [
       "array([2.86735e-01, 0.00000e+00, 9.90000e+00, 0.00000e+00, 5.38000e-01,\n",
       "       6.20900e+00, 7.82000e+01, 3.12220e+00, 5.00000e+00, 3.37000e+02,\n",
       "       1.90000e+01, 3.90955e+02, 1.15700e+01])"
      ]
     },
     "execution_count": 73,
     "metadata": {},
     "output_type": "execute_result"
    }
   ],
   "source": [
    "imputer.statistics_ # (to print the values of median which imputer computed for each column on our dataset)"
   ]
  },
  {
   "cell_type": "code",
   "execution_count": 74,
   "id": "a5f59530",
   "metadata": {},
   "outputs": [
    {
     "data": {
      "text/plain": [
       "(13,)"
      ]
     },
     "execution_count": 74,
     "metadata": {},
     "output_type": "execute_result"
    }
   ],
   "source": [
    "imputer.statistics_.shape"
   ]
  },
  {
   "cell_type": "code",
   "execution_count": 75,
   "id": "62c3491e",
   "metadata": {},
   "outputs": [],
   "source": [
    "X= imputer.transform(housing) # generating numpy array after filling empty cells using imputer."
   ]
  },
  {
   "cell_type": "code",
   "execution_count": 76,
   "id": "9949c01e",
   "metadata": {},
   "outputs": [
    {
     "data": {
      "text/plain": [
       "(404, 13)"
      ]
     },
     "execution_count": 76,
     "metadata": {},
     "output_type": "execute_result"
    }
   ],
   "source": [
    "X.shape\n",
    "# X.info() # trying to use to check for null values in X but cannot use this command as X is the numpy array ."
   ]
  },
  {
   "cell_type": "code",
   "execution_count": 77,
   "id": "898c724c",
   "metadata": {},
   "outputs": [
    {
     "data": {
      "text/plain": [
       "array([[4.81900e-02, 8.00000e+01, 3.64000e+00, ..., 1.64000e+01,\n",
       "        3.92890e+02, 6.57000e+00],\n",
       "       [1.50100e-02, 8.00000e+01, 2.01000e+00, ..., 1.70000e+01,\n",
       "        3.90940e+02, 5.99000e+00],\n",
       "       [4.87141e+00, 0.00000e+00, 1.81000e+01, ..., 2.02000e+01,\n",
       "        3.96210e+02, 1.86800e+01],\n",
       "       ...,\n",
       "       [8.18700e-02, 0.00000e+00, 2.89000e+00, ..., 1.80000e+01,\n",
       "        3.93530e+02, 3.57000e+00],\n",
       "       [4.75237e+00, 0.00000e+00, 1.81000e+01, ..., 2.02000e+01,\n",
       "        5.09200e+01, 1.81300e+01],\n",
       "       [4.56000e-02, 0.00000e+00, 1.38900e+01, ..., 1.64000e+01,\n",
       "        3.92800e+02, 1.35100e+01]])"
      ]
     },
     "execution_count": 77,
     "metadata": {},
     "output_type": "execute_result"
    }
   ],
   "source": [
    "X # 404x13 values returned by fitting median values"
   ]
  },
  {
   "cell_type": "code",
   "execution_count": 78,
   "id": "4e144705",
   "metadata": {},
   "outputs": [
    {
     "data": {
      "text/plain": [
       "array([[False, False, False, ..., False, False, False],\n",
       "       [False, False, False, ..., False, False, False],\n",
       "       [False, False, False, ..., False, False, False],\n",
       "       ...,\n",
       "       [False, False, False, ..., False, False, False],\n",
       "       [False, False, False, ..., False, False, False],\n",
       "       [False, False, False, ..., False, False, False]])"
      ]
     },
     "execution_count": 78,
     "metadata": {},
     "output_type": "execute_result"
    }
   ],
   "source": [
    "np.isnan(X) # Checking for nan values in X. Returns True False matrix :("
   ]
  },
  {
   "cell_type": "code",
   "execution_count": 79,
   "id": "130337ff",
   "metadata": {},
   "outputs": [
    {
     "data": {
      "text/plain": [
       "0"
      ]
     },
     "execution_count": 79,
     "metadata": {},
     "output_type": "execute_result"
    }
   ],
   "source": [
    "np.count_nonzero(np.isnan(X)) # Voila ! Here we go. Zero nan values. It means all the median values were assigned to X array in any of the columns."
   ]
  },
  {
   "cell_type": "code",
   "execution_count": 80,
   "id": "0392d808",
   "metadata": {},
   "outputs": [
    {
     "data": {
      "text/plain": [
       "5"
      ]
     },
     "execution_count": 80,
     "metadata": {},
     "output_type": "execute_result"
    }
   ],
   "source": [
    "np.count_nonzero(np.isnan(housing)) # Here we can see 5 nan values of RM for original housing dataset."
   ]
  },
  {
   "cell_type": "code",
   "execution_count": 81,
   "id": "2d3b5684",
   "metadata": {},
   "outputs": [
    {
     "name": "stdout",
     "output_type": "stream",
     "text": [
      "<class 'pandas.core.frame.DataFrame'>\n",
      "Int64Index: 404 entries, 254 to 216\n",
      "Data columns (total 13 columns):\n",
      " #   Column   Non-Null Count  Dtype  \n",
      "---  ------   --------------  -----  \n",
      " 0   CRIM     404 non-null    float64\n",
      " 1   ZN       404 non-null    float64\n",
      " 2   INDUS    404 non-null    float64\n",
      " 3   CHAS     404 non-null    int64  \n",
      " 4   NOX      404 non-null    float64\n",
      " 5   RM       399 non-null    float64\n",
      " 6   AGE      404 non-null    float64\n",
      " 7   DIS      404 non-null    float64\n",
      " 8   RAD      404 non-null    int64  \n",
      " 9   TAX      404 non-null    int64  \n",
      " 10  PTRATIO  404 non-null    float64\n",
      " 11  B        404 non-null    float64\n",
      " 12  LSTAT    404 non-null    float64\n",
      "dtypes: float64(10), int64(3)\n",
      "memory usage: 44.2 KB\n"
     ]
    }
   ],
   "source": [
    "housing.info() # Here we can see 5 nan values of RM."
   ]
  },
  {
   "cell_type": "markdown",
   "id": "75cdeb3e",
   "metadata": {},
   "source": [
    "__Generating a new Transformed Dataframe with no null values from X array and housing columns.__"
   ]
  },
  {
   "cell_type": "code",
   "execution_count": 82,
   "id": "10a27590",
   "metadata": {},
   "outputs": [
    {
     "data": {
      "text/plain": [
       "(404, 14)"
      ]
     },
     "execution_count": 82,
     "metadata": {},
     "output_type": "execute_result"
    }
   ],
   "source": [
    "strat_train_set.shape"
   ]
  },
  {
   "cell_type": "code",
   "execution_count": 83,
   "id": "b466ede7",
   "metadata": {},
   "outputs": [],
   "source": [
    "housing_tr = pd.DataFrame(X,columns= housing.columns)"
   ]
  },
  {
   "cell_type": "code",
   "execution_count": 84,
   "id": "bcb4a34d",
   "metadata": {},
   "outputs": [
    {
     "data": {
      "text/plain": [
       "Index(['CRIM', 'ZN', 'INDUS', 'CHAS', 'NOX', 'RM', 'AGE', 'DIS', 'RAD', 'TAX',\n",
       "       'PTRATIO', 'B', 'LSTAT'],\n",
       "      dtype='object')"
      ]
     },
     "execution_count": 84,
     "metadata": {},
     "output_type": "execute_result"
    }
   ],
   "source": [
    "housing.columns # Just checking column names of housing data.."
   ]
  },
  {
   "cell_type": "code",
   "execution_count": 85,
   "id": "bb55451f",
   "metadata": {},
   "outputs": [
    {
     "data": {
      "text/html": [
       "<div>\n",
       "<style scoped>\n",
       "    .dataframe tbody tr th:only-of-type {\n",
       "        vertical-align: middle;\n",
       "    }\n",
       "\n",
       "    .dataframe tbody tr th {\n",
       "        vertical-align: top;\n",
       "    }\n",
       "\n",
       "    .dataframe thead th {\n",
       "        text-align: right;\n",
       "    }\n",
       "</style>\n",
       "<table border=\"1\" class=\"dataframe\">\n",
       "  <thead>\n",
       "    <tr style=\"text-align: right;\">\n",
       "      <th></th>\n",
       "      <th>CRIM</th>\n",
       "      <th>ZN</th>\n",
       "      <th>INDUS</th>\n",
       "      <th>CHAS</th>\n",
       "      <th>NOX</th>\n",
       "      <th>RM</th>\n",
       "      <th>AGE</th>\n",
       "      <th>DIS</th>\n",
       "      <th>RAD</th>\n",
       "      <th>TAX</th>\n",
       "      <th>PTRATIO</th>\n",
       "      <th>B</th>\n",
       "      <th>LSTAT</th>\n",
       "    </tr>\n",
       "  </thead>\n",
       "  <tbody>\n",
       "    <tr>\n",
       "      <th>count</th>\n",
       "      <td>404.000000</td>\n",
       "      <td>404.000000</td>\n",
       "      <td>404.000000</td>\n",
       "      <td>404.000000</td>\n",
       "      <td>404.000000</td>\n",
       "      <td>404.000000</td>\n",
       "      <td>404.000000</td>\n",
       "      <td>404.000000</td>\n",
       "      <td>404.000000</td>\n",
       "      <td>404.000000</td>\n",
       "      <td>404.000000</td>\n",
       "      <td>404.000000</td>\n",
       "      <td>404.000000</td>\n",
       "    </tr>\n",
       "    <tr>\n",
       "      <th>mean</th>\n",
       "      <td>3.602814</td>\n",
       "      <td>10.836634</td>\n",
       "      <td>11.344950</td>\n",
       "      <td>0.069307</td>\n",
       "      <td>0.558064</td>\n",
       "      <td>6.278609</td>\n",
       "      <td>69.039851</td>\n",
       "      <td>3.746210</td>\n",
       "      <td>9.735149</td>\n",
       "      <td>412.341584</td>\n",
       "      <td>18.473267</td>\n",
       "      <td>353.392822</td>\n",
       "      <td>12.791609</td>\n",
       "    </tr>\n",
       "    <tr>\n",
       "      <th>std</th>\n",
       "      <td>8.099383</td>\n",
       "      <td>22.150636</td>\n",
       "      <td>6.877817</td>\n",
       "      <td>0.254290</td>\n",
       "      <td>0.116875</td>\n",
       "      <td>0.712366</td>\n",
       "      <td>28.258248</td>\n",
       "      <td>2.099057</td>\n",
       "      <td>8.731259</td>\n",
       "      <td>168.672623</td>\n",
       "      <td>2.129243</td>\n",
       "      <td>96.069235</td>\n",
       "      <td>7.235740</td>\n",
       "    </tr>\n",
       "    <tr>\n",
       "      <th>min</th>\n",
       "      <td>0.006320</td>\n",
       "      <td>0.000000</td>\n",
       "      <td>0.740000</td>\n",
       "      <td>0.000000</td>\n",
       "      <td>0.389000</td>\n",
       "      <td>3.561000</td>\n",
       "      <td>2.900000</td>\n",
       "      <td>1.129600</td>\n",
       "      <td>1.000000</td>\n",
       "      <td>187.000000</td>\n",
       "      <td>13.000000</td>\n",
       "      <td>0.320000</td>\n",
       "      <td>1.730000</td>\n",
       "    </tr>\n",
       "    <tr>\n",
       "      <th>25%</th>\n",
       "      <td>0.086962</td>\n",
       "      <td>0.000000</td>\n",
       "      <td>5.190000</td>\n",
       "      <td>0.000000</td>\n",
       "      <td>0.453000</td>\n",
       "      <td>5.878750</td>\n",
       "      <td>44.850000</td>\n",
       "      <td>2.035975</td>\n",
       "      <td>4.000000</td>\n",
       "      <td>284.000000</td>\n",
       "      <td>17.400000</td>\n",
       "      <td>374.617500</td>\n",
       "      <td>6.847500</td>\n",
       "    </tr>\n",
       "    <tr>\n",
       "      <th>50%</th>\n",
       "      <td>0.286735</td>\n",
       "      <td>0.000000</td>\n",
       "      <td>9.900000</td>\n",
       "      <td>0.000000</td>\n",
       "      <td>0.538000</td>\n",
       "      <td>6.209000</td>\n",
       "      <td>78.200000</td>\n",
       "      <td>3.122200</td>\n",
       "      <td>5.000000</td>\n",
       "      <td>337.000000</td>\n",
       "      <td>19.000000</td>\n",
       "      <td>390.955000</td>\n",
       "      <td>11.570000</td>\n",
       "    </tr>\n",
       "    <tr>\n",
       "      <th>75%</th>\n",
       "      <td>3.731923</td>\n",
       "      <td>12.500000</td>\n",
       "      <td>18.100000</td>\n",
       "      <td>0.000000</td>\n",
       "      <td>0.631000</td>\n",
       "      <td>6.630000</td>\n",
       "      <td>94.100000</td>\n",
       "      <td>5.100400</td>\n",
       "      <td>24.000000</td>\n",
       "      <td>666.000000</td>\n",
       "      <td>20.200000</td>\n",
       "      <td>395.630000</td>\n",
       "      <td>17.102500</td>\n",
       "    </tr>\n",
       "    <tr>\n",
       "      <th>max</th>\n",
       "      <td>73.534100</td>\n",
       "      <td>100.000000</td>\n",
       "      <td>27.740000</td>\n",
       "      <td>1.000000</td>\n",
       "      <td>0.871000</td>\n",
       "      <td>8.780000</td>\n",
       "      <td>100.000000</td>\n",
       "      <td>12.126500</td>\n",
       "      <td>24.000000</td>\n",
       "      <td>711.000000</td>\n",
       "      <td>22.000000</td>\n",
       "      <td>396.900000</td>\n",
       "      <td>36.980000</td>\n",
       "    </tr>\n",
       "  </tbody>\n",
       "</table>\n",
       "</div>"
      ],
      "text/plain": [
       "             CRIM          ZN       INDUS        CHAS         NOX          RM  \\\n",
       "count  404.000000  404.000000  404.000000  404.000000  404.000000  404.000000   \n",
       "mean     3.602814   10.836634   11.344950    0.069307    0.558064    6.278609   \n",
       "std      8.099383   22.150636    6.877817    0.254290    0.116875    0.712366   \n",
       "min      0.006320    0.000000    0.740000    0.000000    0.389000    3.561000   \n",
       "25%      0.086962    0.000000    5.190000    0.000000    0.453000    5.878750   \n",
       "50%      0.286735    0.000000    9.900000    0.000000    0.538000    6.209000   \n",
       "75%      3.731923   12.500000   18.100000    0.000000    0.631000    6.630000   \n",
       "max     73.534100  100.000000   27.740000    1.000000    0.871000    8.780000   \n",
       "\n",
       "              AGE         DIS         RAD         TAX     PTRATIO           B  \\\n",
       "count  404.000000  404.000000  404.000000  404.000000  404.000000  404.000000   \n",
       "mean    69.039851    3.746210    9.735149  412.341584   18.473267  353.392822   \n",
       "std     28.258248    2.099057    8.731259  168.672623    2.129243   96.069235   \n",
       "min      2.900000    1.129600    1.000000  187.000000   13.000000    0.320000   \n",
       "25%     44.850000    2.035975    4.000000  284.000000   17.400000  374.617500   \n",
       "50%     78.200000    3.122200    5.000000  337.000000   19.000000  390.955000   \n",
       "75%     94.100000    5.100400   24.000000  666.000000   20.200000  395.630000   \n",
       "max    100.000000   12.126500   24.000000  711.000000   22.000000  396.900000   \n",
       "\n",
       "            LSTAT  \n",
       "count  404.000000  \n",
       "mean    12.791609  \n",
       "std      7.235740  \n",
       "min      1.730000  \n",
       "25%      6.847500  \n",
       "50%     11.570000  \n",
       "75%     17.102500  \n",
       "max     36.980000  "
      ]
     },
     "execution_count": 85,
     "metadata": {},
     "output_type": "execute_result"
    }
   ],
   "source": [
    "housing_tr.describe() \n",
    "# Notice the counts updated to 404 for RM and TAXRM in new transformed dataset.\n",
    "# Just a bit info : TAXRM was considered initially before making changes in housing above.\n",
    "# Line 53 - housing was assigned 'housing = strat_train_set.copy()'. TAXRM was assigned to housing prior to that. "
   ]
  },
  {
   "cell_type": "code",
   "execution_count": 86,
   "id": "0b712984",
   "metadata": {},
   "outputs": [
    {
     "data": {
      "text/html": [
       "<div>\n",
       "<style scoped>\n",
       "    .dataframe tbody tr th:only-of-type {\n",
       "        vertical-align: middle;\n",
       "    }\n",
       "\n",
       "    .dataframe tbody tr th {\n",
       "        vertical-align: top;\n",
       "    }\n",
       "\n",
       "    .dataframe thead th {\n",
       "        text-align: right;\n",
       "    }\n",
       "</style>\n",
       "<table border=\"1\" class=\"dataframe\">\n",
       "  <thead>\n",
       "    <tr style=\"text-align: right;\">\n",
       "      <th></th>\n",
       "      <th>CRIM</th>\n",
       "      <th>ZN</th>\n",
       "      <th>INDUS</th>\n",
       "      <th>CHAS</th>\n",
       "      <th>NOX</th>\n",
       "      <th>RM</th>\n",
       "      <th>AGE</th>\n",
       "      <th>DIS</th>\n",
       "      <th>RAD</th>\n",
       "      <th>TAX</th>\n",
       "      <th>PTRATIO</th>\n",
       "      <th>B</th>\n",
       "      <th>LSTAT</th>\n",
       "    </tr>\n",
       "  </thead>\n",
       "  <tbody>\n",
       "    <tr>\n",
       "      <th>count</th>\n",
       "      <td>404.000000</td>\n",
       "      <td>404.000000</td>\n",
       "      <td>404.000000</td>\n",
       "      <td>404.000000</td>\n",
       "      <td>404.000000</td>\n",
       "      <td>399.000000</td>\n",
       "      <td>404.000000</td>\n",
       "      <td>404.000000</td>\n",
       "      <td>404.000000</td>\n",
       "      <td>404.000000</td>\n",
       "      <td>404.000000</td>\n",
       "      <td>404.000000</td>\n",
       "      <td>404.000000</td>\n",
       "    </tr>\n",
       "    <tr>\n",
       "      <th>mean</th>\n",
       "      <td>3.602814</td>\n",
       "      <td>10.836634</td>\n",
       "      <td>11.344950</td>\n",
       "      <td>0.069307</td>\n",
       "      <td>0.558064</td>\n",
       "      <td>6.279481</td>\n",
       "      <td>69.039851</td>\n",
       "      <td>3.746210</td>\n",
       "      <td>9.735149</td>\n",
       "      <td>412.341584</td>\n",
       "      <td>18.473267</td>\n",
       "      <td>353.392822</td>\n",
       "      <td>12.791609</td>\n",
       "    </tr>\n",
       "    <tr>\n",
       "      <th>std</th>\n",
       "      <td>8.099383</td>\n",
       "      <td>22.150636</td>\n",
       "      <td>6.877817</td>\n",
       "      <td>0.254290</td>\n",
       "      <td>0.116875</td>\n",
       "      <td>0.716784</td>\n",
       "      <td>28.258248</td>\n",
       "      <td>2.099057</td>\n",
       "      <td>8.731259</td>\n",
       "      <td>168.672623</td>\n",
       "      <td>2.129243</td>\n",
       "      <td>96.069235</td>\n",
       "      <td>7.235740</td>\n",
       "    </tr>\n",
       "    <tr>\n",
       "      <th>min</th>\n",
       "      <td>0.006320</td>\n",
       "      <td>0.000000</td>\n",
       "      <td>0.740000</td>\n",
       "      <td>0.000000</td>\n",
       "      <td>0.389000</td>\n",
       "      <td>3.561000</td>\n",
       "      <td>2.900000</td>\n",
       "      <td>1.129600</td>\n",
       "      <td>1.000000</td>\n",
       "      <td>187.000000</td>\n",
       "      <td>13.000000</td>\n",
       "      <td>0.320000</td>\n",
       "      <td>1.730000</td>\n",
       "    </tr>\n",
       "    <tr>\n",
       "      <th>25%</th>\n",
       "      <td>0.086962</td>\n",
       "      <td>0.000000</td>\n",
       "      <td>5.190000</td>\n",
       "      <td>0.000000</td>\n",
       "      <td>0.453000</td>\n",
       "      <td>5.876500</td>\n",
       "      <td>44.850000</td>\n",
       "      <td>2.035975</td>\n",
       "      <td>4.000000</td>\n",
       "      <td>284.000000</td>\n",
       "      <td>17.400000</td>\n",
       "      <td>374.617500</td>\n",
       "      <td>6.847500</td>\n",
       "    </tr>\n",
       "    <tr>\n",
       "      <th>50%</th>\n",
       "      <td>0.286735</td>\n",
       "      <td>0.000000</td>\n",
       "      <td>9.900000</td>\n",
       "      <td>0.000000</td>\n",
       "      <td>0.538000</td>\n",
       "      <td>6.209000</td>\n",
       "      <td>78.200000</td>\n",
       "      <td>3.122200</td>\n",
       "      <td>5.000000</td>\n",
       "      <td>337.000000</td>\n",
       "      <td>19.000000</td>\n",
       "      <td>390.955000</td>\n",
       "      <td>11.570000</td>\n",
       "    </tr>\n",
       "    <tr>\n",
       "      <th>75%</th>\n",
       "      <td>3.731923</td>\n",
       "      <td>12.500000</td>\n",
       "      <td>18.100000</td>\n",
       "      <td>0.000000</td>\n",
       "      <td>0.631000</td>\n",
       "      <td>6.630500</td>\n",
       "      <td>94.100000</td>\n",
       "      <td>5.100400</td>\n",
       "      <td>24.000000</td>\n",
       "      <td>666.000000</td>\n",
       "      <td>20.200000</td>\n",
       "      <td>395.630000</td>\n",
       "      <td>17.102500</td>\n",
       "    </tr>\n",
       "    <tr>\n",
       "      <th>max</th>\n",
       "      <td>73.534100</td>\n",
       "      <td>100.000000</td>\n",
       "      <td>27.740000</td>\n",
       "      <td>1.000000</td>\n",
       "      <td>0.871000</td>\n",
       "      <td>8.780000</td>\n",
       "      <td>100.000000</td>\n",
       "      <td>12.126500</td>\n",
       "      <td>24.000000</td>\n",
       "      <td>711.000000</td>\n",
       "      <td>22.000000</td>\n",
       "      <td>396.900000</td>\n",
       "      <td>36.980000</td>\n",
       "    </tr>\n",
       "  </tbody>\n",
       "</table>\n",
       "</div>"
      ],
      "text/plain": [
       "             CRIM          ZN       INDUS        CHAS         NOX          RM  \\\n",
       "count  404.000000  404.000000  404.000000  404.000000  404.000000  399.000000   \n",
       "mean     3.602814   10.836634   11.344950    0.069307    0.558064    6.279481   \n",
       "std      8.099383   22.150636    6.877817    0.254290    0.116875    0.716784   \n",
       "min      0.006320    0.000000    0.740000    0.000000    0.389000    3.561000   \n",
       "25%      0.086962    0.000000    5.190000    0.000000    0.453000    5.876500   \n",
       "50%      0.286735    0.000000    9.900000    0.000000    0.538000    6.209000   \n",
       "75%      3.731923   12.500000   18.100000    0.000000    0.631000    6.630500   \n",
       "max     73.534100  100.000000   27.740000    1.000000    0.871000    8.780000   \n",
       "\n",
       "              AGE         DIS         RAD         TAX     PTRATIO           B  \\\n",
       "count  404.000000  404.000000  404.000000  404.000000  404.000000  404.000000   \n",
       "mean    69.039851    3.746210    9.735149  412.341584   18.473267  353.392822   \n",
       "std     28.258248    2.099057    8.731259  168.672623    2.129243   96.069235   \n",
       "min      2.900000    1.129600    1.000000  187.000000   13.000000    0.320000   \n",
       "25%     44.850000    2.035975    4.000000  284.000000   17.400000  374.617500   \n",
       "50%     78.200000    3.122200    5.000000  337.000000   19.000000  390.955000   \n",
       "75%     94.100000    5.100400   24.000000  666.000000   20.200000  395.630000   \n",
       "max    100.000000   12.126500   24.000000  711.000000   22.000000  396.900000   \n",
       "\n",
       "            LSTAT  \n",
       "count  404.000000  \n",
       "mean    12.791609  \n",
       "std      7.235740  \n",
       "min      1.730000  \n",
       "25%      6.847500  \n",
       "50%     11.570000  \n",
       "75%     17.102500  \n",
       "max     36.980000  "
      ]
     },
     "execution_count": 86,
     "metadata": {},
     "output_type": "execute_result"
    }
   ],
   "source": [
    "housing.describe() # Notice the counts are 399 for RM in our original Dataset."
   ]
  },
  {
   "cell_type": "code",
   "execution_count": 87,
   "id": "9abd9cac",
   "metadata": {},
   "outputs": [
    {
     "name": "stdout",
     "output_type": "stream",
     "text": [
      "<class 'pandas.core.frame.DataFrame'>\n",
      "Int64Index: 404 entries, 254 to 216\n",
      "Data columns (total 14 columns):\n",
      " #   Column   Non-Null Count  Dtype  \n",
      "---  ------   --------------  -----  \n",
      " 0   CRIM     404 non-null    float64\n",
      " 1   ZN       404 non-null    float64\n",
      " 2   INDUS    404 non-null    float64\n",
      " 3   CHAS     404 non-null    int64  \n",
      " 4   NOX      404 non-null    float64\n",
      " 5   RM       399 non-null    float64\n",
      " 6   AGE      404 non-null    float64\n",
      " 7   DIS      404 non-null    float64\n",
      " 8   RAD      404 non-null    int64  \n",
      " 9   TAX      404 non-null    int64  \n",
      " 10  PTRATIO  404 non-null    float64\n",
      " 11  B        404 non-null    float64\n",
      " 12  LSTAT    404 non-null    float64\n",
      " 13  MEDV     404 non-null    float64\n",
      "dtypes: float64(11), int64(3)\n",
      "memory usage: 47.3 KB\n"
     ]
    }
   ],
   "source": [
    "strat_train_set.info() #just for info. Nothing specific here !"
   ]
  },
  {
   "cell_type": "markdown",
   "id": "20246b7c",
   "metadata": {},
   "source": [
    "# 9. Scikit- Learn Design "
   ]
  },
  {
   "cell_type": "markdown",
   "id": "034cbc14",
   "metadata": {},
   "source": [
    "Scikit- Learn has primarily 3 types of methods:\n",
    "\n",
    "    1. Estimators- It estimates some parameters based on dataset. eg. imputer\n",
    "    It has a fit method and transform method.\n",
    "    Fit Method - Fits the data set and computes the internal parameters.\n",
    "    Transform Method - Imputer has a transform method also.Used to create numpy array from computed parameters and original dataset , without actually affecting the original dataset.\n",
    "    \n",
    "    2. Transformers - Transform method takes input and returns output based on the learning it took from fit()\n",
    "    Fit and transform can be called separately, but convinience function is optimised and takes lesser space and time.\n",
    "    It also has a convenience function called fit_transform() which fits and then transforms in one function itself. \n",
    "    \n",
    "    3. Predictors - \n",
    "    Linearregression model - fit() and predict() are two common functions. It will also give score function which evaluates the predictions."
   ]
  },
  {
   "cell_type": "markdown",
   "id": "f9244792",
   "metadata": {},
   "source": [
    "# 10. Feature Scaling "
   ]
  },
  {
   "cell_type": "markdown",
   "id": "a30af80c",
   "metadata": {},
   "source": [
    "Firstly why to scale features ? (also refer notebook)\n",
    "Some ML algorithm performs the best when the range of the features lies in the same scale. For example in this dataset if you look at histograms above, RM value is from 0 to 8 and MEDV value goes from 0 to 50. In this case the plot generated may be correct but  scaling them both in a certain range will give the best plot visuals.This is obtained by the methods below\n",
    "\n",
    "    Feature Scaling - https://www.youtube.com/watch?v=Y7m9MyPxcyQ&ab_channel=TheDataPost\n",
    "\n",
    "Primarily there are two methods for scaling features:\n",
    "\n",
    "    1. min-max scaling (Normalization) - Scaled values from 0 to 1\n",
    "    Normalization - https://www.youtube.com/watch?v=mtbJbDwqWLE&ab_channel=SimpleLearningPro'\n",
    "    Scaled value = (Value- Min) / (Max- Min)\n",
    "    Sklearn provides a class called MinMaxScaler\n",
    "\n",
    "    2. Standardization - Scaled values from -3 to 3 \n",
    "    Standardization https://www.youtube.com/watch?v=2tuBREK_mgE&t=23s&ab_channel=SimpleLearningPro\n",
    "    Scaled value = (Value - Mean) / Standard deviation\n",
    "    Sklearn provides a class called StandarScaler\n",
    "    \n",
    "Why Standardization is preferred over min max/Normalisation?\n",
    "    \n",
    "    In case if we make any mistakes in input values and that input value happened to be our min or max values, \n",
    "    our scaled values would give us the wrong result and can tremendously affect the model. \n",
    "    Whereas, if standardization is used, any mistake is masked, as the formula contains mean and standard deviation only,whereas Normalization formula consists min and max values.\n",
    "    Thus our model is not affected largely due to some wrong values.\n"
   ]
  },
  {
   "cell_type": "markdown",
   "id": "123918bb",
   "metadata": {},
   "source": [
    "# 11. Creating a pipeline\n",
    "Pipeline is: defining number of steps; to be taken on a particular dataset; to automate the task.\n",
    "Here; the functions are inserted in a sequential manner of their execution; and each function is\n",
    "assigned a variable; itself in the pipeline."
   ]
  },
  {
   "cell_type": "code",
   "execution_count": 88,
   "id": "a860449d",
   "metadata": {},
   "outputs": [],
   "source": [
    "from sklearn.pipeline import Pipeline\n",
    "from sklearn.preprocessing import StandardScaler"
   ]
  },
  {
   "cell_type": "code",
   "execution_count": 89,
   "id": "0364c46d",
   "metadata": {},
   "outputs": [],
   "source": [
    "# my_pipeline= Pipeline(steps) # where steps are list of tuples --> (name, transform)\n",
    "# List of (name, transform) tuples (implementing fit/transform) that are chained in sequential order. The last transform must be an estimator"
   ]
  },
  {
   "cell_type": "code",
   "execution_count": 90,
   "id": "93f59200",
   "metadata": {},
   "outputs": [],
   "source": [
    "my_pipeline= Pipeline([('imputer', SimpleImputer(strategy='median')), ('std_scaler',StandardScaler())])"
   ]
  },
  {
   "cell_type": "markdown",
   "id": "49bc205e",
   "metadata": {},
   "source": [
    "__All the code form 'Missing attributes' heading, till here is executed in a single line of Pipeline([(),()]); excluding transform. Transformation is done in next line. So 2 lines of code from scikit learn reduces such a lengthy task.__\n",
    "\n",
    "Some points from sklearn user guide: \n",
    "\n",
    "    Sequentially apply a list of transforms and a final estimator. \n",
    "    Intermediate steps of the pipeline must be ‘transforms’, that is, they must implement fit and transform methods. \n",
    "    The final estimator only needs to implement fit. \n",
    "    The transformers in the pipeline can be cached using memory argument."
   ]
  },
  {
   "cell_type": "code",
   "execution_count": 91,
   "id": "02097ea3",
   "metadata": {},
   "outputs": [],
   "source": [
    "# housing_num_tr = my_pipeline.fit_transform(housing_tr) \n",
    "# # fitting and transforming at the same time using a convenience function in pipeline."
   ]
  },
  {
   "cell_type": "markdown",
   "id": "3fd4965a",
   "metadata": {},
   "source": [
    "Refer the above line.\n",
    "\n",
    "    We cannot use housing_tr in our pipeline, as it is already imputed above, and has all its cells filled.\n",
    "    The purpose of imputing is to fill the empty cells with certain value (zero, median, mode). \n",
    "    'housing_tr' was created from 'X' variable, and then converted to pandas dataframe. Have a check !\n",
    "    We will use 'housing' as an argument for imputing in pipeline. It has empty cells !"
   ]
  },
  {
   "cell_type": "code",
   "execution_count": 92,
   "id": "b21bb5aa",
   "metadata": {},
   "outputs": [],
   "source": [
    "housing_num_tr = my_pipeline.fit_transform(housing) \n",
    "# fitting and transforming at the same time using a convenience function in pipeline."
   ]
  },
  {
   "cell_type": "code",
   "execution_count": 93,
   "id": "4e098d67",
   "metadata": {},
   "outputs": [
    {
     "name": "stdout",
     "output_type": "stream",
     "text": [
      "<class 'pandas.core.frame.DataFrame'>\n",
      "Int64Index: 404 entries, 254 to 216\n",
      "Data columns (total 13 columns):\n",
      " #   Column   Non-Null Count  Dtype  \n",
      "---  ------   --------------  -----  \n",
      " 0   CRIM     404 non-null    float64\n",
      " 1   ZN       404 non-null    float64\n",
      " 2   INDUS    404 non-null    float64\n",
      " 3   CHAS     404 non-null    int64  \n",
      " 4   NOX      404 non-null    float64\n",
      " 5   RM       399 non-null    float64\n",
      " 6   AGE      404 non-null    float64\n",
      " 7   DIS      404 non-null    float64\n",
      " 8   RAD      404 non-null    int64  \n",
      " 9   TAX      404 non-null    int64  \n",
      " 10  PTRATIO  404 non-null    float64\n",
      " 11  B        404 non-null    float64\n",
      " 12  LSTAT    404 non-null    float64\n",
      "dtypes: float64(10), int64(3)\n",
      "memory usage: 44.2 KB\n"
     ]
    }
   ],
   "source": [
    "housing.info()"
   ]
  },
  {
   "cell_type": "markdown",
   "id": "2fd02c1e",
   "metadata": {},
   "source": [
    "__Just a simple Check ! This part can be ignored completely further.__"
   ]
  },
  {
   "cell_type": "code",
   "execution_count": 94,
   "id": "365aecff",
   "metadata": {},
   "outputs": [],
   "source": [
    "# Note:\n",
    "#     'housing_num_tr' is a numpy array\n",
    "#     'housing' is a pandas dataframe"
   ]
  },
  {
   "cell_type": "code",
   "execution_count": 95,
   "id": "d7e72185",
   "metadata": {},
   "outputs": [
    {
     "data": {
      "text/plain": [
       "(404, 13)"
      ]
     },
     "execution_count": 95,
     "metadata": {},
     "output_type": "execute_result"
    }
   ],
   "source": [
    "housing_num_tr.shape # Trying to notice the changes made after transforming."
   ]
  },
  {
   "cell_type": "code",
   "execution_count": 96,
   "id": "0a074ce9",
   "metadata": {},
   "outputs": [
    {
     "data": {
      "text/plain": [
       "(404, 13)"
      ]
     },
     "execution_count": 96,
     "metadata": {},
     "output_type": "execute_result"
    }
   ],
   "source": [
    "housing.shape # Trying to notice the changes made. Shape function didn't help."
   ]
  },
  {
   "cell_type": "code",
   "execution_count": 97,
   "id": "6683e10a",
   "metadata": {},
   "outputs": [
    {
     "data": {
      "text/plain": [
       "numpy.ndarray"
      ]
     },
     "execution_count": 97,
     "metadata": {},
     "output_type": "execute_result"
    }
   ],
   "source": [
    "type(housing_num_tr) # checking type. Its a numpy array"
   ]
  },
  {
   "cell_type": "code",
   "execution_count": 98,
   "id": "a6a49edc",
   "metadata": {},
   "outputs": [
    {
     "data": {
      "text/plain": [
       "pandas.core.frame.DataFrame"
      ]
     },
     "execution_count": 98,
     "metadata": {},
     "output_type": "execute_result"
    }
   ],
   "source": [
    "type(housing)  # checking type. Its a pandas dataframe."
   ]
  },
  {
   "cell_type": "code",
   "execution_count": 99,
   "id": "b94b1c7a",
   "metadata": {},
   "outputs": [
    {
     "data": {
      "text/plain": [
       "-4.334310688136611e-13"
      ]
     },
     "execution_count": 99,
     "metadata": {},
     "output_type": "execute_result"
    }
   ],
   "source": [
    "np.sum(housing_num_tr) #trying to check the changes made... Adding the transformed array to compare with housing."
   ]
  },
  {
   "cell_type": "code",
   "execution_count": 100,
   "id": "6c668f1a",
   "metadata": {},
   "outputs": [
    {
     "data": {
      "text/plain": [
       "CRIM         1455.53687\n",
       "ZN           4378.00000\n",
       "INDUS        4583.36000\n",
       "CHAS           28.00000\n",
       "NOX           225.45770\n",
       "RM           2505.51300\n",
       "AGE         27892.10000\n",
       "DIS          1513.46870\n",
       "RAD          3933.00000\n",
       "TAX        166586.00000\n",
       "PTRATIO      7463.20000\n",
       "B          142770.70000\n",
       "LSTAT        5167.81000\n",
       "dtype: float64"
      ]
     },
     "execution_count": 100,
     "metadata": {},
     "output_type": "execute_result"
    }
   ],
   "source": [
    "np.sum(housing) # didn't get the expected result after adding. It added the individual columns; as it is the pandas datframe."
   ]
  },
  {
   "cell_type": "code",
   "execution_count": 101,
   "id": "40fc9a85",
   "metadata": {},
   "outputs": [
    {
     "data": {
      "text/plain": [
       "array([[4.81900e-02, 8.00000e+01, 3.64000e+00, ..., 1.64000e+01,\n",
       "        3.92890e+02, 6.57000e+00],\n",
       "       [1.50100e-02, 8.00000e+01, 2.01000e+00, ..., 1.70000e+01,\n",
       "        3.90940e+02, 5.99000e+00],\n",
       "       [4.87141e+00, 0.00000e+00, 1.81000e+01, ..., 2.02000e+01,\n",
       "        3.96210e+02, 1.86800e+01],\n",
       "       ...,\n",
       "       [8.18700e-02, 0.00000e+00, 2.89000e+00, ..., 1.80000e+01,\n",
       "        3.93530e+02, 3.57000e+00],\n",
       "       [4.75237e+00, 0.00000e+00, 1.81000e+01, ..., 2.02000e+01,\n",
       "        5.09200e+01, 1.81300e+01],\n",
       "       [4.56000e-02, 0.00000e+00, 1.38900e+01, ..., 1.64000e+01,\n",
       "        3.92800e+02, 1.35100e+01]])"
      ]
     },
     "execution_count": 101,
     "metadata": {},
     "output_type": "execute_result"
    }
   ],
   "source": [
    "housing.to_numpy() #converting pandas dataframe to numpy array."
   ]
  },
  {
   "cell_type": "code",
   "execution_count": 102,
   "id": "9c4db7c7",
   "metadata": {},
   "outputs": [
    {
     "data": {
      "text/plain": [
       "nan"
      ]
     },
     "execution_count": 102,
     "metadata": {},
     "output_type": "execute_result"
    }
   ],
   "source": [
    "np.sum(housing.to_numpy()) # adding values of the converted numpy array to compare with housing_num_tr.Empty values cannot count."
   ]
  },
  {
   "cell_type": "markdown",
   "id": "7c7068c1",
   "metadata": {},
   "source": [
    "__Notice that the sum of values of housing_num_tr returned a value,which means it has no empty values, whereas housing returned nan.\n",
    "So we can conclude that pipeline did its task of imputing housing_num_tr with median values and standardized using standard scaler.__"
   ]
  },
  {
   "cell_type": "code",
   "execution_count": 103,
   "id": "bcab6805",
   "metadata": {},
   "outputs": [
    {
     "data": {
      "text/plain": [
       "array([[-0.43942006,  3.12628155, -1.12165014, ..., -0.97491834,\n",
       "         0.41164221, -0.86091034],\n",
       "       [-0.44352175,  3.12628155, -1.35893781, ..., -0.69277865,\n",
       "         0.39131918, -0.94116739],\n",
       "       [ 0.15682292, -0.4898311 ,  0.98336806, ...,  0.81196637,\n",
       "         0.44624347,  0.81480158],\n",
       "       ...,\n",
       "       [-0.43525657, -0.4898311 , -1.23083158, ..., -0.22254583,\n",
       "         0.41831233, -1.27603303],\n",
       "       [ 0.14210728, -0.4898311 ,  0.98336806, ...,  0.81196637,\n",
       "        -3.15239177,  0.73869575],\n",
       "       [-0.43974024, -0.4898311 ,  0.37049623, ..., -0.97491834,\n",
       "         0.41070422,  0.09940681]])"
      ]
     },
     "execution_count": 103,
     "metadata": {},
     "output_type": "execute_result"
    }
   ],
   "source": [
    "housing_num_tr"
   ]
  },
  {
   "cell_type": "code",
   "execution_count": 104,
   "id": "db93822a",
   "metadata": {},
   "outputs": [
    {
     "data": {
      "text/plain": [
       "array([[4.81900e-02, 8.00000e+01, 3.64000e+00, ..., 1.64000e+01,\n",
       "        3.92890e+02, 6.57000e+00],\n",
       "       [1.50100e-02, 8.00000e+01, 2.01000e+00, ..., 1.70000e+01,\n",
       "        3.90940e+02, 5.99000e+00],\n",
       "       [4.87141e+00, 0.00000e+00, 1.81000e+01, ..., 2.02000e+01,\n",
       "        3.96210e+02, 1.86800e+01],\n",
       "       ...,\n",
       "       [8.18700e-02, 0.00000e+00, 2.89000e+00, ..., 1.80000e+01,\n",
       "        3.93530e+02, 3.57000e+00],\n",
       "       [4.75237e+00, 0.00000e+00, 1.81000e+01, ..., 2.02000e+01,\n",
       "        5.09200e+01, 1.81300e+01],\n",
       "       [4.56000e-02, 0.00000e+00, 1.38900e+01, ..., 1.64000e+01,\n",
       "        3.92800e+02, 1.35100e+01]])"
      ]
     },
     "execution_count": 104,
     "metadata": {},
     "output_type": "execute_result"
    }
   ],
   "source": [
    "housing.to_numpy()"
   ]
  },
  {
   "cell_type": "markdown",
   "id": "bb4eaf19",
   "metadata": {},
   "source": [
    "__The difference can be clearly noticed observing last two cells above. Feature scaling is successful__\n",
    "    End of ignorance !\n",
    "    Get serious !"
   ]
  },
  {
   "cell_type": "raw",
   "id": "6b502308",
   "metadata": {},
   "source": [
    "housing_num_tr.min() # To find the min of complete array"
   ]
  },
  {
   "cell_type": "raw",
   "id": "271f19b8",
   "metadata": {},
   "source": [
    "housing_num_tr.max() # To find the max of complete array"
   ]
  },
  {
   "cell_type": "raw",
   "id": "326063cd",
   "metadata": {},
   "source": [
    "np.median(housing_num_tr,axis= None) # To find the median of complete array"
   ]
  },
  {
   "cell_type": "markdown",
   "id": "1408d238",
   "metadata": {},
   "source": [
    "# 12. Selecting a desired model.\n",
    "Note : Predictors take input as a numpy array. So before any data is fed to the predictor make sure that it is a numpy array.\n",
    "Here we will provide housing_num_tr as an input which is a numpy array"
   ]
  },
  {
   "cell_type": "markdown",
   "id": "fbeb0f2a",
   "metadata": {},
   "source": [
    "## 12.1 Using Linear regression model "
   ]
  },
  {
   "cell_type": "code",
   "execution_count": 105,
   "id": "045a6976",
   "metadata": {},
   "outputs": [],
   "source": [
    "from sklearn.linear_model import LinearRegression\n",
    "model = LinearRegression()"
   ]
  },
  {
   "cell_type": "code",
   "execution_count": 106,
   "id": "b76d7393",
   "metadata": {},
   "outputs": [],
   "source": [
    "# model.fit (train_features,train_labels) "
   ]
  },
  {
   "cell_type": "markdown",
   "id": "6f169e41",
   "metadata": {},
   "source": [
    "__line number 53,54 updated after this cell.It is a Line before missing attributes section.__\n",
    "\n",
    "    Here we need to provide the features and labels separately.\n",
    "    Our 'housing' data has features and labels both in it. So we need to separate them to feed in the model.fit()"
   ]
  },
  {
   "cell_type": "code",
   "execution_count": 107,
   "id": "50ba90a6",
   "metadata": {},
   "outputs": [
    {
     "data": {
      "text/plain": [
       "numpy.ndarray"
      ]
     },
     "execution_count": 107,
     "metadata": {},
     "output_type": "execute_result"
    }
   ],
   "source": [
    "type(housing_num_tr)"
   ]
  },
  {
   "cell_type": "code",
   "execution_count": 108,
   "id": "e70e69e6",
   "metadata": {},
   "outputs": [
    {
     "data": {
      "text/plain": [
       "pandas.core.series.Series"
      ]
     },
     "execution_count": 108,
     "metadata": {},
     "output_type": "execute_result"
    }
   ],
   "source": [
    "type(housing_labels)"
   ]
  },
  {
   "cell_type": "code",
   "execution_count": 109,
   "id": "527b3626",
   "metadata": {},
   "outputs": [
    {
     "data": {
      "text/plain": [
       "LinearRegression()"
      ]
     },
     "execution_count": 109,
     "metadata": {},
     "output_type": "execute_result"
    }
   ],
   "source": [
    "model.fit(housing_num_tr,housing_labels)  # (line 90,Line 54) Takes (numpy_array,pandas_series)"
   ]
  },
  {
   "cell_type": "markdown",
   "id": "92947d5d",
   "metadata": {},
   "source": [
    "__OVERFITTING ALERT__  \n",
    "Whats wrong here ? Overfitting issue:  Here notice that after fitting training_features and training_labels to the model(above line),exactly the same training_features, after slicing (some_data) and transforming, are being provided to model for predictions.It means that, we are training and testing on the same data. This may cause overfitting, and predict over accurate values for training data, and cause extreme errors for the unknown test data. This must be avoided at any cost. So it is very important to check for what data is fed for fitting and predicting, before the model is selected or discarded for accuracy.\n",
    "\n",
    "    Key point : Split the train and test data accurately. Make sure that train data is not used for predictions at any cost. "
   ]
  },
  {
   "cell_type": "code",
   "execution_count": 110,
   "id": "d9d52939",
   "metadata": {},
   "outputs": [
    {
     "data": {
      "text/plain": [
       "254    21.9\n",
       "348    24.5\n",
       "476    16.7\n",
       "321    23.1\n",
       "326    23.0\n",
       "       ... \n",
       "155    15.6\n",
       "423    13.4\n",
       "98     43.8\n",
       "455    14.1\n",
       "216    23.3\n",
       "Name: MEDV, Length: 404, dtype: float64"
      ]
     },
     "execution_count": 110,
     "metadata": {},
     "output_type": "execute_result"
    }
   ],
   "source": [
    "housing_labels # notice that housing_labels and some_labels(below) contain same values."
   ]
  },
  {
   "cell_type": "markdown",
   "id": "b66def70",
   "metadata": {},
   "source": [
    "Further we will split our training data in few 5 rows to check the predictions accuracy."
   ]
  },
  {
   "cell_type": "code",
   "execution_count": 111,
   "id": "038522cd",
   "metadata": {},
   "outputs": [],
   "source": [
    "some_data= housing.iloc[:5]"
   ]
  },
  {
   "cell_type": "code",
   "execution_count": 112,
   "id": "a1eb69ef",
   "metadata": {},
   "outputs": [
    {
     "data": {
      "text/html": [
       "<div>\n",
       "<style scoped>\n",
       "    .dataframe tbody tr th:only-of-type {\n",
       "        vertical-align: middle;\n",
       "    }\n",
       "\n",
       "    .dataframe tbody tr th {\n",
       "        vertical-align: top;\n",
       "    }\n",
       "\n",
       "    .dataframe thead th {\n",
       "        text-align: right;\n",
       "    }\n",
       "</style>\n",
       "<table border=\"1\" class=\"dataframe\">\n",
       "  <thead>\n",
       "    <tr style=\"text-align: right;\">\n",
       "      <th></th>\n",
       "      <th>CRIM</th>\n",
       "      <th>ZN</th>\n",
       "      <th>INDUS</th>\n",
       "      <th>CHAS</th>\n",
       "      <th>NOX</th>\n",
       "      <th>RM</th>\n",
       "      <th>AGE</th>\n",
       "      <th>DIS</th>\n",
       "      <th>RAD</th>\n",
       "      <th>TAX</th>\n",
       "      <th>PTRATIO</th>\n",
       "      <th>B</th>\n",
       "      <th>LSTAT</th>\n",
       "    </tr>\n",
       "  </thead>\n",
       "  <tbody>\n",
       "    <tr>\n",
       "      <th>254</th>\n",
       "      <td>0.04819</td>\n",
       "      <td>80.0</td>\n",
       "      <td>3.64</td>\n",
       "      <td>0</td>\n",
       "      <td>0.392</td>\n",
       "      <td>6.108</td>\n",
       "      <td>32.0</td>\n",
       "      <td>9.2203</td>\n",
       "      <td>1</td>\n",
       "      <td>315</td>\n",
       "      <td>16.4</td>\n",
       "      <td>392.89</td>\n",
       "      <td>6.57</td>\n",
       "    </tr>\n",
       "    <tr>\n",
       "      <th>348</th>\n",
       "      <td>0.01501</td>\n",
       "      <td>80.0</td>\n",
       "      <td>2.01</td>\n",
       "      <td>0</td>\n",
       "      <td>0.435</td>\n",
       "      <td>6.635</td>\n",
       "      <td>29.7</td>\n",
       "      <td>8.3440</td>\n",
       "      <td>4</td>\n",
       "      <td>280</td>\n",
       "      <td>17.0</td>\n",
       "      <td>390.94</td>\n",
       "      <td>5.99</td>\n",
       "    </tr>\n",
       "    <tr>\n",
       "      <th>476</th>\n",
       "      <td>4.87141</td>\n",
       "      <td>0.0</td>\n",
       "      <td>18.10</td>\n",
       "      <td>0</td>\n",
       "      <td>0.614</td>\n",
       "      <td>6.484</td>\n",
       "      <td>93.6</td>\n",
       "      <td>2.3053</td>\n",
       "      <td>24</td>\n",
       "      <td>666</td>\n",
       "      <td>20.2</td>\n",
       "      <td>396.21</td>\n",
       "      <td>18.68</td>\n",
       "    </tr>\n",
       "    <tr>\n",
       "      <th>321</th>\n",
       "      <td>0.18159</td>\n",
       "      <td>0.0</td>\n",
       "      <td>7.38</td>\n",
       "      <td>0</td>\n",
       "      <td>0.493</td>\n",
       "      <td>6.376</td>\n",
       "      <td>54.3</td>\n",
       "      <td>4.5404</td>\n",
       "      <td>5</td>\n",
       "      <td>287</td>\n",
       "      <td>19.6</td>\n",
       "      <td>396.90</td>\n",
       "      <td>6.87</td>\n",
       "    </tr>\n",
       "    <tr>\n",
       "      <th>326</th>\n",
       "      <td>0.30347</td>\n",
       "      <td>0.0</td>\n",
       "      <td>7.38</td>\n",
       "      <td>0</td>\n",
       "      <td>0.493</td>\n",
       "      <td>6.312</td>\n",
       "      <td>28.9</td>\n",
       "      <td>5.4159</td>\n",
       "      <td>5</td>\n",
       "      <td>287</td>\n",
       "      <td>19.6</td>\n",
       "      <td>396.90</td>\n",
       "      <td>6.15</td>\n",
       "    </tr>\n",
       "  </tbody>\n",
       "</table>\n",
       "</div>"
      ],
      "text/plain": [
       "        CRIM    ZN  INDUS  CHAS    NOX     RM   AGE     DIS  RAD  TAX  \\\n",
       "254  0.04819  80.0   3.64     0  0.392  6.108  32.0  9.2203    1  315   \n",
       "348  0.01501  80.0   2.01     0  0.435  6.635  29.7  8.3440    4  280   \n",
       "476  4.87141   0.0  18.10     0  0.614  6.484  93.6  2.3053   24  666   \n",
       "321  0.18159   0.0   7.38     0  0.493  6.376  54.3  4.5404    5  287   \n",
       "326  0.30347   0.0   7.38     0  0.493  6.312  28.9  5.4159    5  287   \n",
       "\n",
       "     PTRATIO       B  LSTAT  \n",
       "254     16.4  392.89   6.57  \n",
       "348     17.0  390.94   5.99  \n",
       "476     20.2  396.21  18.68  \n",
       "321     19.6  396.90   6.87  \n",
       "326     19.6  396.90   6.15  "
      ]
     },
     "execution_count": 112,
     "metadata": {},
     "output_type": "execute_result"
    }
   ],
   "source": [
    "some_data"
   ]
  },
  {
   "cell_type": "code",
   "execution_count": 113,
   "id": "6fb47ab9",
   "metadata": {},
   "outputs": [],
   "source": [
    "some_labels = housing_labels[:5]"
   ]
  },
  {
   "cell_type": "code",
   "execution_count": 114,
   "id": "bf2bc93e",
   "metadata": {},
   "outputs": [
    {
     "data": {
      "text/plain": [
       "254    21.9\n",
       "348    24.5\n",
       "476    16.7\n",
       "321    23.1\n",
       "326    23.0\n",
       "Name: MEDV, dtype: float64"
      ]
     },
     "execution_count": 114,
     "metadata": {},
     "output_type": "execute_result"
    }
   ],
   "source": [
    "some_labels"
   ]
  },
  {
   "cell_type": "code",
   "execution_count": 115,
   "id": "6a458819",
   "metadata": {},
   "outputs": [
    {
     "data": {
      "text/plain": [
       "pandas.core.frame.DataFrame"
      ]
     },
     "execution_count": 115,
     "metadata": {},
     "output_type": "execute_result"
    }
   ],
   "source": [
    "type(some_data)"
   ]
  },
  {
   "cell_type": "code",
   "execution_count": 116,
   "id": "fa52a977",
   "metadata": {},
   "outputs": [
    {
     "data": {
      "text/plain": [
       "pandas.core.series.Series"
      ]
     },
     "execution_count": 116,
     "metadata": {},
     "output_type": "execute_result"
    }
   ],
   "source": [
    "type(some_labels)"
   ]
  },
  {
   "cell_type": "code",
   "execution_count": 117,
   "id": "7096d178",
   "metadata": {},
   "outputs": [],
   "source": [
    "prepared_data = my_pipeline.transform(some_data) \n",
    "#passing the training data through pipeline and then transforming to numpy array."
   ]
  },
  {
   "cell_type": "code",
   "execution_count": 118,
   "id": "dd4fa1dc",
   "metadata": {},
   "outputs": [
    {
     "data": {
      "text/plain": [
       "numpy.ndarray"
      ]
     },
     "execution_count": 118,
     "metadata": {},
     "output_type": "execute_result"
    }
   ],
   "source": [
    "type(prepared_data)"
   ]
  },
  {
   "cell_type": "code",
   "execution_count": 119,
   "id": "f578d8bd",
   "metadata": {},
   "outputs": [
    {
     "data": {
      "text/plain": [
       "array([[-0.43942006,  3.12628155, -1.12165014, -0.27288841, -1.42262747,\n",
       "        -0.23979304, -1.31238772,  2.61111401, -1.0016859 , -0.5778192 ,\n",
       "        -0.97491834,  0.41164221, -0.86091034],\n",
       "       [-0.44352175,  3.12628155, -1.35893781, -0.27288841, -1.0542567 ,\n",
       "         0.5009123 , -1.3938808 ,  2.19312325, -0.65766683, -0.78557904,\n",
       "        -0.69277865,  0.39131918, -0.94116739],\n",
       "       [ 0.15682292, -0.4898311 ,  0.98336806, -0.27288841,  0.47919371,\n",
       "         0.28867984,  0.87020968, -0.68730678,  1.63579367,  1.50571521,\n",
       "         0.81196637,  0.44624347,  0.81480158],\n",
       "       [-0.42292925, -0.4898311 , -0.57719868, -0.27288841, -0.5573845 ,\n",
       "         0.13688444, -0.52225911,  0.37882487, -0.5429938 , -0.74402708,\n",
       "         0.52982668,  0.45343469, -0.81939807],\n",
       "       [-0.40786253, -0.4898311 , -0.57719868, -0.27288841, -0.5573845 ,\n",
       "         0.04693161, -1.42222622,  0.79643404, -0.5429938 , -0.74402708,\n",
       "         0.52982668,  0.45343469, -0.91902752]])"
      ]
     },
     "execution_count": 119,
     "metadata": {},
     "output_type": "execute_result"
    }
   ],
   "source": [
    "prepared_data"
   ]
  },
  {
   "cell_type": "code",
   "execution_count": 120,
   "id": "0482f472",
   "metadata": {},
   "outputs": [
    {
     "data": {
      "text/plain": [
       "array([23.99866812, 27.25283558, 20.5818147 , 25.04908672, 23.77464206])"
      ]
     },
     "execution_count": 120,
     "metadata": {},
     "output_type": "execute_result"
    }
   ],
   "source": [
    "model.predict(prepared_data) # predicted labels for prepared_data"
   ]
  },
  {
   "cell_type": "code",
   "execution_count": 121,
   "id": "d7a336fa",
   "metadata": {},
   "outputs": [
    {
     "data": {
      "text/plain": [
       "[21.9, 24.5, 16.7, 23.1, 23.0]"
      ]
     },
     "execution_count": 121,
     "metadata": {},
     "output_type": "execute_result"
    }
   ],
   "source": [
    "list(some_labels) #actual labels - compare with predicted above."
   ]
  },
  {
   "cell_type": "code",
   "execution_count": 122,
   "id": "495e8388",
   "metadata": {},
   "outputs": [
    {
     "data": {
      "text/plain": [
       "[21.9,\n",
       " 24.5,\n",
       " 16.7,\n",
       " 23.1,\n",
       " 23.0,\n",
       " 17.2,\n",
       " 24.4,\n",
       " 27.5,\n",
       " 9.5,\n",
       " 31.6,\n",
       " 16.3,\n",
       " 18.3,\n",
       " 8.1,\n",
       " 34.9,\n",
       " 24.5,\n",
       " 13.4,\n",
       " 18.7,\n",
       " 19.1,\n",
       " 5.6,\n",
       " 20.5,\n",
       " 19.6,\n",
       " 17.2,\n",
       " 17.4,\n",
       " 27.5,\n",
       " 23.9,\n",
       " 25.0,\n",
       " 12.7,\n",
       " 21.2,\n",
       " 14.8,\n",
       " 29.0,\n",
       " 14.0,\n",
       " 16.6,\n",
       " 11.3,\n",
       " 13.3,\n",
       " 21.9,\n",
       " 29.6,\n",
       " 23.4,\n",
       " 50.0,\n",
       " 31.7,\n",
       " 20.4,\n",
       " 21.4,\n",
       " 34.9,\n",
       " 37.9,\n",
       " 10.4,\n",
       " 20.1,\n",
       " 13.8,\n",
       " 21.7,\n",
       " 25.0,\n",
       " 22.2,\n",
       " 7.0,\n",
       " 24.8,\n",
       " 22.8,\n",
       " 23.8,\n",
       " 28.7,\n",
       " 14.3,\n",
       " 41.3,\n",
       " 21.7,\n",
       " 23.9,\n",
       " 32.9,\n",
       " 16.1,\n",
       " 19.5,\n",
       " 19.9,\n",
       " 28.4,\n",
       " 21.0,\n",
       " 13.8,\n",
       " 31.6,\n",
       " 50.0,\n",
       " 14.5,\n",
       " 26.6,\n",
       " 35.4,\n",
       " 22.0,\n",
       " 36.5,\n",
       " 22.4,\n",
       " 10.5,\n",
       " 20.1,\n",
       " 29.8,\n",
       " 24.0,\n",
       " 15.2,\n",
       " 16.1,\n",
       " 18.5,\n",
       " 29.6,\n",
       " 7.5,\n",
       " 19.3,\n",
       " 18.7,\n",
       " 24.8,\n",
       " 27.5,\n",
       " 30.5,\n",
       " 25.3,\n",
       " 29.8,\n",
       " 17.9,\n",
       " 22.9,\n",
       " 30.1,\n",
       " 27.9,\n",
       " 20.4,\n",
       " 21.7,\n",
       " 33.4,\n",
       " 21.9,\n",
       " 19.0,\n",
       " 22.0,\n",
       " 19.1,\n",
       " 13.9,\n",
       " 45.4,\n",
       " 20.3,\n",
       " 42.3,\n",
       " 16.0,\n",
       " 15.6,\n",
       " 20.5,\n",
       " 22.7,\n",
       " 29.1,\n",
       " 17.8,\n",
       " 15.0,\n",
       " 7.2,\n",
       " 15.1,\n",
       " 20.6,\n",
       " 11.8,\n",
       " 19.1,\n",
       " 13.1,\n",
       " 37.2,\n",
       " 23.3,\n",
       " 15.2,\n",
       " 23.1,\n",
       " 8.5,\n",
       " 8.3,\n",
       " 19.3,\n",
       " 24.1,\n",
       " 14.6,\n",
       " 14.1,\n",
       " 25.0,\n",
       " 11.7,\n",
       " 21.2,\n",
       " 22.9,\n",
       " 11.8,\n",
       " 16.8,\n",
       " 11.9,\n",
       " 50.0,\n",
       " 17.1,\n",
       " 23.7,\n",
       " 23.9,\n",
       " 22.5,\n",
       " 50.0,\n",
       " 14.9,\n",
       " 22.6,\n",
       " 28.6,\n",
       " 18.8,\n",
       " 32.7,\n",
       " 17.6,\n",
       " 21.0,\n",
       " 18.5,\n",
       " 19.9,\n",
       " 8.8,\n",
       " 24.5,\n",
       " 17.1,\n",
       " 36.0,\n",
       " 14.5,\n",
       " 23.7,\n",
       " 13.4,\n",
       " 17.8,\n",
       " 19.4,\n",
       " 24.7,\n",
       " 19.3,\n",
       " 26.4,\n",
       " 24.6,\n",
       " 26.6,\n",
       " 18.9,\n",
       " 48.8,\n",
       " 13.6,\n",
       " 24.6,\n",
       " 50.0,\n",
       " 26.2,\n",
       " 23.7,\n",
       " 21.4,\n",
       " 28.7,\n",
       " 44.8,\n",
       " 24.0,\n",
       " 20.7,\n",
       " 25.0,\n",
       " 13.3,\n",
       " 25.0,\n",
       " 8.7,\n",
       " 18.3,\n",
       " 37.6,\n",
       " 13.9,\n",
       " 21.2,\n",
       " 29.9,\n",
       " 23.7,\n",
       " 27.5,\n",
       " 15.0,\n",
       " 26.7,\n",
       " 20.6,\n",
       " 31.2,\n",
       " 20.5,\n",
       " 32.0,\n",
       " 23.0,\n",
       " 24.2,\n",
       " 16.2,\n",
       " 12.1,\n",
       " 33.0,\n",
       " 31.5,\n",
       " 33.4,\n",
       " 22.5,\n",
       " 16.1,\n",
       " 50.0,\n",
       " 19.2,\n",
       " 22.2,\n",
       " 29.4,\n",
       " 18.4,\n",
       " 14.4,\n",
       " 22.8,\n",
       " 22.0,\n",
       " 10.9,\n",
       " 23.9,\n",
       " 16.5,\n",
       " 22.1,\n",
       " 46.0,\n",
       " 21.4,\n",
       " 33.2,\n",
       " 15.4,\n",
       " 26.6,\n",
       " 14.9,\n",
       " 10.8,\n",
       " 21.6,\n",
       " 19.6,\n",
       " 19.4,\n",
       " 18.9,\n",
       " 18.8,\n",
       " 13.8,\n",
       " 9.6,\n",
       " 22.9,\n",
       " 19.8,\n",
       " 19.6,\n",
       " 17.8,\n",
       " 23.2,\n",
       " 23.5,\n",
       " 17.0,\n",
       " 22.8,\n",
       " 34.9,\n",
       " 18.9,\n",
       " 9.7,\n",
       " 13.1,\n",
       " 20.6,\n",
       " 12.6,\n",
       " 8.3,\n",
       " 29.0,\n",
       " 17.5,\n",
       " 21.1,\n",
       " 21.4,\n",
       " 22.6,\n",
       " 24.4,\n",
       " 25.0,\n",
       " 31.1,\n",
       " 12.8,\n",
       " 20.8,\n",
       " 19.8,\n",
       " 21.8,\n",
       " 19.6,\n",
       " 17.8,\n",
       " 50.0,\n",
       " 50.0,\n",
       " 19.3,\n",
       " 11.0,\n",
       " 13.8,\n",
       " 50.0,\n",
       " 25.1,\n",
       " 10.2,\n",
       " 50.0,\n",
       " 13.2,\n",
       " 50.0,\n",
       " 24.4,\n",
       " 28.7,\n",
       " 16.2,\n",
       " 35.4,\n",
       " 22.8,\n",
       " 20.1,\n",
       " 22.5,\n",
       " 22.6,\n",
       " 32.4,\n",
       " 13.5,\n",
       " 10.2,\n",
       " 20.1,\n",
       " 33.8,\n",
       " 16.8,\n",
       " 22.3,\n",
       " 17.1,\n",
       " 30.1,\n",
       " 36.4,\n",
       " 23.1,\n",
       " 22.0,\n",
       " 8.5,\n",
       " 23.1,\n",
       " 48.3,\n",
       " 27.1,\n",
       " 10.9,\n",
       " 11.5,\n",
       " 12.7,\n",
       " 16.4,\n",
       " 20.0,\n",
       " 15.6,\n",
       " 42.8,\n",
       " 15.6,\n",
       " 50.0,\n",
       " 21.0,\n",
       " 23.2,\n",
       " 46.7,\n",
       " 34.7,\n",
       " 22.7,\n",
       " 6.3,\n",
       " 7.4,\n",
       " 24.3,\n",
       " 23.2,\n",
       " 20.2,\n",
       " 17.3,\n",
       " 28.4,\n",
       " 20.0,\n",
       " 20.7,\n",
       " 22.0,\n",
       " 24.1,\n",
       " 36.2,\n",
       " 28.2,\n",
       " 43.5,\n",
       " 21.2,\n",
       " 17.5,\n",
       " 19.3,\n",
       " 20.3,\n",
       " 15.3,\n",
       " 22.3,\n",
       " 48.5,\n",
       " 20.0,\n",
       " 18.1,\n",
       " 22.0,\n",
       " 16.6,\n",
       " 36.1,\n",
       " 18.5,\n",
       " 18.6,\n",
       " 15.0,\n",
       " 23.3,\n",
       " 8.4,\n",
       " 20.9,\n",
       " 19.7,\n",
       " 18.0,\n",
       " 17.7,\n",
       " 17.5,\n",
       " 18.2,\n",
       " 13.4,\n",
       " 22.6,\n",
       " 26.4,\n",
       " 17.4,\n",
       " 18.2,\n",
       " 20.0,\n",
       " 15.4,\n",
       " 20.8,\n",
       " 21.7,\n",
       " 14.2,\n",
       " 24.1,\n",
       " 22.2,\n",
       " 18.5,\n",
       " 22.4,\n",
       " 19.4,\n",
       " 30.8,\n",
       " 20.0,\n",
       " 23.1,\n",
       " 17.4,\n",
       " 12.5,\n",
       " 13.3,\n",
       " 25.2,\n",
       " 37.0,\n",
       " 50.0,\n",
       " 22.6,\n",
       " 18.2,\n",
       " 23.9,\n",
       " 18.4,\n",
       " 13.1,\n",
       " 32.5,\n",
       " 22.9,\n",
       " 50.0,\n",
       " 14.3,\n",
       " 14.5,\n",
       " 21.4,\n",
       " 8.4,\n",
       " 24.7,\n",
       " 20.2,\n",
       " 38.7,\n",
       " 30.7,\n",
       " 18.4,\n",
       " 13.0,\n",
       " 12.0,\n",
       " 19.1,\n",
       " 39.8,\n",
       " 24.3,\n",
       " 35.1,\n",
       " 19.4,\n",
       " 24.8,\n",
       " 10.5,\n",
       " 8.8,\n",
       " 15.7,\n",
       " 14.9,\n",
       " 26.5,\n",
       " 33.1,\n",
       " 5.0,\n",
       " 23.1,\n",
       " 15.6,\n",
       " 13.4,\n",
       " 43.8,\n",
       " 14.1,\n",
       " 23.3]"
      ]
     },
     "execution_count": 122,
     "metadata": {},
     "output_type": "execute_result"
    }
   ],
   "source": [
    "list(housing_labels) #same as some_labels. Highlighting an Overfitting issue."
   ]
  },
  {
   "cell_type": "markdown",
   "id": "a3c832b1",
   "metadata": {},
   "source": [
    "## Evaluating the linear regression model using mean squared error"
   ]
  },
  {
   "cell_type": "markdown",
   "id": "b6a3dde0",
   "metadata": {},
   "source": [
    "__Above we used only 5 rows to just check for the accuracy of our model. Now applying the same to the complete dataset.__"
   ]
  },
  {
   "cell_type": "code",
   "execution_count": 123,
   "id": "1183a5a5",
   "metadata": {},
   "outputs": [],
   "source": [
    "from sklearn.linear_model import LinearRegression\n",
    "model = LinearRegression()\n",
    "from sklearn.metrics import mean_squared_error\n",
    "model.fit(housing_num_tr,housing_labels)\n",
    "housing_predictions = model.predict(housing_num_tr) # (finding predicted labels using training features)\n",
    "lin_mse = mean_squared_error(housing_labels,housing_predictions) # finding error using (training label,predicted label)\n"
   ]
  },
  {
   "cell_type": "code",
   "execution_count": 124,
   "id": "eb18bc19",
   "metadata": {},
   "outputs": [],
   "source": [
    "# My opinion on how it should be ?\n",
    "# model.fit(train_features,training_labels)\n",
    "# predicted_labels = model.predict(test_features)\n",
    "# lin_mse = mean_squared_error(test_labels,predicted_labels)"
   ]
  },
  {
   "cell_type": "code",
   "execution_count": 125,
   "id": "1eae54dc",
   "metadata": {},
   "outputs": [
    {
     "data": {
      "text/plain": [
       "23.380136328422374"
      ]
     },
     "execution_count": 125,
     "metadata": {},
     "output_type": "execute_result"
    }
   ],
   "source": [
    "lin_mse"
   ]
  },
  {
   "cell_type": "code",
   "execution_count": 126,
   "id": "5f4ad1ae",
   "metadata": {},
   "outputs": [
    {
     "data": {
      "text/plain": [
       "4.835301058716238"
      ]
     },
     "execution_count": 126,
     "metadata": {},
     "output_type": "execute_result"
    }
   ],
   "source": [
    "np.sqrt(lin_mse)"
   ]
  },
  {
   "cell_type": "markdown",
   "id": "6a6e5364",
   "metadata": {},
   "source": [
    "__Above the model was tested using train data only TO understand overfitting. For my understanding checking the model with test data__"
   ]
  },
  {
   "cell_type": "code",
   "execution_count": 127,
   "id": "abf09ed4",
   "metadata": {},
   "outputs": [
    {
     "data": {
      "text/plain": [
       "(404, 13)"
      ]
     },
     "execution_count": 127,
     "metadata": {},
     "output_type": "execute_result"
    }
   ],
   "source": [
    "housing_num_tr.shape"
   ]
  },
  {
   "cell_type": "code",
   "execution_count": 128,
   "id": "86e70671",
   "metadata": {},
   "outputs": [
    {
     "data": {
      "text/plain": [
       "(102, 14)"
      ]
     },
     "execution_count": 128,
     "metadata": {},
     "output_type": "execute_result"
    }
   ],
   "source": [
    "strat_test_set.shape"
   ]
  },
  {
   "cell_type": "code",
   "execution_count": 129,
   "id": "a0f68e2a",
   "metadata": {
    "scrolled": true
   },
   "outputs": [],
   "source": [
    "housing_test_feature = strat_test_set.drop('MEDV',axis=1)"
   ]
  },
  {
   "cell_type": "code",
   "execution_count": 130,
   "id": "7017beef",
   "metadata": {},
   "outputs": [
    {
     "data": {
      "text/plain": [
       "(102, 13)"
      ]
     },
     "execution_count": 130,
     "metadata": {},
     "output_type": "execute_result"
    }
   ],
   "source": [
    "housing_test_feature.shape"
   ]
  },
  {
   "cell_type": "code",
   "execution_count": 131,
   "id": "6a7def89",
   "metadata": {},
   "outputs": [],
   "source": [
    "housing_test_label = strat_test_set['MEDV'].copy()"
   ]
  },
  {
   "cell_type": "code",
   "execution_count": 132,
   "id": "d6c1231f",
   "metadata": {},
   "outputs": [
    {
     "data": {
      "text/plain": [
       "(102,)"
      ]
     },
     "execution_count": 132,
     "metadata": {},
     "output_type": "execute_result"
    }
   ],
   "source": [
    "housing_test_label.shape"
   ]
  },
  {
   "cell_type": "code",
   "execution_count": 133,
   "id": "57e229be",
   "metadata": {},
   "outputs": [],
   "source": [
    "housing_test_feature_tr = my_pipeline.fit_transform(housing_test_feature) #passing test_set through pipleline"
   ]
  },
  {
   "cell_type": "markdown",
   "id": "0063e00e",
   "metadata": {},
   "source": [
    "Notice that in this case strat_test_set has no missing values. Filling and passing through pipeline just to generate a numpy array"
   ]
  },
  {
   "cell_type": "code",
   "execution_count": 134,
   "id": "795f6465",
   "metadata": {},
   "outputs": [
    {
     "data": {
      "text/plain": [
       "(102, 13)"
      ]
     },
     "execution_count": 134,
     "metadata": {},
     "output_type": "execute_result"
    }
   ],
   "source": [
    "housing_test_feature_tr.shape"
   ]
  },
  {
   "cell_type": "code",
   "execution_count": 135,
   "id": "14f2693d",
   "metadata": {},
   "outputs": [
    {
     "data": {
      "text/plain": [
       "numpy.ndarray"
      ]
     },
     "execution_count": 135,
     "metadata": {},
     "output_type": "execute_result"
    }
   ],
   "source": [
    "type(housing_test_feature_tr)"
   ]
  },
  {
   "cell_type": "markdown",
   "id": "ffc9872d",
   "metadata": {},
   "source": [
    "__Checking model using test data.__"
   ]
  },
  {
   "cell_type": "code",
   "execution_count": 136,
   "id": "d0c6be4a",
   "metadata": {},
   "outputs": [],
   "source": [
    "# My opinion on how it should be ?\n",
    "model.fit(housing_num_tr,housing_labels)\n",
    "predicted_labels = model.predict(housing_test_feature_tr)\n",
    "lin_mse = mean_squared_error(housing_test_label,predicted_labels)"
   ]
  },
  {
   "cell_type": "code",
   "execution_count": 137,
   "id": "e31b3743",
   "metadata": {},
   "outputs": [
    {
     "data": {
      "text/plain": [
       "(102,)"
      ]
     },
     "execution_count": 137,
     "metadata": {},
     "output_type": "execute_result"
    }
   ],
   "source": [
    "predicted_labels.shape"
   ]
  },
  {
   "cell_type": "code",
   "execution_count": 138,
   "id": "8b95601b",
   "metadata": {},
   "outputs": [
    {
     "data": {
      "text/plain": [
       "(102,)"
      ]
     },
     "execution_count": 138,
     "metadata": {},
     "output_type": "execute_result"
    }
   ],
   "source": [
    "housing_test_label.shape"
   ]
  },
  {
   "cell_type": "code",
   "execution_count": 139,
   "id": "a08a2cae",
   "metadata": {},
   "outputs": [
    {
     "data": {
      "text/plain": [
       "17.86704516797055"
      ]
     },
     "execution_count": 139,
     "metadata": {},
     "output_type": "execute_result"
    }
   ],
   "source": [
    "lin_mse"
   ]
  },
  {
   "cell_type": "code",
   "execution_count": 140,
   "id": "08568a82",
   "metadata": {},
   "outputs": [
    {
     "data": {
      "text/plain": [
       "4.226942768475881"
      ]
     },
     "execution_count": 140,
     "metadata": {},
     "output_type": "execute_result"
    }
   ],
   "source": [
    "np.sqrt(lin_mse)"
   ]
  },
  {
   "cell_type": "code",
   "execution_count": 141,
   "id": "c7090f08",
   "metadata": {},
   "outputs": [
    {
     "data": {
      "text/plain": [
       "4.226942768475881"
      ]
     },
     "execution_count": 141,
     "metadata": {},
     "output_type": "execute_result"
    }
   ],
   "source": [
    "np.sqrt(lin_mse)"
   ]
  },
  {
   "cell_type": "code",
   "execution_count": 142,
   "id": "98174aa8",
   "metadata": {},
   "outputs": [
    {
     "data": {
      "text/plain": [
       "(102,)"
      ]
     },
     "execution_count": 142,
     "metadata": {},
     "output_type": "execute_result"
    }
   ],
   "source": [
    "housing_test_label.to_numpy().shape"
   ]
  },
  {
   "cell_type": "code",
   "execution_count": 143,
   "id": "f96d844e",
   "metadata": {},
   "outputs": [
    {
     "data": {
      "text/plain": [
       "(102,)"
      ]
     },
     "execution_count": 143,
     "metadata": {},
     "output_type": "execute_result"
    }
   ],
   "source": [
    "predicted_labels.shape"
   ]
  },
  {
   "cell_type": "code",
   "execution_count": 144,
   "id": "f791a13f",
   "metadata": {},
   "outputs": [
    {
     "data": {
      "text/plain": [
       "array([16.5, 10.2, 30.1, 23. , 14.4, 15.6, 19.4, 14.1, 30.3, 35.2, 23.1,\n",
       "       13.8, 25. , 27.9, 19.5, 12.3, 32.2, 13.5, 23.8, 21.7, 19.2, 19.5,\n",
       "       10.4, 23.2, 18.6, 28.5, 15.2, 32. ,  7.2, 34.6, 20.1, 20.6, 23.6,\n",
       "       13.1, 23.8, 12.7, 43.1, 24.7, 22.2, 44. , 28.1, 31. , 21.7, 23.4,\n",
       "       19.5, 33.1, 41.7, 18.7, 19.9, 20.6, 21.2, 13.6, 20.3, 17.8, 27.1,\n",
       "       31.5, 50. , 29.1, 18.9, 20.4, 50. ,  7.2, 17.2, 36.2, 14.6, 33.2,\n",
       "       23.8, 19.9, 21.5, 37.3, 27. , 22. , 24.3, 19.8, 33.3,  7. , 19.4,\n",
       "       20.9, 21.1, 20.4, 22.2, 11.9, 11.7, 21.6, 19.7, 23. , 16.7, 21.7,\n",
       "       20.6, 23.3, 19.6, 28. ,  5. , 24.4, 20.8, 24.8, 21.8, 23.6, 19. ,\n",
       "       25. , 20.3, 21.5])"
      ]
     },
     "execution_count": 144,
     "metadata": {},
     "output_type": "execute_result"
    }
   ],
   "source": [
    "housing_test_label.to_numpy() # CONVERTING PANDAS series to Numpy Array for better comparison."
   ]
  },
  {
   "cell_type": "code",
   "execution_count": 145,
   "id": "6b120072",
   "metadata": {},
   "outputs": [
    {
     "data": {
      "text/plain": [
       "array([22.15219036, 16.50612944, 29.7108211 , 30.11609506,  7.36111526,\n",
       "       11.89260396, 16.47524237, 17.05163735, 31.28233863, 36.05710077,\n",
       "       15.34581655, -1.42221103, 22.56886782, 19.6152368 , 19.6569791 ,\n",
       "       11.75441169, 30.27662359, 12.01020115, 24.85761316, 23.13758351,\n",
       "       19.96932745, 16.22828349, 18.54020997, 24.89475087, 17.74690857,\n",
       "       32.4247629 , 18.64745573, 33.44164936,  6.62956141, 33.76508988,\n",
       "       18.31247981, 20.9674819 , 28.76631855, 15.69426743, 25.69041866,\n",
       "       17.71246126, 36.58326397, 24.23513258, 22.13167519, 36.58297865,\n",
       "       24.73489586, 33.56130113, 22.88026314, 23.40742446, 17.78500652,\n",
       "       32.31298772, 38.82774164, 21.05048492, 16.68690467, 15.72875201,\n",
       "       20.53255095, 11.38228981, 19.01812724, 19.60497169, 27.61611532,\n",
       "       33.09731126, 40.46560649, 30.62778679, 13.96585128, 19.45996528,\n",
       "       39.99773615, 17.43907467, 14.49839257, 27.12673582, 18.82730466,\n",
       "       32.52771977, 21.62951989, 19.75113422, 19.75851659, 33.44915276,\n",
       "       33.20457731, 27.21186954, 23.77369947, 21.24013766, 35.39592821,\n",
       "        7.00247142, 15.34253754, 20.41116696, 20.29681617, 22.70883298,\n",
       "       25.59381707, 22.21127275, 11.67788404, 25.0998538 , 20.41296448,\n",
       "       23.57736264, 19.04646808, 21.2635989 , 22.10496042, 21.39859844,\n",
       "       17.25527707, 28.19646245,  6.42272965, 28.08433929, 17.81137343,\n",
       "       30.1165546 , 19.75204067, 31.02299644, 11.45841339, 27.40968948,\n",
       "       21.74437528, 24.58783675])"
      ]
     },
     "execution_count": 145,
     "metadata": {},
     "output_type": "execute_result"
    }
   ],
   "source": [
    "predicted_labels # compare with above values of test_labels"
   ]
  },
  {
   "cell_type": "markdown",
   "id": "17fd2d68",
   "metadata": {},
   "source": [
    "## 12.2 Using Decision tree regression model - (train as test data)-Overfitting "
   ]
  },
  {
   "cell_type": "code",
   "execution_count": 146,
   "id": "83bb2a2f",
   "metadata": {},
   "outputs": [],
   "source": [
    "# from sklearn.metrics import mean_squared_error\n",
    "# from sklearn.tree import DecisionTreeRegressor\n",
    "# housing_predictions = model.predict(housing_num_tr) # (finding predicted labels using training features)\n",
    "# lin_mse = mean_squared_error(housing_labels,housing_predictions) # finding error using (training label,predicted label)"
   ]
  },
  {
   "cell_type": "code",
   "execution_count": 147,
   "id": "6b968fc1",
   "metadata": {},
   "outputs": [],
   "source": [
    "from sklearn.linear_model import LinearRegression\n",
    "from sklearn.tree import DecisionTreeRegressor\n",
    "from sklearn.metrics import mean_squared_error\n",
    "from sklearn.ensemble import RandomForestRegressor # ensemble means combining multiple classifiers or regressors.\n",
    "\n",
    "#Important Note:  Model can be changed by commenting (Toggle between different models)\n",
    "# model = LinearRegression()\n",
    "# model = DecisionTreeRegressor() \n",
    "model= RandomForestRegressor ()\n",
    "model.fit(housing_num_tr,housing_labels)\n",
    "\n",
    "housing_predictions = model.predict(housing_num_tr) # (finding predicted labels using training features)\n",
    "mse = mean_squared_error(housing_labels,housing_predictions) # finding error using (training label,predicted label)\n",
    "rmse = np.sqrt(mse)"
   ]
  },
  {
   "cell_type": "code",
   "execution_count": 148,
   "id": "3d67a9a9",
   "metadata": {},
   "outputs": [
    {
     "data": {
      "text/plain": [
       "1.3535683217821768"
      ]
     },
     "execution_count": 148,
     "metadata": {},
     "output_type": "execute_result"
    }
   ],
   "source": [
    "mse"
   ]
  },
  {
   "cell_type": "code",
   "execution_count": 149,
   "id": "0af12f70",
   "metadata": {},
   "outputs": [
    {
     "data": {
      "text/plain": [
       "1.1634295517057218"
      ]
     },
     "execution_count": 149,
     "metadata": {},
     "output_type": "execute_result"
    }
   ],
   "source": [
    "rmse"
   ]
  },
  {
   "cell_type": "markdown",
   "id": "6d270494",
   "metadata": {},
   "source": [
    " Decision regression tree__zero error ? Its Overfitting. Model learned the noise and collected all label points trained and further were displayed as a predicted labels . I want the model to learn the trend not the noise. Check for overfitting screenshot.__(refer 2:33:40 vid)"
   ]
  },
  {
   "cell_type": "markdown",
   "id": "8315fa3a",
   "metadata": {},
   "source": [
    "# 13. Cross- Validation technique - For better results."
   ]
  },
  {
   "cell_type": "markdown",
   "id": "8775fb6a",
   "metadata": {},
   "source": [
    "[ 1 2 3 4 5 6 7 8 9 10 ] - Divide the dataset in 10 equal parts.\n",
    "\n",
    "    train - [2 3 4 5 6 7 8 9 10] test - [1]\n",
    "    train - [1 3 4 5 6 7 8 9 10] test - [2]\n",
    "    train - [1 2 4 5 6 7 8 9 10] test - [3]\n",
    "    train - [1 2 3 5 6 7 8 9 10] test - [4]...and so on"
   ]
  },
  {
   "cell_type": "code",
   "execution_count": 150,
   "id": "9fc90b68",
   "metadata": {},
   "outputs": [
    {
     "data": {
      "text/plain": [
       "array([ -7.71761854,  -7.44878546, -19.15988398,  -6.40554246,\n",
       "       -11.09923673,  -6.91888577, -22.69440867, -11.13168942,\n",
       "       -11.206134  , -10.20433655])"
      ]
     },
     "execution_count": 150,
     "metadata": {},
     "output_type": "execute_result"
    }
   ],
   "source": [
    "from sklearn.model_selection import cross_val_score\n",
    "scores = cross_val_score(model,housing_num_tr,housing_labels,scoring= \"neg_mean_squared_error\",cv=10) #read below\n",
    "scores # scores returned are negative based on maximization approach"
   ]
  },
  {
   "cell_type": "code",
   "execution_count": 151,
   "id": "56c66158",
   "metadata": {},
   "outputs": [
    {
     "data": {
      "text/plain": [
       "array([ 7.71761854,  7.44878546, 19.15988398,  6.40554246, 11.09923673,\n",
       "        6.91888577, 22.69440867, 11.13168942, 11.206134  , 10.20433655])"
      ]
     },
     "execution_count": 151,
     "metadata": {},
     "output_type": "execute_result"
    }
   ],
   "source": [
    "pos_scores= (-scores) #positive scores\n",
    "pos_scores"
   ]
  },
  {
   "cell_type": "code",
   "execution_count": 152,
   "id": "654c2a9c",
   "metadata": {},
   "outputs": [
    {
     "data": {
      "text/plain": [
       "array([2.77806021, 2.72924632, 4.37720047, 2.53091732, 3.3315517 ,\n",
       "       2.6303775 , 4.76386489, 3.33641865, 3.34755642, 3.19442273])"
      ]
     },
     "execution_count": 152,
     "metadata": {},
     "output_type": "execute_result"
    }
   ],
   "source": [
    "rmse_scores= np.sqrt(-scores) #taking squareroot of positive scores. rmse_scores= np.sqrt(pos_scores) will give same o/p\n",
    "rmse_scores # These are the mean of error of all 10 arrays we divided for validation. (2:39:46 - vid. linear regression same scores)"
   ]
  },
  {
   "cell_type": "markdown",
   "id": "03c14192",
   "metadata": {},
   "source": [
    "Why neg_mean_squared_error ? \n",
    "scoring = 'neg_mean_squared_error' in validation function will return negative output values. Assume if MSE is 5 it will return -5. If MSE is 9 it will return -9. This is because the cross_val_score function works on the maximization. __All scorer objects follow the convention that higher return values are better than lower return values__. \n",
    "\n",
    "    How ? Here is how:\n",
    "    Here while calculating error, 5 is better than 9. (lower is better)- if loss is considered.\n",
    "    cross_val_score funtion will turn it into -9 and -5.(just a sign flip) (higher is better)\n",
    "    In this case, for error, -5 seems better, and -9 seems worse(-9 < -5). \n",
    "    So by flipping the value of 5 to -5 , its property of being better is retained if so called __'higher the better'__ convention is followed.\n",
    "\n",
    "__So here to get the 'actual MSE' we just need to flip the 'negative values of error' we received from 'cross_val_score' validation function.__\n",
    "\n",
    "    Thus MSE = (negative of (O/P neg_mean_squared_error))\n",
    "    MSE = - (O/P neg_mean_squared_error)\n",
    "    \n",
    "__Thus, we can get the actual MSE which will be a positive integer.(Minimization approach) __\n",
    "    "
   ]
  },
  {
   "cell_type": "markdown",
   "id": "135a05a5",
   "metadata": {},
   "source": [
    "https://scikit-learn.org/stable/modules/model_evaluation.html#scoring-parameter\n",
    "\n",
    "https://www.kaggle.com/questions-and-answers/154600"
   ]
  },
  {
   "cell_type": "code",
   "execution_count": 153,
   "id": "705ebcee",
   "metadata": {},
   "outputs": [],
   "source": [
    "#Creating a function to print the results.\n",
    "def print_scores (scores):\n",
    "    print (\"Scores: \",scores)\n",
    "    print (\"Mean: \", scores.mean())\n",
    "    print (\"Standard Deviation: \", scores.std())"
   ]
  },
  {
   "cell_type": "code",
   "execution_count": 154,
   "id": "d40970c3",
   "metadata": {},
   "outputs": [
    {
     "name": "stdout",
     "output_type": "stream",
     "text": [
      "Scores:  [2.77806021 2.72924632 4.37720047 2.53091732 3.3315517  2.6303775\n",
      " 4.76386489 3.33641865 3.34755642 3.19442273]\n",
      "Mean:  3.301961620269954\n",
      "Standard Deviation:  0.7040608050208857\n"
     ]
    }
   ],
   "source": [
    "#Using function printing the results.\n",
    "print_scores(rmse_scores) "
   ]
  },
  {
   "cell_type": "markdown",
   "id": "86070cf2",
   "metadata": {},
   "source": [
    "# 14. Saving Model\n",
    "Creating a pickle for quick loading "
   ]
  },
  {
   "cell_type": "code",
   "execution_count": 155,
   "id": "6ccfa6e2",
   "metadata": {},
   "outputs": [
    {
     "data": {
      "text/plain": [
       "['PricePredictor.joblib']"
      ]
     },
     "execution_count": 155,
     "metadata": {},
     "output_type": "execute_result"
    }
   ],
   "source": [
    "from joblib import dump,load\n",
    "dump (model,'PricePredictor.joblib')"
   ]
  },
  {
   "cell_type": "markdown",
   "id": "f837e69d",
   "metadata": {},
   "source": [
    "# 15. Testing Model on Test Data"
   ]
  },
  {
   "cell_type": "code",
   "execution_count": 156,
   "id": "f61ebc08",
   "metadata": {},
   "outputs": [],
   "source": [
    "X_test = strat_test_set.drop('MEDV',axis=1)\n",
    "Y_test = strat_test_set['MEDV'].copy()\n",
    "X_test_prepared = my_pipeline.transform(X_test)\n",
    "\n",
    "final_predictions = model.predict(X_test_prepared)\n",
    "final_mse = mean_squared_error(Y_test,final_predictions) \n",
    "final_rmse = np.sqrt(final_mse)"
   ]
  },
  {
   "cell_type": "code",
   "execution_count": 157,
   "id": "a017318d",
   "metadata": {},
   "outputs": [
    {
     "data": {
      "text/plain": [
       "3.4584697341397663"
      ]
     },
     "execution_count": 157,
     "metadata": {},
     "output_type": "execute_result"
    }
   ],
   "source": [
    "final_rmse"
   ]
  },
  {
   "cell_type": "code",
   "execution_count": 158,
   "id": "c646b929",
   "metadata": {},
   "outputs": [
    {
     "name": "stdout",
     "output_type": "stream",
     "text": [
      "Scores:  3.4584697341397663\n",
      "Mean:  3.4584697341397663\n",
      "Standard Deviation:  0.0\n"
     ]
    }
   ],
   "source": [
    "print_scores(final_rmse) #scores and mean are same and std deviation is zero because cross validation is not applied."
   ]
  },
  {
   "cell_type": "code",
   "execution_count": 159,
   "id": "6f623816",
   "metadata": {},
   "outputs": [
    {
     "name": "stdout",
     "output_type": "stream",
     "text": [
      "[24.522  9.804 25.366 21.71  17.258 14.849 19.075 14.836 32.323 40.907\n",
      " 18.588  9.213 24.294 30.052 20.671 11.92  32.491 14.423 23.431 16.724\n",
      " 19.242 15.404 17.864 21.526 17.42  30.717 16.019 31.559  9.705 34.205\n",
      " 23.445 20.926 23.022  8.692 20.028 12.341 42.746 23.502 23.46  44.165\n",
      " 23.135 27.506 20.017 22.058 15.916 32.946 44.577 21.265 18.274 21.651\n",
      " 21.349 14.768 19.692 14.115 25.119 33.651 42.094 28.024 18.066 20.875\n",
      " 47.823 11.024 19.152 22.527 14.427 38.651 18.607 17.532 17.512 34.61\n",
      " 27.458 22.93  20.006 22.833 35.767 13.212 15.683 20.298 21.44  21.424\n",
      " 22.618 22.259 14.872 23.541 20.937 21.4   14.053 20.303 22.527 23.242\n",
      " 17.509 27.209  8.501 25.256 16.122 30.727 19.945 31.571 13.755 25.778\n",
      " 18.158 17.56 ] [16.5, 10.2, 30.1, 23.0, 14.4, 15.6, 19.4, 14.1, 30.3, 35.2, 23.1, 13.8, 25.0, 27.9, 19.5, 12.3, 32.2, 13.5, 23.8, 21.7, 19.2, 19.5, 10.4, 23.2, 18.6, 28.5, 15.2, 32.0, 7.2, 34.6, 20.1, 20.6, 23.6, 13.1, 23.8, 12.7, 43.1, 24.7, 22.2, 44.0, 28.1, 31.0, 21.7, 23.4, 19.5, 33.1, 41.7, 18.7, 19.9, 20.6, 21.2, 13.6, 20.3, 17.8, 27.1, 31.5, 50.0, 29.1, 18.9, 20.4, 50.0, 7.2, 17.2, 36.2, 14.6, 33.2, 23.8, 19.9, 21.5, 37.3, 27.0, 22.0, 24.3, 19.8, 33.3, 7.0, 19.4, 20.9, 21.1, 20.4, 22.2, 11.9, 11.7, 21.6, 19.7, 23.0, 16.7, 21.7, 20.6, 23.3, 19.6, 28.0, 5.0, 24.4, 20.8, 24.8, 21.8, 23.6, 19.0, 25.0, 20.3, 21.5]\n"
     ]
    }
   ],
   "source": [
    "print(final_predictions, list(Y_test))"
   ]
  },
  {
   "cell_type": "code",
   "execution_count": 160,
   "id": "41b504c4",
   "metadata": {},
   "outputs": [
    {
     "data": {
      "text/plain": [
       "array([[-0.43942006,  3.12628155, -1.12165014, -0.27288841, -1.42262747,\n",
       "        -0.23979304, -1.31238772,  2.61111401, -1.0016859 , -0.5778192 ,\n",
       "        -0.97491834,  0.41164221, -0.86091034],\n",
       "       [-0.44352175,  3.12628155, -1.35893781, -0.27288841, -1.0542567 ,\n",
       "         0.5009123 , -1.3938808 ,  2.19312325, -0.65766683, -0.78557904,\n",
       "        -0.69277865,  0.39131918, -0.94116739],\n",
       "       [ 0.15682292, -0.4898311 ,  0.98336806, -0.27288841,  0.47919371,\n",
       "         0.28867984,  0.87020968, -0.68730678,  1.63579367,  1.50571521,\n",
       "         0.81196637,  0.44624347,  0.81480158],\n",
       "       [-0.42292925, -0.4898311 , -0.57719868, -0.27288841, -0.5573845 ,\n",
       "         0.13688444, -0.52225911,  0.37882487, -0.5429938 , -0.74402708,\n",
       "         0.52982668,  0.45343469, -0.81939807],\n",
       "       [-0.40786253, -0.4898311 , -0.57719868, -0.27288841, -0.5573845 ,\n",
       "         0.04693161, -1.42222622,  0.79643404, -0.5429938 , -0.74402708,\n",
       "         0.52982668,  0.45343469, -0.91902752]])"
      ]
     },
     "execution_count": 160,
     "metadata": {},
     "output_type": "execute_result"
    }
   ],
   "source": [
    "prepared_data"
   ]
  },
  {
   "cell_type": "markdown",
   "id": "bbc6318e",
   "metadata": {},
   "source": [
    "# Using the model with new input data"
   ]
  },
  {
   "cell_type": "code",
   "execution_count": 1,
   "id": "c67110a5",
   "metadata": {},
   "outputs": [],
   "source": [
    "from joblib import dump,load\n",
    "model = load ('PricePredictor.joblib')"
   ]
  },
  {
   "cell_type": "code",
   "execution_count": 2,
   "id": "dba8b5a4",
   "metadata": {},
   "outputs": [],
   "source": [
    "import numpy as np\n",
    "new_features = np.array([[-0.43942006,  3.12628155, -1.12165014, -0.27288841, -1.42262747,\n",
    "        -4.23979304, -1.31238772,  2.61111401, -1.0016859 , -0.5778192 ,\n",
    "        -7.7491834,  0.41164221, -0.86091034]])"
   ]
  },
  {
   "cell_type": "code",
   "execution_count": 3,
   "id": "10f1c543",
   "metadata": {},
   "outputs": [
    {
     "data": {
      "text/plain": [
       "array([21.343])"
      ]
     },
     "execution_count": 3,
     "metadata": {},
     "output_type": "execute_result"
    }
   ],
   "source": [
    "model.predict(new_features)"
   ]
  },
  {
   "cell_type": "code",
   "execution_count": null,
   "id": "989a781e",
   "metadata": {},
   "outputs": [],
   "source": []
  }
 ],
 "metadata": {
  "kernelspec": {
   "display_name": "Python 3 (ipykernel)",
   "language": "python",
   "name": "python3"
  },
  "language_info": {
   "codemirror_mode": {
    "name": "ipython",
    "version": 3
   },
   "file_extension": ".py",
   "mimetype": "text/x-python",
   "name": "python",
   "nbconvert_exporter": "python",
   "pygments_lexer": "ipython3",
   "version": "3.9.12"
  }
 },
 "nbformat": 4,
 "nbformat_minor": 5
}
